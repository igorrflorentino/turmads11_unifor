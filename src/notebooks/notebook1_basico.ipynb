{
 "cells": [
  {
   "cell_type": "markdown",
   "metadata": {},
   "source": [
    "# 📡 Notebook 1: Requisição e Extração de Conteúdo\n",
    "\n",
    "**Objetivo**: Aprender como fazer requisições HTTP e capturar conteúdo web básico\n",
    "\n",
    "**O que vamos fazer:**\n",
    "1. 🔧 Configurar bibliotecas necessárias\n",
    "2. 🌐 Fazer requisição HTTP para o G1 RSS\n",
    "3. 📊 Analisar o conteúdo capturado\n",
    "4. 👀 Visualizar primeiras impressões dos dados\n",
    "\n",
    "---"
   ]
  },
  {
   "cell_type": "markdown",
   "metadata": {},
   "source": [
    "## 🔧 1. Importação de Bibliotecas\n",
    "\n",
    "Vamos começar importando a biblioteca `requests` que usaremos para fazer as requisições HTTP."
   ]
  },
  {
   "cell_type": "code",
   "execution_count": 1,
   "metadata": {},
   "outputs": [
    {
     "name": "stdout",
     "output_type": "stream",
     "text": [
      "✅ Bibliotecas importadas com sucesso!\n",
      "📦 Versão do requests: 2.32.4\n",
      "🕐 Executado em: 2025-08-08 17:27:52\n"
     ]
    }
   ],
   "source": [
    "# Importar bibliotecas necessárias\n",
    "import requests\n",
    "from datetime import datetime\n",
    "\n",
    "print(\"✅ Bibliotecas importadas com sucesso!\")\n",
    "print(f\"📦 Versão do requests: {requests.__version__}\")\n",
    "print(f\"🕐 Executado em: {datetime.now().strftime('%Y-%m-%d %H:%M:%S')}\")"
   ]
  },
  {
   "cell_type": "markdown",
   "metadata": {},
   "source": [
    "## 🌐 2. Configuração da Requisição\n",
    "\n",
    "Vamos definir a URL do G1 RSS e configurar os headers para nossa requisição."
   ]
  },
  {
   "cell_type": "code",
   "execution_count": 2,
   "metadata": {},
   "outputs": [
    {
     "name": "stdout",
     "output_type": "stream",
     "text": [
      "🎯 URL alvo: https://g1.globo.com/rss/g1/brasil/\n",
      "📋 Headers configurados: 5 itens\n",
      "\n",
      "📝 Headers utilizados:\n",
      "   User-Agent: Mozilla/5.0 (Windows NT 10.0; Win64; x64) AppleWeb...\n",
      "   Accept: text/html,application/xhtml+xml,application/xml;q=...\n",
      "   Accept-Language: pt-BR,pt;q=0.9,en;q=0.8\n",
      "   Accept-Encoding: gzip, deflate, br\n",
      "   Connection: keep-alive\n"
     ]
    }
   ],
   "source": [
    "# Configuração da URL e headers\n",
    "url = \"https://g1.globo.com/rss/g1/brasil/\"\n",
    "\n",
    "# Headers para simular um navegador real\n",
    "headers = {\n",
    "    'User-Agent': 'Mozilla/5.0 (Windows NT 10.0; Win64; x64) AppleWebKit/537.36 (KHTML, like Gecko) Chrome/91.0.4472.124 Safari/537.36',\n",
    "    'Accept': 'text/html,application/xhtml+xml,application/xml;q=0.9,*/*;q=0.8',\n",
    "    'Accept-Language': 'pt-BR,pt;q=0.9,en;q=0.8',\n",
    "    'Accept-Encoding': 'gzip, deflate, br',\n",
    "    'Connection': 'keep-alive'\n",
    "}\n",
    "\n",
    "print(f\"🎯 URL alvo: {url}\")\n",
    "print(f\"📋 Headers configurados: {len(headers)} itens\")\n",
    "print(\"\\n📝 Headers utilizados:\")\n",
    "for key, value in headers.items():\n",
    "    print(f\"   {key}: {value[:50]}...\" if len(value) > 50 else f\"   {key}: {value}\")"
   ]
  },
  {
   "cell_type": "markdown",
   "metadata": {},
   "source": [
    "## 🚀 3. Fazendo a Requisição HTTP\n",
    "\n",
    "Agora vamos fazer a requisição propriamente dita e capturar o conteúdo da página."
   ]
  },
  {
   "cell_type": "code",
   "execution_count": 3,
   "metadata": {},
   "outputs": [
    {
     "name": "stdout",
     "output_type": "stream",
     "text": [
      "🔄 Fazendo requisição para: https://g1.globo.com/rss/g1/brasil/\n"
     ]
    }
   ],
   "source": [
    "def fazer_requisicao(url, headers):\n",
    "    \"\"\"\n",
    "    Faz uma requisição HTTP para a URL especificada\n",
    "    \n",
    "    Args:\n",
    "        url (str): URL para fazer a requisição\n",
    "        headers (dict): Headers HTTP para a requisição\n",
    "        \n",
    "    Returns:\n",
    "        tuple: (sucesso, conteudo, info_requisicao)\n",
    "    \"\"\"\n",
    "    try:\n",
    "        print(f\"🔄 Fazendo requisição para: {url}\")\n",
    "        \n",
    "        # Fazer a requisição com timeout\n",
    "        response = requests.get(url, headers=headers, timeout=10)\n",
    "        \n",
    "        # Verificar se a requisição foi bem-sucedida\n",
    "        response.raise_for_status()\n",
    "        \n",
    "        # Informações da requisição\n",
    "        info = {\n",
    "            'status_code': response.status_code,\n",
    "            'tamanho_conteudo': len(response.text),\n",
    "            'encoding': response.encoding,\n",
    "            'content_type': response.headers.get('content-type', 'N/A'),\n",
    "            'tempo_resposta': response.elapsed.total_seconds()\n",
    "        }\n",
    "        \n",
    "        return True, response.text, info\n",
    "        \n",
    "    except requests.exceptions.RequestException as e:\n",
    "        print(f\"❌ Erro na requisição: {e}\")\n",
    "        return False, None, None\n",
    "\n",
    "# Executar a requisição\n",
    "sucesso, conteudo, info_requisicao = fazer_requisicao(url, headers)"
   ]
  },
  {
   "cell_type": "markdown",
   "metadata": {},
   "source": [
    "## 📊 4. Análise dos Resultados da Requisição\n",
    "\n",
    "Vamos analisar se a requisição foi bem-sucedida e examinar as informações retornadas."
   ]
  },
  {
   "cell_type": "code",
   "execution_count": 4,
   "metadata": {},
   "outputs": [
    {
     "name": "stdout",
     "output_type": "stream",
     "text": [
      "🎉 REQUISIÇÃO BEM-SUCEDIDA!\n",
      "========================================\n",
      "📊 Status Code: 200\n",
      "📏 Tamanho do conteúdo: 303,196 caracteres\n",
      "🔤 Encoding: UTF-8\n",
      "📋 Content-Type: application/xml; charset=UTF-8\n",
      "⏱️ Tempo de resposta: 0.23 segundos\n",
      "\n",
      "📈 ESTATÍSTICAS DO CONTEÚDO:\n",
      "   Número de linhas: 1,463\n",
      "   Tamanho em KB: 303.04 KB\n"
     ]
    }
   ],
   "source": [
    "if sucesso and conteudo:\n",
    "    print(\"🎉 REQUISIÇÃO BEM-SUCEDIDA!\")\n",
    "    print(\"=\" * 40)\n",
    "    \n",
    "    # Exibir informações da requisição\n",
    "    print(f\"📊 Status Code: {info_requisicao['status_code']}\")\n",
    "    print(f\"📏 Tamanho do conteúdo: {info_requisicao['tamanho_conteudo']:,} caracteres\")\n",
    "    print(f\"🔤 Encoding: {info_requisicao['encoding']}\")\n",
    "    print(f\"📋 Content-Type: {info_requisicao['content_type']}\")\n",
    "    print(f\"⏱️ Tempo de resposta: {info_requisicao['tempo_resposta']:.2f} segundos\")\n",
    "    \n",
    "    # Estatísticas básicas do conteúdo\n",
    "    linhas = conteudo.splitlines()\n",
    "    print(f\"\\n📈 ESTATÍSTICAS DO CONTEÚDO:\")\n",
    "    print(f\"   Número de linhas: {len(linhas):,}\")\n",
    "    print(f\"   Tamanho em KB: {len(conteudo.encode('utf-8')) / 1024:.2f} KB\")\n",
    "    \n",
    "else:\n",
    "    print(\"❌ FALHA NA REQUISIÇÃO!\")\n",
    "    print(\"Verifique sua conexão com a internet e tente novamente.\")"
   ]
  },
  {
   "cell_type": "markdown",
   "metadata": {},
   "source": [
    "## 👀 5. Primeiro Olhar no Conteúdo Capturado\n",
    "\n",
    "Vamos dar uma primeira olhada no conteúdo que capturamos para entender com o que estamos trabalhando."
   ]
  },
  {
   "cell_type": "code",
   "execution_count": 5,
   "metadata": {},
   "outputs": [
    {
     "name": "stdout",
     "output_type": "stream",
     "text": [
      "🔍 PRIMEIROS 500 CARACTERES DO CONTEÚDO:\n",
      "==================================================\n",
      "<?xml version='1.0' encoding='UTF-8'?>\n",
      "<rss xmlns:atom=\"http://www.w3.org/2005/Atom\" xmlns:media=\"http://search.yahoo.com/mrss/\" version=\"2.0\">  <channel> <title>g1</title> <link>http://g1.globo.com</link> <description>RSS do g1</description> <language>pt-BR</language> <copyright>© Copyright Globo Comunicação e Participações S.A.</copyright> <atom:link href=\"https://g1.globo.com/rss/g1/brasil/\" rel=\"self\" type=\"application/rss+xml\"/> <image> <url>https://s2-g1.glbimg.com/9yYCBhtSsy23W0pNwYgEil7i\n",
      "...\n",
      "\n",
      "🔍 ÚLTIMOS 300 CARACTERES DO CONTEÚDO:\n",
      "==================================================\n",
      "...\n",
      "l=\"https://s2-g1.glbimg.com/KlvXMStC81CxaesUQarWSFtw8s8=/i.s3.glbimg.com/v1/AUTH_59edd422c0c84a879bd37670ae4f538a/internal_photos/bs/2018/f/h/JKCcR1SLm5z66ZwDZ4EA/dsc-0174.jpg\" medium=\"image\"/>    <category>G1</category> <pubDate>Sat, 21 Jul 2018 23:55:36 -0000</pubDate>  </item>  </channel>  </rss>\n"
     ]
    }
   ],
   "source": [
    "if conteudo:\n",
    "    print(\"🔍 PRIMEIROS 500 CARACTERES DO CONTEÚDO:\")\n",
    "    print(\"=\" * 50)\n",
    "    print(conteudo[:500])\n",
    "    print(\"...\")\n",
    "    \n",
    "    print(\"\\n🔍 ÚLTIMOS 300 CARACTERES DO CONTEÚDO:\")\n",
    "    print(\"=\" * 50)\n",
    "    print(\"...\")\n",
    "    print(conteudo[-300:])"
   ]
  },
  {
   "cell_type": "markdown",
   "metadata": {},
   "source": [
    "## 🔍 6. Análise Preliminar da Estrutura\n",
    "\n",
    "Vamos fazer uma análise básica para identificar que tipo de conteúdo capturamos."
   ]
  },
  {
   "cell_type": "code",
   "execution_count": 6,
   "metadata": {},
   "outputs": [
    {
     "name": "stdout",
     "output_type": "stream",
     "text": [
      "🧐 ANÁLISE PRELIMINAR DA ESTRUTURA:\n",
      "=============================================\n",
      "✅ Formato identificado: XML/RSS\n",
      "\n",
      "📊 CONTAGEM DE ELEMENTOS RSS:\n",
      "   <channel>: 1 ocorrências\n",
      "   <item>: 100 ocorrências\n",
      "   <title>: 102 ocorrências\n",
      "   <link>: 102 ocorrências\n",
      "   <description>: 101 ocorrências\n",
      "   <pubDate>: 100 ocorrências\n",
      "\n",
      "🗞️ ESTIMATIVA: ~100 notícias encontradas\n"
     ]
    }
   ],
   "source": [
    "if conteudo:\n",
    "    print(\"🧐 ANÁLISE PRELIMINAR DA ESTRUTURA:\")\n",
    "    print(\"=\" * 45)\n",
    "    \n",
    "    # Verificar se é XML/RSS\n",
    "    if '<?xml' in conteudo[:100]:\n",
    "        print(\"✅ Formato identificado: XML/RSS\")\n",
    "    elif '<html' in conteudo[:200].lower():\n",
    "        print(\"✅ Formato identificado: HTML\")\n",
    "    else:\n",
    "        print(\"❓ Formato não identificado claramente\")\n",
    "    \n",
    "    # Contar elementos importantes para RSS\n",
    "    elementos_rss = {\n",
    "        '<channel>': conteudo.count('<channel>'),\n",
    "        '<item>': conteudo.count('<item>'),\n",
    "        '<title>': conteudo.count('<title>'),\n",
    "        '<link>': conteudo.count('<link>'),\n",
    "        '<description>': conteudo.count('<description>'),\n",
    "        '<pubDate>': conteudo.count('<pubDate>')\n",
    "    }\n",
    "    \n",
    "    print(\"\\n📊 CONTAGEM DE ELEMENTOS RSS:\")\n",
    "    for elemento, quantidade in elementos_rss.items():\n",
    "        print(f\"   {elemento}: {quantidade} ocorrências\")\n",
    "    \n",
    "    # Tentar encontrar quantas notícias temos\n",
    "    num_noticias = elementos_rss['<item>']\n",
    "    print(f\"\\n🗞️ ESTIMATIVA: ~{num_noticias} notícias encontradas\")"
   ]
  },
  {
   "cell_type": "markdown",
   "metadata": {},
   "source": [
    "## 📝 7. Salvando uma Amostra do Conteúdo\n",
    "\n",
    "Vamos salvar uma pequena amostra do conteúdo para análise posterior."
   ]
  },
  {
   "cell_type": "code",
   "execution_count": null,
   "metadata": {},
   "outputs": [],
   "source": [
    "if conteudo:\n",
    "    # Salvar amostra dos primeiros 2000 caracteres\n",
    "    amostra = conteudo[:2000]\n",
    "    \n",
    "    nome_arquivo = f\"amostra_conteudo_{datetime.now().strftime('%Y%m%d_%H%M%S')}.txt\"\n",
    "    \n",
    "    try:\n",
    "        with open(nome_arquivo, 'w', encoding='utf-8') as arquivo:\n",
    "            arquivo.write(\"=== AMOSTRA DO CONTEÚDO CAPTURADO ===\\n\")\n",
    "            arquivo.write(f\"URL: {url}\\n\")\n",
    "            arquivo.write(f\"Data/Hora: {datetime.now().strftime('%Y-%m-%d %H:%M:%S')}\\n\")\n",
    "            arquivo.write(f\"Tamanho total: {len(conteudo)} caracteres\\n\")\n",
    "            arquivo.write(\"=\" * 50 + \"\\n\\n\")\n",
    "            arquivo.write(amostra)\n",
    "            arquivo.write(\"\\n\\n... (conteúdo truncado)\")\n",
    "        \n",
    "        print(f\"💾 Amostra salva em: {nome_arquivo}\")\n",
    "        print(f\"📏 Tamanho da amostra: {len(amostra)} caracteres\")\n",
    "        \n",
    "    except Exception as e:\n",
    "        print(f\"❌ Erro ao salvar amostra: {e}\")"
   ]
  },
  {
   "cell_type": "markdown",
   "metadata": {},
   "source": [
    "## 🎯 8. Resumo e Próximos Passos\n",
    "\n",
    "Vamos fazer um resumo do que aprendemos neste primeiro notebook."
   ]
  },
  {
   "cell_type": "code",
   "execution_count": 7,
   "metadata": {},
   "outputs": [
    {
     "name": "stdout",
     "output_type": "stream",
     "text": [
      "🎉 RESUMO DO NOTEBOOK 1 - REQUISIÇÃO E EXTRAÇÃO\n",
      "=======================================================\n",
      "✅ Status: SUCESSO!\n",
      "📊 Dados capturados: 303,196 caracteres\n",
      "🗞️ Notícias estimadas: ~100\n",
      "⏱️ Tempo de resposta: 0.23s\n",
      "\n",
      "📚 O QUE APRENDEMOS:\n",
      "   🔧 Como fazer requisições HTTP com Python\n",
      "   📋 Como configurar headers para simular um navegador\n",
      "   📊 Como analisar informações básicas de uma resposta HTTP\n",
      "   🔍 Como fazer análise preliminar de conteúdo web\n",
      "   💾 Como salvar dados capturados\n",
      "\n",
      "🎯 PRÓXIMOS PASSOS:\n",
      "   📓 Notebook 2: Apresentar e analisar o HTML capturado\n",
      "   🔍 Notebook 3: Parsear tags XML e extrair informações\n",
      "   📊 Notebook 4: Criar CSV com dados estruturados\n",
      "\n",
      "=======================================================\n",
      "🚀 Pronto para o próximo notebook!\n"
     ]
    }
   ],
   "source": [
    "print(\"🎉 RESUMO DO NOTEBOOK 1 - REQUISIÇÃO E EXTRAÇÃO\")\n",
    "print(\"=\" * 55)\n",
    "\n",
    "if sucesso:\n",
    "    print(\"✅ Status: SUCESSO!\")\n",
    "    print(f\"📊 Dados capturados: {info_requisicao['tamanho_conteudo']:,} caracteres\")\n",
    "    print(f\"🗞️ Notícias estimadas: ~{conteudo.count('<item>')}\")\n",
    "    print(f\"⏱️ Tempo de resposta: {info_requisicao['tempo_resposta']:.2f}s\")\n",
    "else:\n",
    "    print(\"❌ Status: FALHA na requisição\")\n",
    "\n",
    "print(\"\\n📚 O QUE APRENDEMOS:\")\n",
    "print(\"   🔧 Como fazer requisições HTTP com Python\")\n",
    "print(\"   📋 Como configurar headers para simular um navegador\")\n",
    "print(\"   📊 Como analisar informações básicas de uma resposta HTTP\")\n",
    "print(\"   🔍 Como fazer análise preliminar de conteúdo web\")\n",
    "print(\"   💾 Como salvar dados capturados\")\n",
    "\n",
    "print(\"\\n🎯 PRÓXIMOS PASSOS:\")\n",
    "print(\"   📓 Notebook 2: Apresentar e analisar o HTML capturado\")\n",
    "print(\"   🔍 Notebook 3: Parsear tags XML e extrair informações\")\n",
    "print(\"   📊 Notebook 4: Criar CSV com dados estruturados\")\n",
    "\n",
    "print(\"\\n\" + \"=\" * 55)\n",
    "print(\"🚀 Pronto para o próximo notebook!\")"
   ]
  }
 ],
 "metadata": {
  "kernelspec": {
   "display_name": "aula01",
   "language": "python",
   "name": "python3"
  },
  "language_info": {
   "codemirror_mode": {
    "name": "ipython",
    "version": 3
   },
   "file_extension": ".py",
   "mimetype": "text/x-python",
   "name": "python",
   "nbconvert_exporter": "python",
   "pygments_lexer": "ipython3",
   "version": "3.12.10"
  }
 },
 "nbformat": 4,
 "nbformat_minor": 4
}
