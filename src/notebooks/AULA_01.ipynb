{
  "nbformat": 4,
  "nbformat_minor": 0,
  "metadata": {
    "colab": {
      "provenance": []
    },
    "kernelspec": {
      "name": "python3",
      "display_name": "Python 3"
    },
    "language_info": {
      "name": "python"
    }
  },
  "cells": [
    {
      "cell_type": "markdown",
      "source": [
        "# DATA HARVESTING"
      ],
      "metadata": {
        "id": "_jVhN0QJOrC7"
      }
    },
    {
      "cell_type": "code",
      "execution_count": 1,
      "metadata": {
        "id": "oa1MRtM4Nj9F"
      },
      "outputs": [],
      "source": [
        "from urllib.request import urlopen\n",
        "from bs4 import BeautifulSoup\n",
        "import re"
      ]
    },
    {
      "cell_type": "code",
      "source": [
        "pastas = !ls\n",
        "pastas"
      ],
      "metadata": {
        "colab": {
          "base_uri": "https://localhost:8080/"
        },
        "id": "ByeLEAjAQjgh",
        "outputId": "49254fc7-1c77-4876-e51f-73cf3478d6a8"
      },
      "execution_count": 2,
      "outputs": [
        {
          "output_type": "execute_result",
          "data": {
            "text/plain": [
              "['drive  sample_data']"
            ]
          },
          "metadata": {},
          "execution_count": 2
        }
      ]
    },
    {
      "cell_type": "code",
      "source": [
        "# boa prática para constantes LETRAMAIUSCULA\n",
        "HTML = urlopen(\"file:////content/drive/MyDrive/MBA/UNIFOR/DATA SCIENCE/2023/DATA HARVESTING/html/html.html\")"
      ],
      "metadata": {
        "id": "DRYUg7hOPZ9S"
      },
      "execution_count": 4,
      "outputs": []
    },
    {
      "cell_type": "markdown",
      "source": [
        "## Pontos iniciais"
      ],
      "metadata": {
        "id": "DbIhMyG4UB7s"
      }
    },
    {
      "cell_type": "code",
      "source": [
        "# read() - recebe o objeto do urlopen com o conteudo da pagina, arquivo.\n",
        "# html.parser e lxml - é uma espécie de extrator de dados, ele faz a leitura e coleta do arquivo html posicionados no .read()\n",
        "# BeautifulSoup - recebe os parametros anteriores e instancia o objeto bs com o response, retorno, resposta, saida, etc...\n",
        "\n",
        "bs = BeautifulSoup(HTML.read(), 'lxml')"
      ],
      "metadata": {
        "id": "CxV0Y8LVPaeh"
      },
      "execution_count": 5,
      "outputs": []
    },
    {
      "cell_type": "markdown",
      "source": [
        "## Falando de Parsers\n",
        "html.parser - sem dependencias e velocidade media, leniencia media\n",
        "\n",
        "html5lib - mais leniente a problemas no html, baixa velocidade e possui dependencia\n",
        "\n",
        "lxml - o mais rapido, pouco leniente a falhas no html"
      ],
      "metadata": {
        "id": "whSTOYI_QIfm"
      }
    },
    {
      "cell_type": "markdown",
      "source": [
        "### Visualizando o HTML"
      ],
      "metadata": {
        "id": "RfCSV8mh9nQD"
      }
    },
    {
      "cell_type": "code",
      "source": [
        "#bs"
      ],
      "metadata": {
        "id": "Wg5FLEE2ReNR"
      },
      "execution_count": null,
      "outputs": []
    },
    {
      "cell_type": "markdown",
      "source": [
        "#### Raspagem do HTML"
      ],
      "metadata": {
        "id": "egx6buBpSQgL"
      }
    },
    {
      "cell_type": "markdown",
      "source": [
        "Exercicio 1\n",
        "Vamos lá! Capturar o texto da tag P que está na DIV de classe CABECALHO.\n",
        "Depois imprima na tela o resultado."
      ],
      "metadata": {
        "id": "yYyz4Jw4Rzz9"
      }
    },
    {
      "cell_type": "code",
      "source": [
        "main = bs.find('div')"
      ],
      "metadata": {
        "id": "MD7ZU3lDi4cQ"
      },
      "execution_count": 5,
      "outputs": []
    },
    {
      "cell_type": "code",
      "source": [
        "for x in range(len(main.find_all('div'))):\n",
        "  print(main.find_all('div')[x])"
      ],
      "metadata": {
        "colab": {
          "base_uri": "https://localhost:8080/"
        },
        "id": "uWfRiu5sjTnB",
        "outputId": "ddba8b02-20bc-4c7a-e285-b15475598010"
      },
      "execution_count": 6,
      "outputs": [
        {
          "output_type": "stream",
          "name": "stdout",
          "text": [
            "<div class=\"cabecalho\">\n",
            "<h1>OLA PESSOAL COMO VAI, AQUI É HTML</h1>\n",
            "<p>Oi pessoal eu sou um parágrafo. E estou dentro de uma tag chamada DIV. Ela serve para formatar as partes de um site.</p>\n",
            "</div>\n",
            "<div class=\"conteudo\">\n",
            "<h2>Oi, eu faço um título ficar mais com cara de título!</h2>\n",
            "<ul>\n",
            "<li>\n",
            "<ul>\n",
            "<li class=\"link\"><a href=\"https://amazon.br/python_para_nubbies\" target=\"_blank\">Link1</a></li>\n",
            "<li class=\"titulo\">Python para Nubbies</li>\n",
            "<li class=\"subtitulo\">Python.Lorem Ipsum Dolor amec ist dolor sit dum</li>\n",
            "<li class=\"id_produto\">x1555842</li>\n",
            "<li class=\"preco\">R$150,99</li>\n",
            "</ul>\n",
            "<ul>\n",
            "<li class=\"link\"><a href=\"https://amazon.br/webscrapping\" target=\"_blank\">Link2</a></li>\n",
            "<li class=\"titulo\">Python Webscrapping</li>\n",
            "<li class=\"subtitulo\">Webscrapping Lorem Ipsum Dolor amec ist dolor sit dum.</li>\n",
            "<li class=\"id_produto\">x1555555</li>\n",
            "<li class=\"preco\">R$85,99</li>\n",
            "</ul>\n",
            "<ul>\n",
            "<li class=\"link\"><a href=\"https://amazon.br/html_para_leigos\" target=\"_blank\">Link3</a></li>\n",
            "<li class=\"titulo\">HTML para leigos</li>\n",
            "<li class=\"subtitulo\">HTML para leigos Lorem Ipsum Dolor amec ist dolor sit dum.</li>\n",
            "<li class=\"id_produto\">x1555377</li>\n",
            "<li class=\"preco\">R$55,99</li>\n",
            "</ul>\n",
            "<ul>\n",
            "<li class=\"link\"><a href=\"https://amazon.br/java_e_python\" target=\"_blank\">Link4</a></li>\n",
            "<li class=\"titulo\">JAVA e PYTHON</li>\n",
            "<li class=\"subtitulo\">JAVA e PYTHON Lorem Ipsum Dolor amec ist dolor sit dum.</li>\n",
            "<li class=\"id_produto\">x1555250</li>\n",
            "<li class=\"preco\">R$200,99</li>\n",
            "</ul>\n",
            "</li>\n",
            "</ul>\n",
            "<p class=\"descricao\">Vocês viram o UL e o LI, eles respondem na hora que precisamos escrever listas. Serve muito para menus.</p>\n",
            "</div>\n",
            "<div class=\"rodape\">\n",
            "<h3>Estamos no rodape da pagina. Aqui diria que seria o final do site que está no html.</h3>\n",
            "</div>\n"
          ]
        }
      ]
    },
    {
      "cell_type": "code",
      "source": [
        "main.find('div', {'class':'conteudo'}).ul.find_all('ul')"
      ],
      "metadata": {
        "colab": {
          "base_uri": "https://localhost:8080/"
        },
        "id": "ggiAtCGisU-V",
        "outputId": "e7c45c79-eaf0-48e7-e697-628f10282c1a"
      },
      "execution_count": 7,
      "outputs": [
        {
          "output_type": "execute_result",
          "data": {
            "text/plain": [
              "[<ul>\n",
              " <li class=\"link\"><a href=\"https://amazon.br/python_para_nubbies\" target=\"_blank\">Link1</a></li>\n",
              " <li class=\"titulo\">Python para Nubbies</li>\n",
              " <li class=\"subtitulo\">Python.Lorem Ipsum Dolor amec ist dolor sit dum</li>\n",
              " <li class=\"id_produto\">x1555842</li>\n",
              " <li class=\"preco\">R$150,99</li>\n",
              " </ul>,\n",
              " <ul>\n",
              " <li class=\"link\"><a href=\"https://amazon.br/webscrapping\" target=\"_blank\">Link2</a></li>\n",
              " <li class=\"titulo\">Python Webscrapping</li>\n",
              " <li class=\"subtitulo\">Webscrapping Lorem Ipsum Dolor amec ist dolor sit dum.</li>\n",
              " <li class=\"id_produto\">x1555555</li>\n",
              " <li class=\"preco\">R$85,99</li>\n",
              " </ul>,\n",
              " <ul>\n",
              " <li class=\"link\"><a href=\"https://amazon.br/html_para_leigos\" target=\"_blank\">Link3</a></li>\n",
              " <li class=\"titulo\">HTML para leigos</li>\n",
              " <li class=\"subtitulo\">HTML para leigos Lorem Ipsum Dolor amec ist dolor sit dum.</li>\n",
              " <li class=\"id_produto\">x1555377</li>\n",
              " <li class=\"preco\">R$55,99</li>\n",
              " </ul>,\n",
              " <ul>\n",
              " <li class=\"link\"><a href=\"https://amazon.br/java_e_python\" target=\"_blank\">Link4</a></li>\n",
              " <li class=\"titulo\">JAVA e PYTHON</li>\n",
              " <li class=\"subtitulo\">JAVA e PYTHON Lorem Ipsum Dolor amec ist dolor sit dum.</li>\n",
              " <li class=\"id_produto\">x1555250</li>\n",
              " <li class=\"preco\">R$200,99</li>\n",
              " </ul>]"
            ]
          },
          "metadata": {},
          "execution_count": 7
        }
      ]
    },
    {
      "cell_type": "code",
      "source": [
        "texto = bs.find('div', {'class':'cabecalho'}).p.text #get_text()"
      ],
      "metadata": {
        "id": "WTWjoiD2Ukj_"
      },
      "execution_count": 8,
      "outputs": []
    },
    {
      "cell_type": "code",
      "source": [
        "print(texto)"
      ],
      "metadata": {
        "colab": {
          "base_uri": "https://localhost:8080/"
        },
        "id": "ZoSZIkQKRV1n",
        "outputId": "404308b3-514d-425d-ef79-7f633b01a374"
      },
      "execution_count": 9,
      "outputs": [
        {
          "output_type": "stream",
          "name": "stdout",
          "text": [
            "Oi pessoal eu sou um parágrafo. E estou dentro de uma tag chamada DIV. Ela serve para formatar as partes de um site.\n"
          ]
        }
      ]
    },
    {
      "cell_type": "markdown",
      "source": [
        "## Entendendo um pouco mais...\n",
        "\n",
        "[DOCUMENTACAO OFICIAL](https://beautiful-soup-4.readthedocs.io/en/latest/)"
      ],
      "metadata": {
        "id": "MlSh1cTKQQVf"
      }
    },
    {
      "cell_type": "markdown",
      "source": [
        "### Vamos adentrar as tags começando pela tag HTML"
      ],
      "metadata": {
        "id": "0Z_hEf3eUuzF"
      }
    },
    {
      "cell_type": "markdown",
      "source": [
        "### NAVEGACAO PELA ÁRVORE"
      ],
      "metadata": {
        "id": "U1Ern2SxIfUl"
      }
    },
    {
      "cell_type": "code",
      "source": [
        "# nó mais amplo que existe é o HTML\n",
        "print(bs.html)\n",
        "\n",
        "# nó inicial do conteúdo da página - BODY\n",
        "#print(bs.body)\n",
        "\n",
        "# div são usadas para dar estrutura do ambiente\n",
        "#print(bs.XXX)"
      ],
      "metadata": {
        "id": "h-W2PMnuPaqJ",
        "colab": {
          "base_uri": "https://localhost:8080/"
        },
        "outputId": "523ea1f7-e08b-470c-c7d0-74bd584fd791"
      },
      "execution_count": null,
      "outputs": [
        {
          "output_type": "stream",
          "name": "stdout",
          "text": [
            "<html>\n",
            "<head><meta/>\n",
            "<meta/>\n",
            "<meta/>\n",
            "<title>ESSE AQUI É O TÍTULO DESTA PÁGINA</title>\n",
            "<javascript></javascript>\n",
            "<javascript></javascript>\n",
            "<javascript></javascript>\n",
            "<style>\r\n",
            "        body {\r\n",
            "            color:blue;\r\n",
            "            padding: 0px;\r\n",
            "            margin: 0px;\r\n",
            "        }\r\n",
            "        p {color: brown; font-size: 1.3em; font-family: 'Courier New', Courier, monospace;} \r\n",
            "        h1 {color: blue; font-size: 25px; font-family: 'Gill Sans', 'Gill Sans MT', Calibri, 'Trebuchet MS', sans-serif; }\r\n",
            "        h2 {color: black; font-size: 15px;}\r\n",
            "\r\n",
            "        #main {\r\n",
            "            width: 50%;\r\n",
            "            padding: 5px;\r\n",
            "            margin:5px;\r\n",
            "            text-align: left;\r\n",
            "        }\r\n",
            "    </style>\n",
            "</head><body>\n",
            "<div id=\"main\">\n",
            "<div class=\"cabecalho\">\n",
            "<h1>OLA PESSOAL COMO VAI, AQUI É HTML</h1>\n",
            "<p>Oi pessoal eu sou um parágrafo. E estou dentro de uma tag chamada DIV. Ela serve para formatar as partes de um site.</p>\n",
            "</div>\n",
            "<div class=\"conteudo\">\n",
            "<h2>Oi, eu faço um título ficar mais com cara de título!</h2>\n",
            "<ul>\n",
            "<li>\n",
            "<ul>\n",
            "<li class=\"link\"><a href=\"https://amazon.br/python_para_nubbies\" target=\"_blank\">Link1</a></li>\n",
            "<li class=\"titulo\">Python para Nubbies</li>\n",
            "<li class=\"subtitulo\">Python.Lorem Ipsum Dolor amec ist dolor sit dum</li>\n",
            "<li class=\"id_produto\">x1555842</li>\n",
            "<li class=\"preco\">R$150,99</li>\n",
            "</ul>\n",
            "</li>\n",
            "<li>\n",
            "<ul>\n",
            "<li class=\"link\"><a href=\"https://amazon.br/webscrapping\" target=\"_blank\">Link2</a></li>\n",
            "<li class=\"titulo\">Python Webscrapping</li>\n",
            "<li class=\"subtitulo\">Webscrapping Lorem Ipsum Dolor amec ist dolor sit dum.</li>\n",
            "<li class=\"id_produto\">x1555555</li>\n",
            "<li class=\"preco\">R$85,99</li>\n",
            "</ul>\n",
            "</li>\n",
            "<li>\n",
            "<ul>\n",
            "<li class=\"link\"><a href=\"https://amazon.br/html_para_leigos\" target=\"_blank\">Link3</a></li>\n",
            "<li class=\"titulo\">HTML para leigos</li>\n",
            "<li class=\"subtitulo\">HTML para leigos Lorem Ipsum Dolor amec ist dolor sit dum.</li>\n",
            "<li class=\"id_produto\">x1555377</li>\n",
            "<li class=\"preco\">R$55,99</li>\n",
            "</ul>\n",
            "</li>\n",
            "<li>\n",
            "<ul>\n",
            "<li class=\"link\"><a href=\"https://amazon.br/java_e_python\" target=\"_blank\">Link4</a></li>\n",
            "<li class=\"titulo\">JAVA e PYTHON</li>\n",
            "<li class=\"subtitulo\">JAVA e PYTHON Lorem Ipsum Dolor amec ist dolor sit dum.</li>\n",
            "<li class=\"id_produto\">x1555250</li>\n",
            "<li class=\"preco\">R$200,99</li>\n",
            "</ul>\n",
            "</li>\n",
            "</ul>\n",
            "<p class=\"descricao\">Vocês viram o UL e o LI, eles respondem na hora que precisamos escrever listas. Serve muito para menus.</p>\n",
            "</div>\n",
            "<div class=\"rodape\">\n",
            "<h3>Estamos no rodape da pagina. Aqui diria que seria o final do site que está no html.</h3>\n",
            "</div>\n",
            "</div>\n",
            "</body>\n",
            "</html>\n"
          ]
        }
      ]
    },
    {
      "cell_type": "code",
      "source": [
        "#bs.p\n",
        "#bs.a\n",
        "#bs.h1\n",
        "#bs.title\n",
        "#bs.title.contents\n",
        "#filhos_head = [i for i in bs.head.children]\n",
        "#filhos_head\n",
        "#type(bs.head.parent)\n",
        "#type(bs.head.parents) #pode iterar"
      ],
      "metadata": {
        "colab": {
          "base_uri": "https://localhost:8080/"
        },
        "id": "1-b71EU3IqJN",
        "outputId": "25b2ac7c-4673-4ffc-8b48-e0d1f73806d5"
      },
      "execution_count": null,
      "outputs": [
        {
          "output_type": "execute_result",
          "data": {
            "text/plain": [
              "<h1>OLA PESSOAL COMO VAI, AQUI É HTML</h1>"
            ]
          },
          "metadata": {},
          "execution_count": 277
        }
      ]
    },
    {
      "cell_type": "code",
      "source": [
        "from bs4.element import ResultSet\n",
        "# findAll(tag, attrs, text, limit, keywords)\n",
        "# find(tag, attrs, text, keywords)\n",
        "#DIFERENCAS DE TYPE RESPONSE\n",
        "\n",
        "print('1) Find') #Element.TAG\n",
        "paragrafo = bs.find('p')\n",
        "print(type(paragrafo))\n",
        "print(paragrafo)\n",
        "print(len(paragrafo))\n",
        "\n",
        "print('\\n2) Find all') #ResultSet\n",
        "#paragrafo = bs.find_all('p', limit=1)\n",
        "paragrafo = bs.find_all('p')\n",
        "print(type(paragrafo))\n",
        "print(paragrafo)\n",
        "print(len(paragrafo))\n",
        "\n",
        "print(bs.find('div', {'class':'conteudo'}).find_all('a'))\n",
        "\n",
        "# OBJETO CRIADO PELO find_all ResultSet = array, lista...\n",
        "print(f'\\n3) Paragrafo: {paragrafo[0]}')"
      ],
      "metadata": {
        "colab": {
          "base_uri": "https://localhost:8080/"
        },
        "id": "r6023sz-VvCv",
        "outputId": "1138fed6-10b1-4cff-9fbe-2dd11e2c6c29"
      },
      "execution_count": 10,
      "outputs": [
        {
          "output_type": "stream",
          "name": "stdout",
          "text": [
            "1) Find\n",
            "<class 'bs4.element.Tag'>\n",
            "<p>Oi pessoal eu sou um parágrafo. E estou dentro de uma tag chamada DIV. Ela serve para formatar as partes de um site.</p>\n",
            "1\n",
            "\n",
            "2) Find all\n",
            "<class 'bs4.element.ResultSet'>\n",
            "[<p>Oi pessoal eu sou um parágrafo. E estou dentro de uma tag chamada DIV. Ela serve para formatar as partes de um site.</p>, <p class=\"descricao\">Vocês viram o UL e o LI, eles respondem na hora que precisamos escrever listas. Serve muito para menus.</p>]\n",
            "2\n",
            "[<a href=\"https://amazon.br/python_para_nubbies\" target=\"_blank\">Link1</a>, <a href=\"https://amazon.br/webscrapping\" target=\"_blank\">Link2</a>, <a href=\"https://amazon.br/html_para_leigos\" target=\"_blank\">Link3</a>, <a href=\"https://amazon.br/java_e_python\" target=\"_blank\">Link4</a>]\n",
            "\n",
            "3) Paragrafo: <p>Oi pessoal eu sou um parágrafo. E estou dentro de uma tag chamada DIV. Ela serve para formatar as partes de um site.</p>\n"
          ]
        }
      ]
    },
    {
      "cell_type": "markdown",
      "source": [
        "## Irmaos"
      ],
      "metadata": {
        "id": "6N4iwdYzQ53l"
      }
    },
    {
      "cell_type": "markdown",
      "source": [
        "### findPreviousSiblings() / findNextSiblings()"
      ],
      "metadata": {
        "id": "NsQq0dXUem7y"
      }
    },
    {
      "cell_type": "code",
      "source": [
        "bs.div"
      ],
      "metadata": {
        "colab": {
          "base_uri": "https://localhost:8080/"
        },
        "id": "tfyZiJFxBWRe",
        "outputId": "8090afff-24fc-4e50-9fb3-ce3e3982da95"
      },
      "execution_count": 15,
      "outputs": [
        {
          "output_type": "execute_result",
          "data": {
            "text/plain": [
              "<div id=\"main\">\n",
              "<div class=\"cabecalho\">\n",
              "<h1>OLA PESSOAL COMO VAI, AQUI É HTML</h1>\n",
              "<p>Oi pessoal eu sou um parágrafo. E estou dentro de uma tag chamada DIV. Ela serve para formatar as partes de um site.</p>\n",
              "</div>\n",
              "<div class=\"conteudo\">\n",
              "<h2>Oi, eu faço um título ficar mais com cara de título!</h2>\n",
              "<ul>\n",
              "<li>\n",
              "<ul>\n",
              "<li class=\"link\"><a href=\"https://amazon.br/python_para_nubbies\" target=\"_blank\">Link1</a></li>\n",
              "<li class=\"titulo\">Python para Nubbies</li>\n",
              "<li class=\"subtitulo\">Python.Lorem Ipsum Dolor amec ist dolor sit dum</li>\n",
              "<li class=\"id_produto\">x1555842</li>\n",
              "<li class=\"preco\">R$150,99</li>\n",
              "</ul>\n",
              "<ul>\n",
              "<li class=\"link\"><a href=\"https://amazon.br/webscrapping\" target=\"_blank\">Link2</a></li>\n",
              "<li class=\"titulo\">Python Webscrapping</li>\n",
              "<li class=\"subtitulo\">Webscrapping Lorem Ipsum Dolor amec ist dolor sit dum.</li>\n",
              "<li class=\"id_produto\">x1555555</li>\n",
              "<li class=\"preco\">R$85,99</li>\n",
              "</ul>\n",
              "<ul>\n",
              "<li class=\"link\"><a href=\"https://amazon.br/html_para_leigos\" target=\"_blank\">Link3</a></li>\n",
              "<li class=\"titulo\">HTML para leigos</li>\n",
              "<li class=\"subtitulo\">HTML para leigos Lorem Ipsum Dolor amec ist dolor sit dum.</li>\n",
              "<li class=\"id_produto\">x1555377</li>\n",
              "<li class=\"preco\">R$55,99</li>\n",
              "</ul>\n",
              "<ul>\n",
              "<li class=\"link\"><a href=\"https://amazon.br/java_e_python\" target=\"_blank\">Link4</a></li>\n",
              "<li class=\"titulo\">JAVA e PYTHON</li>\n",
              "<li class=\"subtitulo\">JAVA e PYTHON Lorem Ipsum Dolor amec ist dolor sit dum.</li>\n",
              "<li class=\"id_produto\">x1555250</li>\n",
              "<li class=\"preco\">R$200,99</li>\n",
              "</ul>\n",
              "</li>\n",
              "</ul>\n",
              "<p class=\"descricao\">Vocês viram o UL e o LI, eles respondem na hora que precisamos escrever listas. Serve muito para menus.</p>\n",
              "</div>\n",
              "<div class=\"rodape\">\n",
              "<h3>Estamos no rodape da pagina. Aqui diria que seria o final do site que está no html.</h3>\n",
              "</div>\n",
              "</div>"
            ]
          },
          "metadata": {},
          "execution_count": 15
        }
      ]
    },
    {
      "cell_type": "code",
      "source": [
        "irmaoMaisVelho = bs.find('div', {'class':'conteudo'}).findPreviousSiblings()\n",
        "irmaoMaisNovo = bs.find('div', {'class':'conteudo'}).findNextSiblings()\n",
        "print(irmaoMaisVelho)\n",
        "print(irmaoMaisNovo, type(irmaoMaisNovo))"
      ],
      "metadata": {
        "colab": {
          "base_uri": "https://localhost:8080/"
        },
        "id": "L7s5K6IDGhJv",
        "outputId": "37517110-f218-4c34-9474-699fb0d57c46"
      },
      "execution_count": 16,
      "outputs": [
        {
          "output_type": "stream",
          "name": "stdout",
          "text": [
            "[<div class=\"cabecalho\">\n",
            "<h1>OLA PESSOAL COMO VAI, AQUI É HTML</h1>\n",
            "<p>Oi pessoal eu sou um parágrafo. E estou dentro de uma tag chamada DIV. Ela serve para formatar as partes de um site.</p>\n",
            "</div>]\n",
            "[<div class=\"rodape\">\n",
            "<h3>Estamos no rodape da pagina. Aqui diria que seria o final do site que está no html.</h3>\n",
            "</div>] <class 'bs4.element.ResultSet'>\n"
          ]
        }
      ]
    },
    {
      "cell_type": "code",
      "source": [
        "type(irmaoMaisNovo)"
      ],
      "metadata": {
        "colab": {
          "base_uri": "https://localhost:8080/",
          "height": 137
        },
        "id": "ueTU96tUF6mP",
        "outputId": "c140f1ca-f0ab-48d3-959b-c1910b263447"
      },
      "execution_count": 17,
      "outputs": [
        {
          "output_type": "execute_result",
          "data": {
            "text/plain": [
              "bs4.element.ResultSet"
            ],
            "text/html": [
              "<div style=\"max-width:800px; border: 1px solid var(--colab-border-color);\"><style>\n",
              "      pre.function-repr-contents {\n",
              "        overflow-x: auto;\n",
              "        padding: 8px 12px;\n",
              "        max-height: 500px;\n",
              "      }\n",
              "\n",
              "      pre.function-repr-contents.function-repr-contents-collapsed {\n",
              "        cursor: pointer;\n",
              "        max-height: 100px;\n",
              "      }\n",
              "    </style>\n",
              "    <pre style=\"white-space: initial; background:\n",
              "         var(--colab-secondary-surface-color); padding: 8px 12px;\n",
              "         border-bottom: 1px solid var(--colab-border-color);\"><b>bs4.element.ResultSet</b><br/>def __init__(source, result=())</pre><pre class=\"function-repr-contents function-repr-contents-collapsed\" style=\"\"><a class=\"filepath\" style=\"display:none\" href=\"#\">/usr/local/lib/python3.10/dist-packages/bs4/element.py</a>A ResultSet is just a list that keeps track of the SoupStrainer\n",
              "that created it.</pre>\n",
              "      <script>\n",
              "      if (google.colab.kernel.accessAllowed && google.colab.files && google.colab.files.view) {\n",
              "        for (const element of document.querySelectorAll('.filepath')) {\n",
              "          element.style.display = 'block'\n",
              "          element.onclick = (event) => {\n",
              "            event.preventDefault();\n",
              "            event.stopPropagation();\n",
              "            google.colab.files.view(element.textContent, 2419);\n",
              "          };\n",
              "        }\n",
              "      }\n",
              "      for (const element of document.querySelectorAll('.function-repr-contents')) {\n",
              "        element.onclick = (event) => {\n",
              "          event.preventDefault();\n",
              "          event.stopPropagation();\n",
              "          element.classList.toggle('function-repr-contents-collapsed');\n",
              "        };\n",
              "      }\n",
              "      </script>\n",
              "      </div>"
            ]
          },
          "metadata": {},
          "execution_count": 17
        }
      ]
    },
    {
      "cell_type": "code",
      "source": [
        "irmaoMaisNovo[0]"
      ],
      "metadata": {
        "colab": {
          "base_uri": "https://localhost:8080/"
        },
        "id": "xORVBR72M5I9",
        "outputId": "7fdd6ead-4b03-477c-d81c-f77b9d21a512"
      },
      "execution_count": 18,
      "outputs": [
        {
          "output_type": "execute_result",
          "data": {
            "text/plain": [
              "<div class=\"rodape\">\n",
              "<h3>Estamos no rodape da pagina. Aqui diria que seria o final do site que está no html.</h3>\n",
              "</div>"
            ]
          },
          "metadata": {},
          "execution_count": 18
        }
      ]
    },
    {
      "cell_type": "code",
      "source": [
        "irmaoMaisNovo[0].h3.text"
      ],
      "metadata": {
        "colab": {
          "base_uri": "https://localhost:8080/",
          "height": 36
        },
        "id": "FS1xcRf0rG5l",
        "outputId": "61e59cca-74b3-4b63-904f-ee0ddf4fb66d"
      },
      "execution_count": 19,
      "outputs": [
        {
          "output_type": "execute_result",
          "data": {
            "text/plain": [
              "'Estamos no rodape da pagina. Aqui diria que seria o final do site que está no html.'"
            ],
            "application/vnd.google.colaboratory.intrinsic+json": {
              "type": "string"
            }
          },
          "metadata": {},
          "execution_count": 19
        }
      ]
    },
    {
      "cell_type": "markdown",
      "source": [
        "### next e previous siblings diferença está na saída (generator)"
      ],
      "metadata": {
        "id": "cde9TSAEjlR8"
      }
    },
    {
      "cell_type": "code",
      "source": [
        "bs.find('div', {'class':'conteudo'}).next_siblings"
      ],
      "metadata": {
        "colab": {
          "base_uri": "https://localhost:8080/"
        },
        "id": "iiK9bXAhNO_M",
        "outputId": "b876892a-1114-42d4-8998-1276aa38a539"
      },
      "execution_count": 20,
      "outputs": [
        {
          "output_type": "execute_result",
          "data": {
            "text/plain": [
              "<generator object PageElement.next_siblings at 0x780ed2e3cf90>"
            ]
          },
          "metadata": {},
          "execution_count": 20
        }
      ]
    },
    {
      "cell_type": "code",
      "source": [
        "for i in bs.find('div', {'class':'conteudo'}).previous_siblings:\n",
        "  print(i)\n",
        "\n",
        "for i in bs.find('div', {'class':'conteudo'}).next_siblings:\n",
        "  print(i)"
      ],
      "metadata": {
        "colab": {
          "base_uri": "https://localhost:8080/"
        },
        "id": "1iCsoOUgizUK",
        "outputId": "e1cc07c3-cd38-4463-bfab-c05927860411"
      },
      "execution_count": 21,
      "outputs": [
        {
          "output_type": "stream",
          "name": "stdout",
          "text": [
            "\n",
            "\n",
            "<div class=\"cabecalho\">\n",
            "<h1>OLA PESSOAL COMO VAI, AQUI É HTML</h1>\n",
            "<p>Oi pessoal eu sou um parágrafo. E estou dentro de uma tag chamada DIV. Ela serve para formatar as partes de um site.</p>\n",
            "</div>\n",
            "\n",
            "\n",
            "\n",
            "\n",
            "<div class=\"rodape\">\n",
            "<h3>Estamos no rodape da pagina. Aqui diria que seria o final do site que está no html.</h3>\n",
            "</div>\n",
            "\n",
            "\n"
          ]
        }
      ]
    },
    {
      "cell_type": "markdown",
      "source": [
        "### Usando o next_siblings e o next() para percorrer"
      ],
      "metadata": {
        "id": "WbcTQs6RF6rK"
      }
    },
    {
      "cell_type": "code",
      "source": [
        "irmaos = bs.find('div', {'class':'conteudo'}).find('h2').next_siblings"
      ],
      "metadata": {
        "id": "O9xrVBXijvds"
      },
      "execution_count": 28,
      "outputs": []
    },
    {
      "cell_type": "code",
      "source": [
        "parentes = []\n",
        "while True:\n",
        "  try:\n",
        "    parentes.append(next(irmaos))\n",
        "  except StopIteration:\n",
        "    break"
      ],
      "metadata": {
        "id": "EVky5Gcuj-t6"
      },
      "execution_count": 29,
      "outputs": []
    },
    {
      "cell_type": "code",
      "source": [
        "parentes"
      ],
      "metadata": {
        "colab": {
          "base_uri": "https://localhost:8080/"
        },
        "id": "ahS13FRzsfIE",
        "outputId": "afa825a3-5340-4d4d-c657-b9feb9bf6bcf"
      },
      "execution_count": 30,
      "outputs": [
        {
          "output_type": "execute_result",
          "data": {
            "text/plain": [
              "['\\n',\n",
              " <ul>\n",
              " <li>\n",
              " <ul>\n",
              " <li class=\"link\"><a href=\"https://amazon.br/python_para_nubbies\" target=\"_blank\">Link1</a></li>\n",
              " <li class=\"titulo\">Python para Nubbies</li>\n",
              " <li class=\"subtitulo\">Python.Lorem Ipsum Dolor amec ist dolor sit dum</li>\n",
              " <li class=\"id_produto\">x1555842</li>\n",
              " <li class=\"preco\">R$150,99</li>\n",
              " </ul>\n",
              " <ul>\n",
              " <li class=\"link\"><a href=\"https://amazon.br/webscrapping\" target=\"_blank\">Link2</a></li>\n",
              " <li class=\"titulo\">Python Webscrapping</li>\n",
              " <li class=\"subtitulo\">Webscrapping Lorem Ipsum Dolor amec ist dolor sit dum.</li>\n",
              " <li class=\"id_produto\">x1555555</li>\n",
              " <li class=\"preco\">R$85,99</li>\n",
              " </ul>\n",
              " <ul>\n",
              " <li class=\"link\"><a href=\"https://amazon.br/html_para_leigos\" target=\"_blank\">Link3</a></li>\n",
              " <li class=\"titulo\">HTML para leigos</li>\n",
              " <li class=\"subtitulo\">HTML para leigos Lorem Ipsum Dolor amec ist dolor sit dum.</li>\n",
              " <li class=\"id_produto\">x1555377</li>\n",
              " <li class=\"preco\">R$55,99</li>\n",
              " </ul>\n",
              " <ul>\n",
              " <li class=\"link\"><a href=\"https://amazon.br/java_e_python\" target=\"_blank\">Link4</a></li>\n",
              " <li class=\"titulo\">JAVA e PYTHON</li>\n",
              " <li class=\"subtitulo\">JAVA e PYTHON Lorem Ipsum Dolor amec ist dolor sit dum.</li>\n",
              " <li class=\"id_produto\">x1555250</li>\n",
              " <li class=\"preco\">R$200,99</li>\n",
              " </ul>\n",
              " </li>\n",
              " </ul>,\n",
              " '\\n',\n",
              " <p class=\"descricao\">Vocês viram o UL e o LI, eles respondem na hora que precisamos escrever listas. Serve muito para menus.</p>,\n",
              " '\\n']"
            ]
          },
          "metadata": {},
          "execution_count": 30
        }
      ]
    },
    {
      "cell_type": "markdown",
      "source": [
        "#### Capturando link e texto do link"
      ],
      "metadata": {
        "id": "CBPTXNtXPZbd"
      }
    },
    {
      "cell_type": "code",
      "source": [
        "# pegando o link da tag <a> no atributo href\n",
        "link = parentes[1].find_all('ul')[0].find('li', {'class':'link'}).find('a').attrs['href']\n",
        "# pegando o texto da tag <a>\n",
        "txt_link = parentes[1].find_all('ul')[0].find('li', {'class':'link'}).find('a').text\n",
        "\n",
        "print(f'{link}, {txt_link}')"
      ],
      "metadata": {
        "colab": {
          "base_uri": "https://localhost:8080/"
        },
        "id": "XgihPuYwoZIN",
        "outputId": "a23c5016-2358-4962-a093-f71af5a9babb"
      },
      "execution_count": 31,
      "outputs": [
        {
          "output_type": "stream",
          "name": "stdout",
          "text": [
            "https://amazon.br/python_para_nubbies, Link1\n"
          ]
        }
      ]
    },
    {
      "cell_type": "markdown",
      "source": [
        "#### Capturando o nome da Class"
      ],
      "metadata": {
        "id": "q7BcbmDsXBpD"
      }
    },
    {
      "cell_type": "code",
      "source": [
        "filhos = parentes[1].find_all('ul')\n",
        "for y in range(len(filhos[x].find_all('li'))):\n",
        "  if 'link' == filhos[0].find_all('li')[y].attrs['class'][0]:\n",
        "    print('achou')"
      ],
      "metadata": {
        "colab": {
          "base_uri": "https://localhost:8080/"
        },
        "id": "OC0Qp6it88h4",
        "outputId": "896ca0d3-fd76-4ac7-ac94-94539feeef08"
      },
      "execution_count": 32,
      "outputs": [
        {
          "output_type": "stream",
          "name": "stdout",
          "text": [
            "achou\n"
          ]
        }
      ]
    },
    {
      "cell_type": "markdown",
      "source": [
        "### Encontro um ponto de partida no html dentro da TAG pai"
      ],
      "metadata": {
        "id": "DzZDrfiffYfw"
      }
    },
    {
      "cell_type": "code",
      "source": [
        "pai = bs.find('div', {'class':'conteudo'})\n",
        "pai.find('ul').find_all('ul')[0].text"
      ],
      "metadata": {
        "colab": {
          "base_uri": "https://localhost:8080/",
          "height": 36
        },
        "id": "ChMGdmekfXpm",
        "outputId": "6cfc9120-fd6b-47d5-958a-500bdbc6404d"
      },
      "execution_count": 33,
      "outputs": [
        {
          "output_type": "execute_result",
          "data": {
            "text/plain": [
              "'\\nLink1\\nPython para Nubbies\\nPython.Lorem Ipsum Dolor amec ist dolor sit dum\\nx1555842\\nR$150,99\\n'"
            ],
            "application/vnd.google.colaboratory.intrinsic+json": {
              "type": "string"
            }
          },
          "metadata": {},
          "execution_count": 33
        }
      ]
    },
    {
      "cell_type": "markdown",
      "source": [
        "#### Usando text ou get_text()"
      ],
      "metadata": {
        "id": "mVYBGGmMGONc"
      }
    },
    {
      "cell_type": "code",
      "source": [
        "pai.find('ul').find_all('ul')[0].get_text(strip='\\n', separator=' - ')"
      ],
      "metadata": {
        "colab": {
          "base_uri": "https://localhost:8080/",
          "height": 36
        },
        "id": "fS7mMmoYy19v",
        "outputId": "7683450c-a329-4e8f-d966-c1ca41d88f15"
      },
      "execution_count": 35,
      "outputs": [
        {
          "output_type": "execute_result",
          "data": {
            "text/plain": [
              "'Link1 - Python para Nubbies - Python.Lorem Ipsum Dolor amec ist dolor sit dum - x1555842 - R$150,99'"
            ],
            "application/vnd.google.colaboratory.intrinsic+json": {
              "type": "string"
            }
          },
          "metadata": {},
          "execution_count": 35
        }
      ]
    },
    {
      "cell_type": "markdown",
      "source": [
        "### REGEX"
      ],
      "metadata": {
        "id": "jSVAMkyvP7ia"
      }
    },
    {
      "cell_type": "code",
      "source": [
        "bs.find_all(href=re.compile(\"Python\"))"
      ],
      "metadata": {
        "colab": {
          "base_uri": "https://localhost:8080/"
        },
        "id": "EHZsKVgtP6to",
        "outputId": "59f78bd9-2d5e-4519-b720-ce31177cddf6"
      },
      "execution_count": 36,
      "outputs": [
        {
          "output_type": "execute_result",
          "data": {
            "text/plain": [
              "[]"
            ]
          },
          "metadata": {},
          "execution_count": 36
        }
      ]
    },
    {
      "cell_type": "code",
      "source": [
        "bs.find_all(class_=re.compile(\"rod\"))"
      ],
      "metadata": {
        "colab": {
          "base_uri": "https://localhost:8080/"
        },
        "id": "iCiCBA0cQn53",
        "outputId": "b9e1f553-5355-4f58-c26d-d5b40c3cfaa7"
      },
      "execution_count": 37,
      "outputs": [
        {
          "output_type": "execute_result",
          "data": {
            "text/plain": [
              "[<li class=\"id_produto\">x1555842</li>,\n",
              " <li class=\"id_produto\">x1555555</li>,\n",
              " <li class=\"id_produto\">x1555377</li>,\n",
              " <li class=\"id_produto\">x1555250</li>,\n",
              " <div class=\"rodape\">\n",
              " <h3>Estamos no rodape da pagina. Aqui diria que seria o final do site que está no html.</h3>\n",
              " </div>]"
            ]
          },
          "metadata": {},
          "execution_count": 37
        }
      ]
    },
    {
      "cell_type": "markdown",
      "source": [
        "## Para alunos\n",
        "\n",
        "Exercicio 1 na classe rodape pegar o texto de h3 depois imprimir <br />\n",
        "Exercicio 2 na classe conteudo pegar o texto de h2 depois imprimir\n",
        "Exercicio 3 na classe conteudo pegar os links"
      ],
      "metadata": {
        "id": "eP3jc0s3vG86"
      }
    },
    {
      "cell_type": "code",
      "source": [
        "# exercicio 1"
      ],
      "metadata": {
        "id": "zJSEhVEuu7mv"
      },
      "execution_count": null,
      "outputs": []
    },
    {
      "cell_type": "code",
      "source": [
        "# exercicio 2"
      ],
      "metadata": {
        "id": "vJNydkivv0tU"
      },
      "execution_count": null,
      "outputs": []
    },
    {
      "cell_type": "markdown",
      "source": [
        "Agora preciso do texto em lista, como fazer? Use a funcao split()"
      ],
      "metadata": {
        "id": "t0VFTRdfSl5e"
      }
    },
    {
      "cell_type": "code",
      "source": [
        "lista = texto.split(' ')\n",
        "print(lista)"
      ],
      "metadata": {
        "id": "ATZ-PQ3xEm-q",
        "outputId": "e7fefe00-3e21-40a0-b1ea-57741b90ab41",
        "colab": {
          "base_uri": "https://localhost:8080/"
        }
      },
      "execution_count": 38,
      "outputs": [
        {
          "output_type": "stream",
          "name": "stdout",
          "text": [
            "['Oi', 'pessoal', 'eu', 'sou', 'um', 'parágrafo.', 'E', 'estou', 'dentro', 'de', 'uma', 'tag', 'chamada', 'DIV.', 'Ela', 'serve', 'para', 'formatar', 'as', 'partes', 'de', 'um', 'site.']\n"
          ]
        }
      ]
    },
    {
      "cell_type": "markdown",
      "source": [
        "#### Um pouco de python\n",
        "\n",
        "\n",
        "\n",
        "1.   Achar palavras na lista com mais de 5 caracteres\n",
        "2.   E jogar como lista em print\n",
        "\n"
      ],
      "metadata": {
        "id": "ZrL6IsmD6yS_"
      }
    },
    {
      "cell_type": "markdown",
      "source": [
        "#### Resolve"
      ],
      "metadata": {
        "id": "vLvp6bI-7D31"
      }
    },
    {
      "cell_type": "code",
      "source": [
        "palavra_maior_5 = []\n",
        "for p in lista:\n",
        "  if len(p) > 5:\n",
        "    palavra_maior_5.append(p)\n",
        "\n",
        "print(palavra_maior_5)"
      ],
      "metadata": {
        "id": "prPHMkun5xyF",
        "colab": {
          "base_uri": "https://localhost:8080/"
        },
        "outputId": "533ec329-c9d3-4d5c-9854-2d340065c423"
      },
      "execution_count": 39,
      "outputs": [
        {
          "output_type": "stream",
          "name": "stdout",
          "text": [
            "['pessoal', 'parágrafo.', 'dentro', 'chamada', 'formatar', 'partes']\n"
          ]
        }
      ]
    },
    {
      "cell_type": "markdown",
      "source": [
        "#### Jeito de fazer"
      ],
      "metadata": {
        "id": "DVb4l1zF5zwM"
      }
    },
    {
      "cell_type": "code",
      "source": [
        "def filtra_palavra_5_tam(palavra):\n",
        "  if len(palavra) > 5:\n",
        "    return palavra\n",
        "\n",
        "a = list(filter(lambda x: x is not None , map(filtra_palavra_5_tam, lista)))\n",
        "list(a)"
      ],
      "metadata": {
        "colab": {
          "base_uri": "https://localhost:8080/"
        },
        "id": "jufjVBZ5v97s",
        "outputId": "d07cde45-5f4d-41d0-ee94-b2eb635e27e2"
      },
      "execution_count": 40,
      "outputs": [
        {
          "output_type": "execute_result",
          "data": {
            "text/plain": [
              "['pessoal', 'parágrafo.', 'dentro', 'chamada', 'formatar', 'partes']"
            ]
          },
          "metadata": {},
          "execution_count": 40
        }
      ]
    },
    {
      "cell_type": "markdown",
      "source": [
        "#### Outro jeito de fazer"
      ],
      "metadata": {
        "id": "UZ3Ziqr06lqH"
      }
    },
    {
      "cell_type": "code",
      "source": [
        "list(filter(lambda x: len(x) > 5, lista))"
      ],
      "metadata": {
        "colab": {
          "base_uri": "https://localhost:8080/"
        },
        "id": "C5vebmmi6Bav",
        "outputId": "f19b8fcd-bbc6-4839-ce63-d736022773d4"
      },
      "execution_count": 41,
      "outputs": [
        {
          "output_type": "execute_result",
          "data": {
            "text/plain": [
              "['pessoal', 'parágrafo.', 'dentro', 'chamada', 'formatar', 'partes']"
            ]
          },
          "metadata": {},
          "execution_count": 41
        }
      ]
    },
    {
      "cell_type": "markdown",
      "source": [
        "#### Buscando uma palavra em uma lista"
      ],
      "metadata": {
        "id": "cNQq7dwXcsZF"
      }
    },
    {
      "cell_type": "code",
      "source": [
        "# Pegar o texto da H1 (lembre-se H1 deve ser único no HTML)\n",
        "# Veja \"se\" existe a palavra \"HTML\" na \"ULTIMA\" POSICAO da lista criada com o \"texto capturado\" em H1\n",
        "# NIVEL BASKET CASE\n",
        "tag_ = bs.find('div', {'class':'cabecalho'})\n",
        "tag_h1 = tag_.h1\n",
        "so_txt_h1 = tag_h1.text\n",
        "print(so_txt_h1)"
      ],
      "metadata": {
        "colab": {
          "base_uri": "https://localhost:8080/"
        },
        "id": "1pK_ahwpTM3B",
        "outputId": "3e998c95-0d04-4409-e92b-4fe762eabed2"
      },
      "execution_count": 42,
      "outputs": [
        {
          "output_type": "stream",
          "name": "stdout",
          "text": [
            "OLA PESSOAL COMO VAI, AQUI É HTML\n"
          ]
        }
      ]
    },
    {
      "cell_type": "code",
      "source": [
        "# LAMBDA\n",
        "X = lambda x: True if x == 'HTML' else False\n",
        "X(so_txt_h1.split(' ')[-1])\n",
        "\n",
        "# OBS.: CONSIGO PASSAR MAIS DE UM VALOR"
      ],
      "metadata": {
        "id": "cUcg9wuOc_w5",
        "colab": {
          "base_uri": "https://localhost:8080/"
        },
        "outputId": "9098dfe1-a079-4a34-dfaa-843b9605dffc"
      },
      "execution_count": 43,
      "outputs": [
        {
          "output_type": "execute_result",
          "data": {
            "text/plain": [
              "True"
            ]
          },
          "metadata": {},
          "execution_count": 43
        }
      ]
    },
    {
      "cell_type": "code",
      "source": [
        "# if\n",
        "# if 'HTML' == so_txt_h1.split(' ')[-1]:\n",
        "# print(True)"
      ],
      "metadata": {
        "id": "BYFhZ2KydrWM"
      },
      "execution_count": null,
      "outputs": []
    },
    {
      "cell_type": "code",
      "source": [
        "# MAS PARA APENAS 1 VALOR PODERIA FAZER ASSIM\n",
        "# Um jeito de fazer enxuto tb usando IN\n",
        "# 'HTML' in so_txt_h1.split(' ')"
      ],
      "metadata": {
        "id": "3wKuW0ifhVy5"
      },
      "execution_count": null,
      "outputs": []
    },
    {
      "cell_type": "markdown",
      "source": [
        "## Um pouco mais além..."
      ],
      "metadata": {
        "id": "pme3wM2HC6m9"
      }
    },
    {
      "cell_type": "code",
      "source": [
        "bs"
      ],
      "metadata": {
        "colab": {
          "base_uri": "https://localhost:8080/"
        },
        "id": "ui7ozwfCz6KF",
        "outputId": "0d7d0102-1b85-468e-c450-bf42eeb65ecf"
      },
      "execution_count": null,
      "outputs": [
        {
          "output_type": "execute_result",
          "data": {
            "text/plain": [
              "<html>\n",
              "<head><meta/>\n",
              "<meta/>\n",
              "<meta/>\n",
              "<javascript></javascript>\n",
              "<javascript></javascript>\n",
              "<javascript></javascript>\n",
              "<style>\n",
              "        body {\n",
              "            color:blue;\n",
              "            padding: 0px;\n",
              "            margin: 0px;\n",
              "        }\n",
              "        p {color: brown; font-size: 1.3em; font-family: 'Courier New', Courier, monospace;} \n",
              "        h1 {color: blue; font-size: 25px; font-family: 'Gill Sans', 'Gill Sans MT', Calibri, 'Trebuchet MS', sans-serif; }\n",
              "        h2 {color: black; font-size: 15px;}\n",
              "\n",
              "        #main {\n",
              "            width: 50%;\n",
              "            padding: 5px;\n",
              "            margin:5px;\n",
              "            text-align: left;\n",
              "        }\n",
              "    </style>\n",
              "</head><body>\n",
              "<div id=\"main\">\n",
              "<div class=\"cabecalho\">\n",
              "<h1>OLA PESSOAL COMO VAI, AQUI É HTML</h1>\n",
              "<p>Oi pessoal eu sou um parágrafo. E estou dentro de uma tag chamada DIV. Ela serve para formatar as partes de um site.</p>\n",
              "</div>\n",
              "<div class=\"conteudo\">\n",
              "<h2>Oi, eu faço um título ficar mais com cara de título!</h2>\n",
              "<ul>\n",
              "<li>\n",
              "<ul>\n",
              "<li class=\"link\"><a href=\"https://amazon.br/python_para_nubbies\" target=\"_blank\">Link1</a></li>\n",
              "<li class=\"titulo\">Python para Nubbies</li>\n",
              "<li class=\"subtitulo\">Python.Lorem Ipsum Dolor amec ist dolor sit dum</li>\n",
              "<li class=\"id_produto\">x1555842</li>\n",
              "<li class=\"preco\">R$150,99</li>\n",
              "</ul>\n",
              "</li>\n",
              "<li>\n",
              "<ul>\n",
              "<li class=\"link\"><a href=\"https://amazon.br/webscrapping\" target=\"_blank\">Link2</a></li>\n",
              "<li class=\"titulo\">Python Webscrapping</li>\n",
              "<li class=\"subtitulo\">Webscrapping Lorem Ipsum Dolor amec ist dolor sit dum.</li>\n",
              "<li class=\"id_produto\">x1555555</li>\n",
              "<li class=\"preco\">R$85,99</li>\n",
              "</ul>\n",
              "</li>\n",
              "<li>\n",
              "<ul>\n",
              "<li class=\"link\"><a href=\"https://amazon.br/html_para_leigos\" target=\"_blank\">Link3</a></li>\n",
              "<li class=\"titulo\">HTML para leigos</li>\n",
              "<li class=\"subtitulo\">HTML para leigos Lorem Ipsum Dolor amec ist dolor sit dum.</li>\n",
              "<li class=\"id_produto\">x1555377</li>\n",
              "<li class=\"preco\">R$55,99</li>\n",
              "</ul>\n",
              "</li>\n",
              "<li>\n",
              "<ul>\n",
              "<li class=\"link\"><a href=\"https://amazon.br/java_e_python\" target=\"_blank\">Link4</a></li>\n",
              "<li class=\"titulo\">JAVA e PYTHON</li>\n",
              "<li class=\"subtitulo\">JAVA e PYTHON Lorem Ipsum Dolor amec ist dolor sit dum.</li>\n",
              "<li class=\"id_produto\">x1555250</li>\n",
              "<li class=\"preco\">R$200,99</li>\n",
              "</ul>\n",
              "</li>\n",
              "</ul>\n",
              "<p class=\"descricao\">Vocês viram o UL e o LI, eles respondem na hora que precisamos escrever listas. Serve muito para menus.</p>\n",
              "</div>\n",
              "<div class=\"rodape\">\n",
              "<h3>Estamos no rodape da pagina. Aqui diria que seria o final do site que está no html.</h3>\n",
              "</div>\n",
              "</div>\n",
              "</body>\n",
              "</html>"
            ]
          },
          "metadata": {},
          "execution_count": 35
        }
      ]
    },
    {
      "cell_type": "code",
      "source": [
        "# raciocinio/logica\n",
        "# bs.find('div', {'class':'conteudo'}).find('ul').find_all('ul')[0]"
      ],
      "metadata": {
        "id": "MJymfbda0F8i"
      },
      "execution_count": null,
      "outputs": []
    },
    {
      "cell_type": "markdown",
      "source": [
        "### Explicando passo a passo uma extração"
      ],
      "metadata": {
        "id": "YebC173rDRGc"
      }
    },
    {
      "cell_type": "code",
      "source": [
        "ul_pai = bs.find('div', {'class':'conteudo'}).find('ul')\n",
        "\n",
        "#print(len(cc2.find_all('ul')))\n",
        "\n",
        "textos = []\n",
        "for i in range(len(ul_pai.find_all('ul'))):\n",
        "  filhos = ul_pai.find_all('ul')[i]\n",
        "  texto = []\n",
        "  for filho in filhos:\n",
        "    if filho.name == 'li':\n",
        "      if filho.a:\n",
        "        texto.append(filho.a.attrs['href'])\n",
        "      else:\n",
        "        texto.append(filho.text)\n",
        "\n",
        "  textos.append(texto)\n"
      ],
      "metadata": {
        "id": "cpzqhPOhJW_F"
      },
      "execution_count": null,
      "outputs": []
    },
    {
      "cell_type": "code",
      "source": [
        "textos"
      ],
      "metadata": {
        "id": "zXuh2hkZo9TU",
        "colab": {
          "base_uri": "https://localhost:8080/"
        },
        "outputId": "03a69ea7-f83c-4361-9dd0-6e742474d8ce"
      },
      "execution_count": null,
      "outputs": [
        {
          "output_type": "execute_result",
          "data": {
            "text/plain": [
              "[['https://amazon.br/python_para_nubbies',\n",
              "  'Python para Nubbies',\n",
              "  'Python.Lorem Ipsum Dolor amec ist dolor sit dum',\n",
              "  'x1555842',\n",
              "  'R$150,99'],\n",
              " ['https://amazon.br/webscrapping',\n",
              "  'Python Webscrapping',\n",
              "  'Webscrapping Lorem Ipsum Dolor amec ist dolor sit dum.',\n",
              "  'x1555555',\n",
              "  'R$85,99'],\n",
              " ['https://amazon.br/html_para_leigos',\n",
              "  'HTML para leigos',\n",
              "  'HTML para leigos Lorem Ipsum Dolor amec ist dolor sit dum.',\n",
              "  'x1555377',\n",
              "  'R$55,99'],\n",
              " ['https://amazon.br/java_e_python',\n",
              "  'JAVA e PYTHON',\n",
              "  'JAVA e PYTHON Lorem Ipsum Dolor amec ist dolor sit dum.',\n",
              "  'x1555250',\n",
              "  'R$200,99']]"
            ]
          },
          "metadata": {},
          "execution_count": 29
        }
      ]
    },
    {
      "cell_type": "markdown",
      "source": [
        "### Manda para o Pandas"
      ],
      "metadata": {
        "id": "wNShrrYTDZuR"
      }
    },
    {
      "cell_type": "code",
      "source": [
        "import pandas as pd"
      ],
      "metadata": {
        "id": "B_K-1lF6mK0z"
      },
      "execution_count": null,
      "outputs": []
    },
    {
      "cell_type": "code",
      "source": [
        "df = pd.DataFrame(textos, columns=['link', 'titulo', 'descricao', 'codigo', 'preço'])\n",
        "df"
      ],
      "metadata": {
        "id": "wBqIHRl3mH00",
        "colab": {
          "base_uri": "https://localhost:8080/",
          "height": 175
        },
        "outputId": "e4e32b71-b4c2-4254-e5dc-8100ec596849"
      },
      "execution_count": null,
      "outputs": [
        {
          "output_type": "execute_result",
          "data": {
            "text/plain": [
              "                                    link               titulo  \\\n",
              "0  https://amazon.br/python_para_nubbies  Python para Nubbies   \n",
              "1         https://amazon.br/webscrapping  Python Webscrapping   \n",
              "2     https://amazon.br/html_para_leigos     HTML para leigos   \n",
              "3        https://amazon.br/java_e_python        JAVA e PYTHON   \n",
              "\n",
              "                                           descricao    codigo     preço  \n",
              "0    Python.Lorem Ipsum Dolor amec ist dolor sit dum  x1555842  R$150,99  \n",
              "1  Webscrapping Lorem Ipsum Dolor amec ist dolor ...  x1555555   R$85,99  \n",
              "2  HTML para leigos Lorem Ipsum Dolor amec ist do...  x1555377   R$55,99  \n",
              "3  JAVA e PYTHON Lorem Ipsum Dolor amec ist dolor...  x1555250  R$200,99  "
            ],
            "text/html": [
              "\n",
              "  <div id=\"df-ab260dc8-d2bc-497f-aa03-b4729eeca6e3\" class=\"colab-df-container\">\n",
              "    <div>\n",
              "<style scoped>\n",
              "    .dataframe tbody tr th:only-of-type {\n",
              "        vertical-align: middle;\n",
              "    }\n",
              "\n",
              "    .dataframe tbody tr th {\n",
              "        vertical-align: top;\n",
              "    }\n",
              "\n",
              "    .dataframe thead th {\n",
              "        text-align: right;\n",
              "    }\n",
              "</style>\n",
              "<table border=\"1\" class=\"dataframe\">\n",
              "  <thead>\n",
              "    <tr style=\"text-align: right;\">\n",
              "      <th></th>\n",
              "      <th>link</th>\n",
              "      <th>titulo</th>\n",
              "      <th>descricao</th>\n",
              "      <th>codigo</th>\n",
              "      <th>preço</th>\n",
              "    </tr>\n",
              "  </thead>\n",
              "  <tbody>\n",
              "    <tr>\n",
              "      <th>0</th>\n",
              "      <td>https://amazon.br/python_para_nubbies</td>\n",
              "      <td>Python para Nubbies</td>\n",
              "      <td>Python.Lorem Ipsum Dolor amec ist dolor sit dum</td>\n",
              "      <td>x1555842</td>\n",
              "      <td>R$150,99</td>\n",
              "    </tr>\n",
              "    <tr>\n",
              "      <th>1</th>\n",
              "      <td>https://amazon.br/webscrapping</td>\n",
              "      <td>Python Webscrapping</td>\n",
              "      <td>Webscrapping Lorem Ipsum Dolor amec ist dolor ...</td>\n",
              "      <td>x1555555</td>\n",
              "      <td>R$85,99</td>\n",
              "    </tr>\n",
              "    <tr>\n",
              "      <th>2</th>\n",
              "      <td>https://amazon.br/html_para_leigos</td>\n",
              "      <td>HTML para leigos</td>\n",
              "      <td>HTML para leigos Lorem Ipsum Dolor amec ist do...</td>\n",
              "      <td>x1555377</td>\n",
              "      <td>R$55,99</td>\n",
              "    </tr>\n",
              "    <tr>\n",
              "      <th>3</th>\n",
              "      <td>https://amazon.br/java_e_python</td>\n",
              "      <td>JAVA e PYTHON</td>\n",
              "      <td>JAVA e PYTHON Lorem Ipsum Dolor amec ist dolor...</td>\n",
              "      <td>x1555250</td>\n",
              "      <td>R$200,99</td>\n",
              "    </tr>\n",
              "  </tbody>\n",
              "</table>\n",
              "</div>\n",
              "    <div class=\"colab-df-buttons\">\n",
              "\n",
              "  <div class=\"colab-df-container\">\n",
              "    <button class=\"colab-df-convert\" onclick=\"convertToInteractive('df-ab260dc8-d2bc-497f-aa03-b4729eeca6e3')\"\n",
              "            title=\"Convert this dataframe to an interactive table.\"\n",
              "            style=\"display:none;\">\n",
              "\n",
              "  <svg xmlns=\"http://www.w3.org/2000/svg\" height=\"24px\" viewBox=\"0 -960 960 960\">\n",
              "    <path d=\"M120-120v-720h720v720H120Zm60-500h600v-160H180v160Zm220 220h160v-160H400v160Zm0 220h160v-160H400v160ZM180-400h160v-160H180v160Zm440 0h160v-160H620v160ZM180-180h160v-160H180v160Zm440 0h160v-160H620v160Z\"/>\n",
              "  </svg>\n",
              "    </button>\n",
              "\n",
              "  <style>\n",
              "    .colab-df-container {\n",
              "      display:flex;\n",
              "      gap: 12px;\n",
              "    }\n",
              "\n",
              "    .colab-df-convert {\n",
              "      background-color: #E8F0FE;\n",
              "      border: none;\n",
              "      border-radius: 50%;\n",
              "      cursor: pointer;\n",
              "      display: none;\n",
              "      fill: #1967D2;\n",
              "      height: 32px;\n",
              "      padding: 0 0 0 0;\n",
              "      width: 32px;\n",
              "    }\n",
              "\n",
              "    .colab-df-convert:hover {\n",
              "      background-color: #E2EBFA;\n",
              "      box-shadow: 0px 1px 2px rgba(60, 64, 67, 0.3), 0px 1px 3px 1px rgba(60, 64, 67, 0.15);\n",
              "      fill: #174EA6;\n",
              "    }\n",
              "\n",
              "    .colab-df-buttons div {\n",
              "      margin-bottom: 4px;\n",
              "    }\n",
              "\n",
              "    [theme=dark] .colab-df-convert {\n",
              "      background-color: #3B4455;\n",
              "      fill: #D2E3FC;\n",
              "    }\n",
              "\n",
              "    [theme=dark] .colab-df-convert:hover {\n",
              "      background-color: #434B5C;\n",
              "      box-shadow: 0px 1px 3px 1px rgba(0, 0, 0, 0.15);\n",
              "      filter: drop-shadow(0px 1px 2px rgba(0, 0, 0, 0.3));\n",
              "      fill: #FFFFFF;\n",
              "    }\n",
              "  </style>\n",
              "\n",
              "    <script>\n",
              "      const buttonEl =\n",
              "        document.querySelector('#df-ab260dc8-d2bc-497f-aa03-b4729eeca6e3 button.colab-df-convert');\n",
              "      buttonEl.style.display =\n",
              "        google.colab.kernel.accessAllowed ? 'block' : 'none';\n",
              "\n",
              "      async function convertToInteractive(key) {\n",
              "        const element = document.querySelector('#df-ab260dc8-d2bc-497f-aa03-b4729eeca6e3');\n",
              "        const dataTable =\n",
              "          await google.colab.kernel.invokeFunction('convertToInteractive',\n",
              "                                                    [key], {});\n",
              "        if (!dataTable) return;\n",
              "\n",
              "        const docLinkHtml = 'Like what you see? Visit the ' +\n",
              "          '<a target=\"_blank\" href=https://colab.research.google.com/notebooks/data_table.ipynb>data table notebook</a>'\n",
              "          + ' to learn more about interactive tables.';\n",
              "        element.innerHTML = '';\n",
              "        dataTable['output_type'] = 'display_data';\n",
              "        await google.colab.output.renderOutput(dataTable, element);\n",
              "        const docLink = document.createElement('div');\n",
              "        docLink.innerHTML = docLinkHtml;\n",
              "        element.appendChild(docLink);\n",
              "      }\n",
              "    </script>\n",
              "  </div>\n",
              "\n",
              "\n",
              "<div id=\"df-ecdaeebe-ff93-4b94-b151-a2144b22c5b7\">\n",
              "  <button class=\"colab-df-quickchart\" onclick=\"quickchart('df-ecdaeebe-ff93-4b94-b151-a2144b22c5b7')\"\n",
              "            title=\"Suggest charts.\"\n",
              "            style=\"display:none;\">\n",
              "\n",
              "<svg xmlns=\"http://www.w3.org/2000/svg\" height=\"24px\"viewBox=\"0 0 24 24\"\n",
              "     width=\"24px\">\n",
              "    <g>\n",
              "        <path d=\"M19 3H5c-1.1 0-2 .9-2 2v14c0 1.1.9 2 2 2h14c1.1 0 2-.9 2-2V5c0-1.1-.9-2-2-2zM9 17H7v-7h2v7zm4 0h-2V7h2v10zm4 0h-2v-4h2v4z\"/>\n",
              "    </g>\n",
              "</svg>\n",
              "  </button>\n",
              "\n",
              "<style>\n",
              "  .colab-df-quickchart {\n",
              "      --bg-color: #E8F0FE;\n",
              "      --fill-color: #1967D2;\n",
              "      --hover-bg-color: #E2EBFA;\n",
              "      --hover-fill-color: #174EA6;\n",
              "      --disabled-fill-color: #AAA;\n",
              "      --disabled-bg-color: #DDD;\n",
              "  }\n",
              "\n",
              "  [theme=dark] .colab-df-quickchart {\n",
              "      --bg-color: #3B4455;\n",
              "      --fill-color: #D2E3FC;\n",
              "      --hover-bg-color: #434B5C;\n",
              "      --hover-fill-color: #FFFFFF;\n",
              "      --disabled-bg-color: #3B4455;\n",
              "      --disabled-fill-color: #666;\n",
              "  }\n",
              "\n",
              "  .colab-df-quickchart {\n",
              "    background-color: var(--bg-color);\n",
              "    border: none;\n",
              "    border-radius: 50%;\n",
              "    cursor: pointer;\n",
              "    display: none;\n",
              "    fill: var(--fill-color);\n",
              "    height: 32px;\n",
              "    padding: 0;\n",
              "    width: 32px;\n",
              "  }\n",
              "\n",
              "  .colab-df-quickchart:hover {\n",
              "    background-color: var(--hover-bg-color);\n",
              "    box-shadow: 0 1px 2px rgba(60, 64, 67, 0.3), 0 1px 3px 1px rgba(60, 64, 67, 0.15);\n",
              "    fill: var(--button-hover-fill-color);\n",
              "  }\n",
              "\n",
              "  .colab-df-quickchart-complete:disabled,\n",
              "  .colab-df-quickchart-complete:disabled:hover {\n",
              "    background-color: var(--disabled-bg-color);\n",
              "    fill: var(--disabled-fill-color);\n",
              "    box-shadow: none;\n",
              "  }\n",
              "\n",
              "  .colab-df-spinner {\n",
              "    border: 2px solid var(--fill-color);\n",
              "    border-color: transparent;\n",
              "    border-bottom-color: var(--fill-color);\n",
              "    animation:\n",
              "      spin 1s steps(1) infinite;\n",
              "  }\n",
              "\n",
              "  @keyframes spin {\n",
              "    0% {\n",
              "      border-color: transparent;\n",
              "      border-bottom-color: var(--fill-color);\n",
              "      border-left-color: var(--fill-color);\n",
              "    }\n",
              "    20% {\n",
              "      border-color: transparent;\n",
              "      border-left-color: var(--fill-color);\n",
              "      border-top-color: var(--fill-color);\n",
              "    }\n",
              "    30% {\n",
              "      border-color: transparent;\n",
              "      border-left-color: var(--fill-color);\n",
              "      border-top-color: var(--fill-color);\n",
              "      border-right-color: var(--fill-color);\n",
              "    }\n",
              "    40% {\n",
              "      border-color: transparent;\n",
              "      border-right-color: var(--fill-color);\n",
              "      border-top-color: var(--fill-color);\n",
              "    }\n",
              "    60% {\n",
              "      border-color: transparent;\n",
              "      border-right-color: var(--fill-color);\n",
              "    }\n",
              "    80% {\n",
              "      border-color: transparent;\n",
              "      border-right-color: var(--fill-color);\n",
              "      border-bottom-color: var(--fill-color);\n",
              "    }\n",
              "    90% {\n",
              "      border-color: transparent;\n",
              "      border-bottom-color: var(--fill-color);\n",
              "    }\n",
              "  }\n",
              "</style>\n",
              "\n",
              "  <script>\n",
              "    async function quickchart(key) {\n",
              "      const quickchartButtonEl =\n",
              "        document.querySelector('#' + key + ' button');\n",
              "      quickchartButtonEl.disabled = true;  // To prevent multiple clicks.\n",
              "      quickchartButtonEl.classList.add('colab-df-spinner');\n",
              "      try {\n",
              "        const charts = await google.colab.kernel.invokeFunction(\n",
              "            'suggestCharts', [key], {});\n",
              "      } catch (error) {\n",
              "        console.error('Error during call to suggestCharts:', error);\n",
              "      }\n",
              "      quickchartButtonEl.classList.remove('colab-df-spinner');\n",
              "      quickchartButtonEl.classList.add('colab-df-quickchart-complete');\n",
              "    }\n",
              "    (() => {\n",
              "      let quickchartButtonEl =\n",
              "        document.querySelector('#df-ecdaeebe-ff93-4b94-b151-a2144b22c5b7 button');\n",
              "      quickchartButtonEl.style.display =\n",
              "        google.colab.kernel.accessAllowed ? 'block' : 'none';\n",
              "    })();\n",
              "  </script>\n",
              "</div>\n",
              "    </div>\n",
              "  </div>\n"
            ]
          },
          "metadata": {},
          "execution_count": 31
        }
      ]
    },
    {
      "cell_type": "code",
      "source": [
        "df['preco_dec'] = [float(p.replace('R$','').replace(',','.')) for p in df['preço']]"
      ],
      "metadata": {
        "id": "0SU0ou6j_z_W"
      },
      "execution_count": null,
      "outputs": []
    },
    {
      "cell_type": "code",
      "source": [
        "df[df['preco_dec'] > 80]"
      ],
      "metadata": {
        "colab": {
          "base_uri": "https://localhost:8080/",
          "height": 143
        },
        "id": "0mY_E2IJAWIn",
        "outputId": "7b381618-9f65-4a6f-eacc-0e559673ff7a"
      },
      "execution_count": null,
      "outputs": [
        {
          "output_type": "execute_result",
          "data": {
            "text/plain": [
              "                                    link               titulo  \\\n",
              "0  https://amazon.br/python_para_nubbies  Python para Nubbies   \n",
              "1         https://amazon.br/webscrapping  Python Webscrapping   \n",
              "3        https://amazon.br/java_e_python        JAVA e PYTHON   \n",
              "\n",
              "                                           descricao    codigo     preço  \\\n",
              "0    Python.Lorem Ipsum Dolor amec ist dolor sit dum  x1555842  R$150,99   \n",
              "1  Webscrapping Lorem Ipsum Dolor amec ist dolor ...  x1555555   R$85,99   \n",
              "3  JAVA e PYTHON Lorem Ipsum Dolor amec ist dolor...  x1555250  R$200,99   \n",
              "\n",
              "   preco_dec  \n",
              "0     150.99  \n",
              "1      85.99  \n",
              "3     200.99  "
            ],
            "text/html": [
              "\n",
              "  <div id=\"df-a94e9c51-23e4-476f-b20d-d18c33a4866c\" class=\"colab-df-container\">\n",
              "    <div>\n",
              "<style scoped>\n",
              "    .dataframe tbody tr th:only-of-type {\n",
              "        vertical-align: middle;\n",
              "    }\n",
              "\n",
              "    .dataframe tbody tr th {\n",
              "        vertical-align: top;\n",
              "    }\n",
              "\n",
              "    .dataframe thead th {\n",
              "        text-align: right;\n",
              "    }\n",
              "</style>\n",
              "<table border=\"1\" class=\"dataframe\">\n",
              "  <thead>\n",
              "    <tr style=\"text-align: right;\">\n",
              "      <th></th>\n",
              "      <th>link</th>\n",
              "      <th>titulo</th>\n",
              "      <th>descricao</th>\n",
              "      <th>codigo</th>\n",
              "      <th>preço</th>\n",
              "      <th>preco_dec</th>\n",
              "    </tr>\n",
              "  </thead>\n",
              "  <tbody>\n",
              "    <tr>\n",
              "      <th>0</th>\n",
              "      <td>https://amazon.br/python_para_nubbies</td>\n",
              "      <td>Python para Nubbies</td>\n",
              "      <td>Python.Lorem Ipsum Dolor amec ist dolor sit dum</td>\n",
              "      <td>x1555842</td>\n",
              "      <td>R$150,99</td>\n",
              "      <td>150.99</td>\n",
              "    </tr>\n",
              "    <tr>\n",
              "      <th>1</th>\n",
              "      <td>https://amazon.br/webscrapping</td>\n",
              "      <td>Python Webscrapping</td>\n",
              "      <td>Webscrapping Lorem Ipsum Dolor amec ist dolor ...</td>\n",
              "      <td>x1555555</td>\n",
              "      <td>R$85,99</td>\n",
              "      <td>85.99</td>\n",
              "    </tr>\n",
              "    <tr>\n",
              "      <th>3</th>\n",
              "      <td>https://amazon.br/java_e_python</td>\n",
              "      <td>JAVA e PYTHON</td>\n",
              "      <td>JAVA e PYTHON Lorem Ipsum Dolor amec ist dolor...</td>\n",
              "      <td>x1555250</td>\n",
              "      <td>R$200,99</td>\n",
              "      <td>200.99</td>\n",
              "    </tr>\n",
              "  </tbody>\n",
              "</table>\n",
              "</div>\n",
              "    <div class=\"colab-df-buttons\">\n",
              "\n",
              "  <div class=\"colab-df-container\">\n",
              "    <button class=\"colab-df-convert\" onclick=\"convertToInteractive('df-a94e9c51-23e4-476f-b20d-d18c33a4866c')\"\n",
              "            title=\"Convert this dataframe to an interactive table.\"\n",
              "            style=\"display:none;\">\n",
              "\n",
              "  <svg xmlns=\"http://www.w3.org/2000/svg\" height=\"24px\" viewBox=\"0 -960 960 960\">\n",
              "    <path d=\"M120-120v-720h720v720H120Zm60-500h600v-160H180v160Zm220 220h160v-160H400v160Zm0 220h160v-160H400v160ZM180-400h160v-160H180v160Zm440 0h160v-160H620v160ZM180-180h160v-160H180v160Zm440 0h160v-160H620v160Z\"/>\n",
              "  </svg>\n",
              "    </button>\n",
              "\n",
              "  <style>\n",
              "    .colab-df-container {\n",
              "      display:flex;\n",
              "      gap: 12px;\n",
              "    }\n",
              "\n",
              "    .colab-df-convert {\n",
              "      background-color: #E8F0FE;\n",
              "      border: none;\n",
              "      border-radius: 50%;\n",
              "      cursor: pointer;\n",
              "      display: none;\n",
              "      fill: #1967D2;\n",
              "      height: 32px;\n",
              "      padding: 0 0 0 0;\n",
              "      width: 32px;\n",
              "    }\n",
              "\n",
              "    .colab-df-convert:hover {\n",
              "      background-color: #E2EBFA;\n",
              "      box-shadow: 0px 1px 2px rgba(60, 64, 67, 0.3), 0px 1px 3px 1px rgba(60, 64, 67, 0.15);\n",
              "      fill: #174EA6;\n",
              "    }\n",
              "\n",
              "    .colab-df-buttons div {\n",
              "      margin-bottom: 4px;\n",
              "    }\n",
              "\n",
              "    [theme=dark] .colab-df-convert {\n",
              "      background-color: #3B4455;\n",
              "      fill: #D2E3FC;\n",
              "    }\n",
              "\n",
              "    [theme=dark] .colab-df-convert:hover {\n",
              "      background-color: #434B5C;\n",
              "      box-shadow: 0px 1px 3px 1px rgba(0, 0, 0, 0.15);\n",
              "      filter: drop-shadow(0px 1px 2px rgba(0, 0, 0, 0.3));\n",
              "      fill: #FFFFFF;\n",
              "    }\n",
              "  </style>\n",
              "\n",
              "    <script>\n",
              "      const buttonEl =\n",
              "        document.querySelector('#df-a94e9c51-23e4-476f-b20d-d18c33a4866c button.colab-df-convert');\n",
              "      buttonEl.style.display =\n",
              "        google.colab.kernel.accessAllowed ? 'block' : 'none';\n",
              "\n",
              "      async function convertToInteractive(key) {\n",
              "        const element = document.querySelector('#df-a94e9c51-23e4-476f-b20d-d18c33a4866c');\n",
              "        const dataTable =\n",
              "          await google.colab.kernel.invokeFunction('convertToInteractive',\n",
              "                                                    [key], {});\n",
              "        if (!dataTable) return;\n",
              "\n",
              "        const docLinkHtml = 'Like what you see? Visit the ' +\n",
              "          '<a target=\"_blank\" href=https://colab.research.google.com/notebooks/data_table.ipynb>data table notebook</a>'\n",
              "          + ' to learn more about interactive tables.';\n",
              "        element.innerHTML = '';\n",
              "        dataTable['output_type'] = 'display_data';\n",
              "        await google.colab.output.renderOutput(dataTable, element);\n",
              "        const docLink = document.createElement('div');\n",
              "        docLink.innerHTML = docLinkHtml;\n",
              "        element.appendChild(docLink);\n",
              "      }\n",
              "    </script>\n",
              "  </div>\n",
              "\n",
              "\n",
              "<div id=\"df-726c8376-c5a1-47cf-8a65-6ae573bb926e\">\n",
              "  <button class=\"colab-df-quickchart\" onclick=\"quickchart('df-726c8376-c5a1-47cf-8a65-6ae573bb926e')\"\n",
              "            title=\"Suggest charts.\"\n",
              "            style=\"display:none;\">\n",
              "\n",
              "<svg xmlns=\"http://www.w3.org/2000/svg\" height=\"24px\"viewBox=\"0 0 24 24\"\n",
              "     width=\"24px\">\n",
              "    <g>\n",
              "        <path d=\"M19 3H5c-1.1 0-2 .9-2 2v14c0 1.1.9 2 2 2h14c1.1 0 2-.9 2-2V5c0-1.1-.9-2-2-2zM9 17H7v-7h2v7zm4 0h-2V7h2v10zm4 0h-2v-4h2v4z\"/>\n",
              "    </g>\n",
              "</svg>\n",
              "  </button>\n",
              "\n",
              "<style>\n",
              "  .colab-df-quickchart {\n",
              "      --bg-color: #E8F0FE;\n",
              "      --fill-color: #1967D2;\n",
              "      --hover-bg-color: #E2EBFA;\n",
              "      --hover-fill-color: #174EA6;\n",
              "      --disabled-fill-color: #AAA;\n",
              "      --disabled-bg-color: #DDD;\n",
              "  }\n",
              "\n",
              "  [theme=dark] .colab-df-quickchart {\n",
              "      --bg-color: #3B4455;\n",
              "      --fill-color: #D2E3FC;\n",
              "      --hover-bg-color: #434B5C;\n",
              "      --hover-fill-color: #FFFFFF;\n",
              "      --disabled-bg-color: #3B4455;\n",
              "      --disabled-fill-color: #666;\n",
              "  }\n",
              "\n",
              "  .colab-df-quickchart {\n",
              "    background-color: var(--bg-color);\n",
              "    border: none;\n",
              "    border-radius: 50%;\n",
              "    cursor: pointer;\n",
              "    display: none;\n",
              "    fill: var(--fill-color);\n",
              "    height: 32px;\n",
              "    padding: 0;\n",
              "    width: 32px;\n",
              "  }\n",
              "\n",
              "  .colab-df-quickchart:hover {\n",
              "    background-color: var(--hover-bg-color);\n",
              "    box-shadow: 0 1px 2px rgba(60, 64, 67, 0.3), 0 1px 3px 1px rgba(60, 64, 67, 0.15);\n",
              "    fill: var(--button-hover-fill-color);\n",
              "  }\n",
              "\n",
              "  .colab-df-quickchart-complete:disabled,\n",
              "  .colab-df-quickchart-complete:disabled:hover {\n",
              "    background-color: var(--disabled-bg-color);\n",
              "    fill: var(--disabled-fill-color);\n",
              "    box-shadow: none;\n",
              "  }\n",
              "\n",
              "  .colab-df-spinner {\n",
              "    border: 2px solid var(--fill-color);\n",
              "    border-color: transparent;\n",
              "    border-bottom-color: var(--fill-color);\n",
              "    animation:\n",
              "      spin 1s steps(1) infinite;\n",
              "  }\n",
              "\n",
              "  @keyframes spin {\n",
              "    0% {\n",
              "      border-color: transparent;\n",
              "      border-bottom-color: var(--fill-color);\n",
              "      border-left-color: var(--fill-color);\n",
              "    }\n",
              "    20% {\n",
              "      border-color: transparent;\n",
              "      border-left-color: var(--fill-color);\n",
              "      border-top-color: var(--fill-color);\n",
              "    }\n",
              "    30% {\n",
              "      border-color: transparent;\n",
              "      border-left-color: var(--fill-color);\n",
              "      border-top-color: var(--fill-color);\n",
              "      border-right-color: var(--fill-color);\n",
              "    }\n",
              "    40% {\n",
              "      border-color: transparent;\n",
              "      border-right-color: var(--fill-color);\n",
              "      border-top-color: var(--fill-color);\n",
              "    }\n",
              "    60% {\n",
              "      border-color: transparent;\n",
              "      border-right-color: var(--fill-color);\n",
              "    }\n",
              "    80% {\n",
              "      border-color: transparent;\n",
              "      border-right-color: var(--fill-color);\n",
              "      border-bottom-color: var(--fill-color);\n",
              "    }\n",
              "    90% {\n",
              "      border-color: transparent;\n",
              "      border-bottom-color: var(--fill-color);\n",
              "    }\n",
              "  }\n",
              "</style>\n",
              "\n",
              "  <script>\n",
              "    async function quickchart(key) {\n",
              "      const quickchartButtonEl =\n",
              "        document.querySelector('#' + key + ' button');\n",
              "      quickchartButtonEl.disabled = true;  // To prevent multiple clicks.\n",
              "      quickchartButtonEl.classList.add('colab-df-spinner');\n",
              "      try {\n",
              "        const charts = await google.colab.kernel.invokeFunction(\n",
              "            'suggestCharts', [key], {});\n",
              "      } catch (error) {\n",
              "        console.error('Error during call to suggestCharts:', error);\n",
              "      }\n",
              "      quickchartButtonEl.classList.remove('colab-df-spinner');\n",
              "      quickchartButtonEl.classList.add('colab-df-quickchart-complete');\n",
              "    }\n",
              "    (() => {\n",
              "      let quickchartButtonEl =\n",
              "        document.querySelector('#df-726c8376-c5a1-47cf-8a65-6ae573bb926e button');\n",
              "      quickchartButtonEl.style.display =\n",
              "        google.colab.kernel.accessAllowed ? 'block' : 'none';\n",
              "    })();\n",
              "  </script>\n",
              "</div>\n",
              "    </div>\n",
              "  </div>\n"
            ]
          },
          "metadata": {},
          "execution_count": 33
        }
      ]
    },
    {
      "cell_type": "code",
      "source": [
        "df.loc[df['titulo'].str.contains('Python')]"
      ],
      "metadata": {
        "colab": {
          "base_uri": "https://localhost:8080/",
          "height": 112
        },
        "id": "is9zlpjbAaLo",
        "outputId": "c8e3a10e-b6a3-4afe-d7f0-f5b17c45fe48"
      },
      "execution_count": null,
      "outputs": [
        {
          "output_type": "execute_result",
          "data": {
            "text/plain": [
              "                                    link               titulo  \\\n",
              "0  https://amazon.br/python_para_nubbies  Python para Nubbies   \n",
              "1         https://amazon.br/webscrapping  Python Webscrapping   \n",
              "\n",
              "                                           descricao    codigo     preço  \\\n",
              "0    Python.Lorem Ipsum Dolor amec ist dolor sit dum  x1555842  R$150,99   \n",
              "1  Webscrapping Lorem Ipsum Dolor amec ist dolor ...  x1555555   R$85,99   \n",
              "\n",
              "   preco_dec  \n",
              "0     150.99  \n",
              "1      85.99  "
            ],
            "text/html": [
              "\n",
              "  <div id=\"df-03b9f1eb-623d-433b-897f-d59864dda400\" class=\"colab-df-container\">\n",
              "    <div>\n",
              "<style scoped>\n",
              "    .dataframe tbody tr th:only-of-type {\n",
              "        vertical-align: middle;\n",
              "    }\n",
              "\n",
              "    .dataframe tbody tr th {\n",
              "        vertical-align: top;\n",
              "    }\n",
              "\n",
              "    .dataframe thead th {\n",
              "        text-align: right;\n",
              "    }\n",
              "</style>\n",
              "<table border=\"1\" class=\"dataframe\">\n",
              "  <thead>\n",
              "    <tr style=\"text-align: right;\">\n",
              "      <th></th>\n",
              "      <th>link</th>\n",
              "      <th>titulo</th>\n",
              "      <th>descricao</th>\n",
              "      <th>codigo</th>\n",
              "      <th>preço</th>\n",
              "      <th>preco_dec</th>\n",
              "    </tr>\n",
              "  </thead>\n",
              "  <tbody>\n",
              "    <tr>\n",
              "      <th>0</th>\n",
              "      <td>https://amazon.br/python_para_nubbies</td>\n",
              "      <td>Python para Nubbies</td>\n",
              "      <td>Python.Lorem Ipsum Dolor amec ist dolor sit dum</td>\n",
              "      <td>x1555842</td>\n",
              "      <td>R$150,99</td>\n",
              "      <td>150.99</td>\n",
              "    </tr>\n",
              "    <tr>\n",
              "      <th>1</th>\n",
              "      <td>https://amazon.br/webscrapping</td>\n",
              "      <td>Python Webscrapping</td>\n",
              "      <td>Webscrapping Lorem Ipsum Dolor amec ist dolor ...</td>\n",
              "      <td>x1555555</td>\n",
              "      <td>R$85,99</td>\n",
              "      <td>85.99</td>\n",
              "    </tr>\n",
              "  </tbody>\n",
              "</table>\n",
              "</div>\n",
              "    <div class=\"colab-df-buttons\">\n",
              "\n",
              "  <div class=\"colab-df-container\">\n",
              "    <button class=\"colab-df-convert\" onclick=\"convertToInteractive('df-03b9f1eb-623d-433b-897f-d59864dda400')\"\n",
              "            title=\"Convert this dataframe to an interactive table.\"\n",
              "            style=\"display:none;\">\n",
              "\n",
              "  <svg xmlns=\"http://www.w3.org/2000/svg\" height=\"24px\" viewBox=\"0 -960 960 960\">\n",
              "    <path d=\"M120-120v-720h720v720H120Zm60-500h600v-160H180v160Zm220 220h160v-160H400v160Zm0 220h160v-160H400v160ZM180-400h160v-160H180v160Zm440 0h160v-160H620v160ZM180-180h160v-160H180v160Zm440 0h160v-160H620v160Z\"/>\n",
              "  </svg>\n",
              "    </button>\n",
              "\n",
              "  <style>\n",
              "    .colab-df-container {\n",
              "      display:flex;\n",
              "      gap: 12px;\n",
              "    }\n",
              "\n",
              "    .colab-df-convert {\n",
              "      background-color: #E8F0FE;\n",
              "      border: none;\n",
              "      border-radius: 50%;\n",
              "      cursor: pointer;\n",
              "      display: none;\n",
              "      fill: #1967D2;\n",
              "      height: 32px;\n",
              "      padding: 0 0 0 0;\n",
              "      width: 32px;\n",
              "    }\n",
              "\n",
              "    .colab-df-convert:hover {\n",
              "      background-color: #E2EBFA;\n",
              "      box-shadow: 0px 1px 2px rgba(60, 64, 67, 0.3), 0px 1px 3px 1px rgba(60, 64, 67, 0.15);\n",
              "      fill: #174EA6;\n",
              "    }\n",
              "\n",
              "    .colab-df-buttons div {\n",
              "      margin-bottom: 4px;\n",
              "    }\n",
              "\n",
              "    [theme=dark] .colab-df-convert {\n",
              "      background-color: #3B4455;\n",
              "      fill: #D2E3FC;\n",
              "    }\n",
              "\n",
              "    [theme=dark] .colab-df-convert:hover {\n",
              "      background-color: #434B5C;\n",
              "      box-shadow: 0px 1px 3px 1px rgba(0, 0, 0, 0.15);\n",
              "      filter: drop-shadow(0px 1px 2px rgba(0, 0, 0, 0.3));\n",
              "      fill: #FFFFFF;\n",
              "    }\n",
              "  </style>\n",
              "\n",
              "    <script>\n",
              "      const buttonEl =\n",
              "        document.querySelector('#df-03b9f1eb-623d-433b-897f-d59864dda400 button.colab-df-convert');\n",
              "      buttonEl.style.display =\n",
              "        google.colab.kernel.accessAllowed ? 'block' : 'none';\n",
              "\n",
              "      async function convertToInteractive(key) {\n",
              "        const element = document.querySelector('#df-03b9f1eb-623d-433b-897f-d59864dda400');\n",
              "        const dataTable =\n",
              "          await google.colab.kernel.invokeFunction('convertToInteractive',\n",
              "                                                    [key], {});\n",
              "        if (!dataTable) return;\n",
              "\n",
              "        const docLinkHtml = 'Like what you see? Visit the ' +\n",
              "          '<a target=\"_blank\" href=https://colab.research.google.com/notebooks/data_table.ipynb>data table notebook</a>'\n",
              "          + ' to learn more about interactive tables.';\n",
              "        element.innerHTML = '';\n",
              "        dataTable['output_type'] = 'display_data';\n",
              "        await google.colab.output.renderOutput(dataTable, element);\n",
              "        const docLink = document.createElement('div');\n",
              "        docLink.innerHTML = docLinkHtml;\n",
              "        element.appendChild(docLink);\n",
              "      }\n",
              "    </script>\n",
              "  </div>\n",
              "\n",
              "\n",
              "<div id=\"df-fd01650d-edbb-4343-b25f-15551979f758\">\n",
              "  <button class=\"colab-df-quickchart\" onclick=\"quickchart('df-fd01650d-edbb-4343-b25f-15551979f758')\"\n",
              "            title=\"Suggest charts.\"\n",
              "            style=\"display:none;\">\n",
              "\n",
              "<svg xmlns=\"http://www.w3.org/2000/svg\" height=\"24px\"viewBox=\"0 0 24 24\"\n",
              "     width=\"24px\">\n",
              "    <g>\n",
              "        <path d=\"M19 3H5c-1.1 0-2 .9-2 2v14c0 1.1.9 2 2 2h14c1.1 0 2-.9 2-2V5c0-1.1-.9-2-2-2zM9 17H7v-7h2v7zm4 0h-2V7h2v10zm4 0h-2v-4h2v4z\"/>\n",
              "    </g>\n",
              "</svg>\n",
              "  </button>\n",
              "\n",
              "<style>\n",
              "  .colab-df-quickchart {\n",
              "      --bg-color: #E8F0FE;\n",
              "      --fill-color: #1967D2;\n",
              "      --hover-bg-color: #E2EBFA;\n",
              "      --hover-fill-color: #174EA6;\n",
              "      --disabled-fill-color: #AAA;\n",
              "      --disabled-bg-color: #DDD;\n",
              "  }\n",
              "\n",
              "  [theme=dark] .colab-df-quickchart {\n",
              "      --bg-color: #3B4455;\n",
              "      --fill-color: #D2E3FC;\n",
              "      --hover-bg-color: #434B5C;\n",
              "      --hover-fill-color: #FFFFFF;\n",
              "      --disabled-bg-color: #3B4455;\n",
              "      --disabled-fill-color: #666;\n",
              "  }\n",
              "\n",
              "  .colab-df-quickchart {\n",
              "    background-color: var(--bg-color);\n",
              "    border: none;\n",
              "    border-radius: 50%;\n",
              "    cursor: pointer;\n",
              "    display: none;\n",
              "    fill: var(--fill-color);\n",
              "    height: 32px;\n",
              "    padding: 0;\n",
              "    width: 32px;\n",
              "  }\n",
              "\n",
              "  .colab-df-quickchart:hover {\n",
              "    background-color: var(--hover-bg-color);\n",
              "    box-shadow: 0 1px 2px rgba(60, 64, 67, 0.3), 0 1px 3px 1px rgba(60, 64, 67, 0.15);\n",
              "    fill: var(--button-hover-fill-color);\n",
              "  }\n",
              "\n",
              "  .colab-df-quickchart-complete:disabled,\n",
              "  .colab-df-quickchart-complete:disabled:hover {\n",
              "    background-color: var(--disabled-bg-color);\n",
              "    fill: var(--disabled-fill-color);\n",
              "    box-shadow: none;\n",
              "  }\n",
              "\n",
              "  .colab-df-spinner {\n",
              "    border: 2px solid var(--fill-color);\n",
              "    border-color: transparent;\n",
              "    border-bottom-color: var(--fill-color);\n",
              "    animation:\n",
              "      spin 1s steps(1) infinite;\n",
              "  }\n",
              "\n",
              "  @keyframes spin {\n",
              "    0% {\n",
              "      border-color: transparent;\n",
              "      border-bottom-color: var(--fill-color);\n",
              "      border-left-color: var(--fill-color);\n",
              "    }\n",
              "    20% {\n",
              "      border-color: transparent;\n",
              "      border-left-color: var(--fill-color);\n",
              "      border-top-color: var(--fill-color);\n",
              "    }\n",
              "    30% {\n",
              "      border-color: transparent;\n",
              "      border-left-color: var(--fill-color);\n",
              "      border-top-color: var(--fill-color);\n",
              "      border-right-color: var(--fill-color);\n",
              "    }\n",
              "    40% {\n",
              "      border-color: transparent;\n",
              "      border-right-color: var(--fill-color);\n",
              "      border-top-color: var(--fill-color);\n",
              "    }\n",
              "    60% {\n",
              "      border-color: transparent;\n",
              "      border-right-color: var(--fill-color);\n",
              "    }\n",
              "    80% {\n",
              "      border-color: transparent;\n",
              "      border-right-color: var(--fill-color);\n",
              "      border-bottom-color: var(--fill-color);\n",
              "    }\n",
              "    90% {\n",
              "      border-color: transparent;\n",
              "      border-bottom-color: var(--fill-color);\n",
              "    }\n",
              "  }\n",
              "</style>\n",
              "\n",
              "  <script>\n",
              "    async function quickchart(key) {\n",
              "      const quickchartButtonEl =\n",
              "        document.querySelector('#' + key + ' button');\n",
              "      quickchartButtonEl.disabled = true;  // To prevent multiple clicks.\n",
              "      quickchartButtonEl.classList.add('colab-df-spinner');\n",
              "      try {\n",
              "        const charts = await google.colab.kernel.invokeFunction(\n",
              "            'suggestCharts', [key], {});\n",
              "      } catch (error) {\n",
              "        console.error('Error during call to suggestCharts:', error);\n",
              "      }\n",
              "      quickchartButtonEl.classList.remove('colab-df-spinner');\n",
              "      quickchartButtonEl.classList.add('colab-df-quickchart-complete');\n",
              "    }\n",
              "    (() => {\n",
              "      let quickchartButtonEl =\n",
              "        document.querySelector('#df-fd01650d-edbb-4343-b25f-15551979f758 button');\n",
              "      quickchartButtonEl.style.display =\n",
              "        google.colab.kernel.accessAllowed ? 'block' : 'none';\n",
              "    })();\n",
              "  </script>\n",
              "</div>\n",
              "    </div>\n",
              "  </div>\n"
            ]
          },
          "metadata": {},
          "execution_count": 34
        }
      ]
    },
    {
      "cell_type": "code",
      "source": [
        "### THATS ALL FOLKS!!!"
      ],
      "metadata": {
        "id": "tZcA9gu-ooiP"
      },
      "execution_count": null,
      "outputs": []
    },
    {
      "cell_type": "code",
      "source": [],
      "metadata": {
        "id": "x1Ep_1Nk_zUA"
      },
      "execution_count": null,
      "outputs": []
    }
  ]
}