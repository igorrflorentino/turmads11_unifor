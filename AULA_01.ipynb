{
  "cells": [
    {
      "cell_type": "markdown",
      "metadata": {
        "id": "_jVhN0QJOrC7"
      },
      "source": [
        "# DATA HARVESTING"
      ]
    },
    {
      "cell_type": "code",
      "execution_count": 175,
      "metadata": {
        "id": "oa1MRtM4Nj9F"
      },
      "outputs": [],
      "source": [
        "from urllib.request import urlopen\n",
        "from pathlib import Path\n",
        "from bs4 import BeautifulSoup\n",
        "import re"
      ]
    },
    {
      "cell_type": "code",
      "execution_count": 176,
      "metadata": {
        "colab": {
          "base_uri": "https://localhost:8080/"
        },
        "id": "ByeLEAjAQjgh",
        "outputId": "49254fc7-1c77-4876-e51f-73cf3478d6a8"
      },
      "outputs": [],
      "source": [
        "# pastas = !ls\n",
        "# pastas"
      ]
    },
    {
      "cell_type": "code",
      "execution_count": 177,
      "metadata": {
        "id": "DRYUg7hOPZ9S"
      },
      "outputs": [],
      "source": [
        "# boa prática para constantes LETRAMAIUSCULA\n",
        "# HTML = urlopen(\"file:////content/drive/MyDrive/MBA/UNIFOR/DATA SCIENCE/2023/DATA HARVESTING/html/html.html\")\n",
        "# HTML = urlopen(\"https://quotes.toscrape.com/\")\n",
        "\n",
        "# HTML está na pasta do projeto\n",
        "html_path = Path(\"../html/html2.html\").resolve()\n",
        "HTML = urlopen(f\"file:///{html_path}\")"
      ]
    },
    {
      "cell_type": "markdown",
      "metadata": {
        "id": "DbIhMyG4UB7s"
      },
      "source": [
        "## Pontos iniciais"
      ]
    },
    {
      "cell_type": "code",
      "execution_count": 178,
      "metadata": {
        "id": "CxV0Y8LVPaeh"
      },
      "outputs": [],
      "source": [
        "# read() - recebe o objeto do urlopen com o conteudo da pagina, arquivo.\n",
        "# html.parser e lxml - é uma espécie de extrator de dados, ele faz a leitura e coleta do arquivo html posicionados no .read()\n",
        "# BeautifulSoup - recebe os parametros anteriores e instancia o objeto bs com o response, retorno, resposta, saida, etc...\n",
        "\n",
        "bs = BeautifulSoup(HTML.read(), 'lxml')\n"
      ]
    },
    {
      "cell_type": "markdown",
      "metadata": {
        "id": "whSTOYI_QIfm"
      },
      "source": [
        "## Falando de Parsers\n",
        "html.parser - sem dependencias e velocidade media, leniencia media\n",
        "\n",
        "html5lib - mais leniente a problemas no html, baixa velocidade e possui dependencia\n",
        "\n",
        "lxml - o mais rapido, pouco leniente a falhas no html"
      ]
    },
    {
      "cell_type": "markdown",
      "metadata": {
        "id": "RfCSV8mh9nQD"
      },
      "source": [
        "### Visualizando o HTML"
      ]
    },
    {
      "cell_type": "code",
      "execution_count": 179,
      "metadata": {
        "id": "Wg5FLEE2ReNR"
      },
      "outputs": [],
      "source": [
        "#bs"
      ]
    },
    {
      "cell_type": "markdown",
      "metadata": {
        "id": "egx6buBpSQgL"
      },
      "source": [
        "#### Raspagem do HTML"
      ]
    },
    {
      "cell_type": "markdown",
      "metadata": {
        "id": "yYyz4Jw4Rzz9"
      },
      "source": [
        "Exercicio 1\n",
        "Vamos lá! Capturar o texto da tag P que está na DIV de classe CABECALHO.\n",
        "Depois imprima na tela o resultado."
      ]
    },
    {
      "cell_type": "code",
      "execution_count": 180,
      "metadata": {},
      "outputs": [
        {
          "data": {
            "text/plain": [
              "<!DOCTYPE html>\n",
              "<html lang=\"pt-br\">\n",
              "<head>\n",
              "<meta charset=\"utf-8\"/>\n",
              "<meta content=\"width=device-width, initial-scale=1.0\" name=\"viewport\"/>\n",
              "<meta content=\"Página demonstrativa de HTML com lista de produtos\" name=\"description\"/>\n",
              "<title>Página HTML Corrigida</title>\n",
              "<style>\n",
              "        body {\n",
              "            color: blue;\n",
              "            padding: 0px;\n",
              "            margin: 0px;\n",
              "            font-family: Arial, sans-serif;\n",
              "        }\n",
              "        \n",
              "        p {\n",
              "            color: brown; \n",
              "            font-size: 1.3em; \n",
              "            font-family: 'Courier New', Courier, monospace;\n",
              "        } \n",
              "        \n",
              "        h1 {\n",
              "            color: blue; \n",
              "            font-size: 25px; \n",
              "            font-family: 'Gill Sans', 'Gill Sans MT', Calibri, 'Trebuchet MS', sans-serif;\n",
              "        }\n",
              "        \n",
              "        h2 {\n",
              "            color: black; \n",
              "            font-size: 15px;\n",
              "        }\n",
              "\n",
              "        h3 {\n",
              "            color: blue;\n",
              "            font-size: 18px;\n",
              "        }\n",
              "\n",
              "        #main {\n",
              "            width: 50%;\n",
              "            padding: 5px;\n",
              "            margin: 5px;\n",
              "            text-align: left;\n",
              "        }\n",
              "\n",
              "        .produto {\n",
              "            width: 90%;\n",
              "            padding: 5%;\n",
              "            margin: 5%;\n",
              "            border: 1px solid #ddd;\n",
              "            border-radius: 5px;\n",
              "            background-color: #f9f9f9;\n",
              "        }\n",
              "\n",
              "        .produto ul {\n",
              "            list-style: none;\n",
              "            padding: 0;\n",
              "            margin: 0;\n",
              "        }\n",
              "\n",
              "        .produto li {\n",
              "            margin: 8px 0;\n",
              "            padding: 3px 0;\n",
              "        }\n",
              "\n",
              "        li.link {\n",
              "            color: black;\n",
              "            font-size: 1.5em;\n",
              "            font-family: Verdana, Geneva, Tahoma, sans-serif;\n",
              "        }\n",
              "\n",
              "        li.link a {\n",
              "            color: #0066cc;\n",
              "            text-decoration: none;\n",
              "        }\n",
              "\n",
              "        li.link a:hover {\n",
              "            text-decoration: underline;\n",
              "        }\n",
              "\n",
              "        .titulo {\n",
              "            font-weight: bold;\n",
              "            font-size: 16px;\n",
              "            color: #333;\n",
              "        }\n",
              "\n",
              "        .subtitulo {\n",
              "            font-style: italic;\n",
              "            color: #666;\n",
              "            font-size: 14px;\n",
              "        }\n",
              "\n",
              "        .id_produto {\n",
              "            font-size: 12px;\n",
              "            color: #888;\n",
              "            font-family: monospace;\n",
              "        }\n",
              "\n",
              "        .preco {\n",
              "            font-weight: bold;\n",
              "            color: #d9534f;\n",
              "            font-size: 18px;\n",
              "        }\n",
              "\n",
              "        .descricao {\n",
              "            margin-top: 20px;\n",
              "            padding: 10px;\n",
              "            background-color: #f0f0f0;\n",
              "            border-left: 4px solid #0066cc;\n",
              "        }\n",
              "\n",
              "        .rodape {\n",
              "            margin-top: 30px;\n",
              "            padding: 20px;\n",
              "            background-color: #f5f5f5;\n",
              "            border-top: 1px solid #ddd;\n",
              "        }\n",
              "    </style>\n",
              "</head>\n",
              "<body>\n",
              "<div id=\"main\">\n",
              "<div class=\"cabecalho\">\n",
              "<h1>OLÁ PESSOAL COMO VAI, AQUI É HTML</h1>\n",
              "<p>Oi pessoal eu sou um parágrafo. E estou dentro de uma tag chamada DIV. Ela serve para formatar as partes de um site.</p>\n",
              "</div>\n",
              "<div class=\"conteudo\">\n",
              "<h2>Oi, eu faço um título ficar mais com cara de título!</h2>\n",
              "<div class=\"produto\">\n",
              "<ul>\n",
              "<li class=\"link\"><a href=\"https://unifor.br\" target=\"_blank\">Link1</a></li>\n",
              "<li class=\"titulo\">Título do produto</li>\n",
              "<li class=\"subtitulo\">Lorem Ipsum Dolor amec ist dolor sit dum.</li>\n",
              "<li class=\"id_produto\">ID: x1555243</li>\n",
              "<li class=\"preco\">R$ 5,99</li>\n",
              "</ul>\n",
              "</div>\n",
              "<div class=\"produto\">\n",
              "<ul>\n",
              "<li class=\"link\"><a href=\"https://unifor.br\" target=\"_blank\">Link2</a></li>\n",
              "<li class=\"titulo\">Título do produto 2</li>\n",
              "<li class=\"subtitulo\">Lorem Ipsum Dolor amec ist dolor sit dum.</li>\n",
              "<li class=\"id_produto\">ID: x1555244</li>\n",
              "<li class=\"preco\">R$ 15,99</li>\n",
              "</ul>\n",
              "</div>\n",
              "<div class=\"produto\">\n",
              "<ul>\n",
              "<li class=\"link\"><a href=\"https://unifor.br\" target=\"_blank\">Link3</a></li>\n",
              "<li class=\"titulo\">Título do produto 3</li>\n",
              "<li class=\"subtitulo\">Lorem Ipsum Dolor amec ist dolor sit dum.</li>\n",
              "<li class=\"id_produto\">ID: x1555245</li>\n",
              "<li class=\"preco\">R$ 25,99</li>\n",
              "</ul>\n",
              "</div>\n",
              "<div class=\"produto\">\n",
              "<ul>\n",
              "<li class=\"link\"><a href=\"https://unifor.br\" target=\"_blank\">Link4</a></li>\n",
              "<li class=\"titulo\">Título do produto 4</li>\n",
              "<li class=\"subtitulo\">Lorem Ipsum Dolor amec ist dolor sit dum.</li>\n",
              "<li class=\"id_produto\">ID: x1555246</li>\n",
              "<li class=\"preco\">R$ 35,99</li>\n",
              "</ul>\n",
              "</div>\n",
              "<p class=\"descricao\">Vocês viram o UL e o LI, eles respondem na hora que precisamos escrever listas. Serve muito para menus.</p>\n",
              "</div>\n",
              "<div class=\"rodape\">\n",
              "<h3>Estamos no rodapé da página. Aqui seria o final do site que está no HTML.</h3>\n",
              "</div>\n",
              "</div>\n",
              "</body>\n",
              "</html>"
            ]
          },
          "execution_count": 180,
          "metadata": {},
          "output_type": "execute_result"
        }
      ],
      "source": [
        "bs"
      ]
    },
    {
      "cell_type": "code",
      "execution_count": 181,
      "metadata": {
        "id": "MD7ZU3lDi4cQ"
      },
      "outputs": [],
      "source": [
        "main = bs.find('div', {'id':'main'})"
      ]
    },
    {
      "cell_type": "code",
      "execution_count": 182,
      "metadata": {},
      "outputs": [
        {
          "data": {
            "text/plain": [
              "'OLÁ PESSOAL COMO VAI, AQUI É HTML'"
            ]
          },
          "execution_count": 182,
          "metadata": {},
          "output_type": "execute_result"
        }
      ],
      "source": [
        "main.find('div', {'class':'cabecalho'}).h1.text"
      ]
    },
    {
      "cell_type": "code",
      "execution_count": 183,
      "metadata": {
        "colab": {
          "base_uri": "https://localhost:8080/"
        },
        "id": "uWfRiu5sjTnB",
        "outputId": "ddba8b02-20bc-4c7a-e285-b15475598010"
      },
      "outputs": [
        {
          "name": "stdout",
          "output_type": "stream",
          "text": [
            "<div class=\"cabecalho\">\n",
            "<h1>OLÁ PESSOAL COMO VAI, AQUI É HTML</h1>\n",
            "<p>Oi pessoal eu sou um parágrafo. E estou dentro de uma tag chamada DIV. Ela serve para formatar as partes de um site.</p>\n",
            "</div>\n",
            "<div class=\"conteudo\">\n",
            "<h2>Oi, eu faço um título ficar mais com cara de título!</h2>\n",
            "<div class=\"produto\">\n",
            "<ul>\n",
            "<li class=\"link\"><a href=\"https://unifor.br\" target=\"_blank\">Link1</a></li>\n",
            "<li class=\"titulo\">Título do produto</li>\n",
            "<li class=\"subtitulo\">Lorem Ipsum Dolor amec ist dolor sit dum.</li>\n",
            "<li class=\"id_produto\">ID: x1555243</li>\n",
            "<li class=\"preco\">R$ 5,99</li>\n",
            "</ul>\n",
            "</div>\n",
            "<div class=\"produto\">\n",
            "<ul>\n",
            "<li class=\"link\"><a href=\"https://unifor.br\" target=\"_blank\">Link2</a></li>\n",
            "<li class=\"titulo\">Título do produto 2</li>\n",
            "<li class=\"subtitulo\">Lorem Ipsum Dolor amec ist dolor sit dum.</li>\n",
            "<li class=\"id_produto\">ID: x1555244</li>\n",
            "<li class=\"preco\">R$ 15,99</li>\n",
            "</ul>\n",
            "</div>\n",
            "<div class=\"produto\">\n",
            "<ul>\n",
            "<li class=\"link\"><a href=\"https://unifor.br\" target=\"_blank\">Link3</a></li>\n",
            "<li class=\"titulo\">Título do produto 3</li>\n",
            "<li class=\"subtitulo\">Lorem Ipsum Dolor amec ist dolor sit dum.</li>\n",
            "<li class=\"id_produto\">ID: x1555245</li>\n",
            "<li class=\"preco\">R$ 25,99</li>\n",
            "</ul>\n",
            "</div>\n",
            "<div class=\"produto\">\n",
            "<ul>\n",
            "<li class=\"link\"><a href=\"https://unifor.br\" target=\"_blank\">Link4</a></li>\n",
            "<li class=\"titulo\">Título do produto 4</li>\n",
            "<li class=\"subtitulo\">Lorem Ipsum Dolor amec ist dolor sit dum.</li>\n",
            "<li class=\"id_produto\">ID: x1555246</li>\n",
            "<li class=\"preco\">R$ 35,99</li>\n",
            "</ul>\n",
            "</div>\n",
            "<p class=\"descricao\">Vocês viram o UL e o LI, eles respondem na hora que precisamos escrever listas. Serve muito para menus.</p>\n",
            "</div>\n",
            "<div class=\"produto\">\n",
            "<ul>\n",
            "<li class=\"link\"><a href=\"https://unifor.br\" target=\"_blank\">Link1</a></li>\n",
            "<li class=\"titulo\">Título do produto</li>\n",
            "<li class=\"subtitulo\">Lorem Ipsum Dolor amec ist dolor sit dum.</li>\n",
            "<li class=\"id_produto\">ID: x1555243</li>\n",
            "<li class=\"preco\">R$ 5,99</li>\n",
            "</ul>\n",
            "</div>\n",
            "<div class=\"produto\">\n",
            "<ul>\n",
            "<li class=\"link\"><a href=\"https://unifor.br\" target=\"_blank\">Link2</a></li>\n",
            "<li class=\"titulo\">Título do produto 2</li>\n",
            "<li class=\"subtitulo\">Lorem Ipsum Dolor amec ist dolor sit dum.</li>\n",
            "<li class=\"id_produto\">ID: x1555244</li>\n",
            "<li class=\"preco\">R$ 15,99</li>\n",
            "</ul>\n",
            "</div>\n",
            "<div class=\"produto\">\n",
            "<ul>\n",
            "<li class=\"link\"><a href=\"https://unifor.br\" target=\"_blank\">Link3</a></li>\n",
            "<li class=\"titulo\">Título do produto 3</li>\n",
            "<li class=\"subtitulo\">Lorem Ipsum Dolor amec ist dolor sit dum.</li>\n",
            "<li class=\"id_produto\">ID: x1555245</li>\n",
            "<li class=\"preco\">R$ 25,99</li>\n",
            "</ul>\n",
            "</div>\n",
            "<div class=\"produto\">\n",
            "<ul>\n",
            "<li class=\"link\"><a href=\"https://unifor.br\" target=\"_blank\">Link4</a></li>\n",
            "<li class=\"titulo\">Título do produto 4</li>\n",
            "<li class=\"subtitulo\">Lorem Ipsum Dolor amec ist dolor sit dum.</li>\n",
            "<li class=\"id_produto\">ID: x1555246</li>\n",
            "<li class=\"preco\">R$ 35,99</li>\n",
            "</ul>\n",
            "</div>\n",
            "<div class=\"rodape\">\n",
            "<h3>Estamos no rodapé da página. Aqui seria o final do site que está no HTML.</h3>\n",
            "</div>\n"
          ]
        }
      ],
      "source": [
        "for x in range(len(main.find_all('div'))):\n",
        "  print(main.find_all('div')[x])"
      ]
    },
    {
      "cell_type": "code",
      "execution_count": 184,
      "metadata": {
        "colab": {
          "base_uri": "https://localhost:8080/"
        },
        "id": "ggiAtCGisU-V",
        "outputId": "e7c45c79-eaf0-48e7-e697-628f10282c1a"
      },
      "outputs": [
        {
          "data": {
            "text/plain": [
              "<div class=\"conteudo\">\n",
              "<h2>Oi, eu faço um título ficar mais com cara de título!</h2>\n",
              "<div class=\"produto\">\n",
              "<ul>\n",
              "<li class=\"link\"><a href=\"https://unifor.br\" target=\"_blank\">Link1</a></li>\n",
              "<li class=\"titulo\">Título do produto</li>\n",
              "<li class=\"subtitulo\">Lorem Ipsum Dolor amec ist dolor sit dum.</li>\n",
              "<li class=\"id_produto\">ID: x1555243</li>\n",
              "<li class=\"preco\">R$ 5,99</li>\n",
              "</ul>\n",
              "</div>\n",
              "<div class=\"produto\">\n",
              "<ul>\n",
              "<li class=\"link\"><a href=\"https://unifor.br\" target=\"_blank\">Link2</a></li>\n",
              "<li class=\"titulo\">Título do produto 2</li>\n",
              "<li class=\"subtitulo\">Lorem Ipsum Dolor amec ist dolor sit dum.</li>\n",
              "<li class=\"id_produto\">ID: x1555244</li>\n",
              "<li class=\"preco\">R$ 15,99</li>\n",
              "</ul>\n",
              "</div>\n",
              "<div class=\"produto\">\n",
              "<ul>\n",
              "<li class=\"link\"><a href=\"https://unifor.br\" target=\"_blank\">Link3</a></li>\n",
              "<li class=\"titulo\">Título do produto 3</li>\n",
              "<li class=\"subtitulo\">Lorem Ipsum Dolor amec ist dolor sit dum.</li>\n",
              "<li class=\"id_produto\">ID: x1555245</li>\n",
              "<li class=\"preco\">R$ 25,99</li>\n",
              "</ul>\n",
              "</div>\n",
              "<div class=\"produto\">\n",
              "<ul>\n",
              "<li class=\"link\"><a href=\"https://unifor.br\" target=\"_blank\">Link4</a></li>\n",
              "<li class=\"titulo\">Título do produto 4</li>\n",
              "<li class=\"subtitulo\">Lorem Ipsum Dolor amec ist dolor sit dum.</li>\n",
              "<li class=\"id_produto\">ID: x1555246</li>\n",
              "<li class=\"preco\">R$ 35,99</li>\n",
              "</ul>\n",
              "</div>\n",
              "<p class=\"descricao\">Vocês viram o UL e o LI, eles respondem na hora que precisamos escrever listas. Serve muito para menus.</p>\n",
              "</div>"
            ]
          },
          "execution_count": 184,
          "metadata": {},
          "output_type": "execute_result"
        }
      ],
      "source": [
        "main.find('div', {'class':'conteudo'})"
      ]
    },
    {
      "cell_type": "code",
      "execution_count": 185,
      "metadata": {
        "id": "WTWjoiD2Ukj_"
      },
      "outputs": [],
      "source": [
        "texto = bs.find('div', {'class':'cabecalho'}).p.text #get_text()"
      ]
    },
    {
      "cell_type": "code",
      "execution_count": 187,
      "metadata": {
        "colab": {
          "base_uri": "https://localhost:8080/"
        },
        "id": "ZoSZIkQKRV1n",
        "outputId": "404308b3-514d-425d-ef79-7f633b01a374"
      },
      "outputs": [
        {
          "name": "stdout",
          "output_type": "stream",
          "text": [
            "Oi pessoal eu sou um parágrafo. E estou dentro de uma tag chamada DIV. Ela serve para formatar as partes de um site.\n"
          ]
        }
      ],
      "source": [
        "print(texto)"
      ]
    },
    {
      "cell_type": "markdown",
      "metadata": {
        "id": "MlSh1cTKQQVf"
      },
      "source": [
        "## Entendendo um pouco mais...\n",
        "\n",
        "[DOCUMENTACAO OFICIAL](https://beautiful-soup-4.readthedocs.io/en/latest/)"
      ]
    },
    {
      "cell_type": "markdown",
      "metadata": {
        "id": "0Z_hEf3eUuzF"
      },
      "source": [
        "### Vamos adentrar as tags começando pela tag HTML"
      ]
    },
    {
      "cell_type": "markdown",
      "metadata": {
        "id": "U1Ern2SxIfUl"
      },
      "source": [
        "### NAVEGACAO PELA ÁRVORE"
      ]
    },
    {
      "cell_type": "code",
      "execution_count": 188,
      "metadata": {
        "colab": {
          "base_uri": "https://localhost:8080/"
        },
        "id": "h-W2PMnuPaqJ",
        "outputId": "523ea1f7-e08b-470c-c7d0-74bd584fd791"
      },
      "outputs": [
        {
          "name": "stdout",
          "output_type": "stream",
          "text": [
            "<html lang=\"pt-br\">\n",
            "<head>\n",
            "<meta charset=\"utf-8\"/>\n",
            "<meta content=\"width=device-width, initial-scale=1.0\" name=\"viewport\"/>\n",
            "<meta content=\"Página demonstrativa de HTML com lista de produtos\" name=\"description\"/>\n",
            "<title>Página HTML Corrigida</title>\n",
            "<style>\n",
            "        body {\n",
            "            color: blue;\n",
            "            padding: 0px;\n",
            "            margin: 0px;\n",
            "            font-family: Arial, sans-serif;\n",
            "        }\n",
            "        \n",
            "        p {\n",
            "            color: brown; \n",
            "            font-size: 1.3em; \n",
            "            font-family: 'Courier New', Courier, monospace;\n",
            "        } \n",
            "        \n",
            "        h1 {\n",
            "            color: blue; \n",
            "            font-size: 25px; \n",
            "            font-family: 'Gill Sans', 'Gill Sans MT', Calibri, 'Trebuchet MS', sans-serif;\n",
            "        }\n",
            "        \n",
            "        h2 {\n",
            "            color: black; \n",
            "            font-size: 15px;\n",
            "        }\n",
            "\n",
            "        h3 {\n",
            "            color: blue;\n",
            "            font-size: 18px;\n",
            "        }\n",
            "\n",
            "        #main {\n",
            "            width: 50%;\n",
            "            padding: 5px;\n",
            "            margin: 5px;\n",
            "            text-align: left;\n",
            "        }\n",
            "\n",
            "        .produto {\n",
            "            width: 90%;\n",
            "            padding: 5%;\n",
            "            margin: 5%;\n",
            "            border: 1px solid #ddd;\n",
            "            border-radius: 5px;\n",
            "            background-color: #f9f9f9;\n",
            "        }\n",
            "\n",
            "        .produto ul {\n",
            "            list-style: none;\n",
            "            padding: 0;\n",
            "            margin: 0;\n",
            "        }\n",
            "\n",
            "        .produto li {\n",
            "            margin: 8px 0;\n",
            "            padding: 3px 0;\n",
            "        }\n",
            "\n",
            "        li.link {\n",
            "            color: black;\n",
            "            font-size: 1.5em;\n",
            "            font-family: Verdana, Geneva, Tahoma, sans-serif;\n",
            "        }\n",
            "\n",
            "        li.link a {\n",
            "            color: #0066cc;\n",
            "            text-decoration: none;\n",
            "        }\n",
            "\n",
            "        li.link a:hover {\n",
            "            text-decoration: underline;\n",
            "        }\n",
            "\n",
            "        .titulo {\n",
            "            font-weight: bold;\n",
            "            font-size: 16px;\n",
            "            color: #333;\n",
            "        }\n",
            "\n",
            "        .subtitulo {\n",
            "            font-style: italic;\n",
            "            color: #666;\n",
            "            font-size: 14px;\n",
            "        }\n",
            "\n",
            "        .id_produto {\n",
            "            font-size: 12px;\n",
            "            color: #888;\n",
            "            font-family: monospace;\n",
            "        }\n",
            "\n",
            "        .preco {\n",
            "            font-weight: bold;\n",
            "            color: #d9534f;\n",
            "            font-size: 18px;\n",
            "        }\n",
            "\n",
            "        .descricao {\n",
            "            margin-top: 20px;\n",
            "            padding: 10px;\n",
            "            background-color: #f0f0f0;\n",
            "            border-left: 4px solid #0066cc;\n",
            "        }\n",
            "\n",
            "        .rodape {\n",
            "            margin-top: 30px;\n",
            "            padding: 20px;\n",
            "            background-color: #f5f5f5;\n",
            "            border-top: 1px solid #ddd;\n",
            "        }\n",
            "    </style>\n",
            "</head>\n",
            "<body>\n",
            "<div id=\"main\">\n",
            "<div class=\"cabecalho\">\n",
            "<h1>OLÁ PESSOAL COMO VAI, AQUI É HTML</h1>\n",
            "<p>Oi pessoal eu sou um parágrafo. E estou dentro de uma tag chamada DIV. Ela serve para formatar as partes de um site.</p>\n",
            "</div>\n",
            "<div class=\"conteudo\">\n",
            "<h2>Oi, eu faço um título ficar mais com cara de título!</h2>\n",
            "<div class=\"produto\">\n",
            "<ul>\n",
            "<li class=\"link\"><a href=\"https://unifor.br\" target=\"_blank\">Link1</a></li>\n",
            "<li class=\"titulo\">Título do produto</li>\n",
            "<li class=\"subtitulo\">Lorem Ipsum Dolor amec ist dolor sit dum.</li>\n",
            "<li class=\"id_produto\">ID: x1555243</li>\n",
            "<li class=\"preco\">R$ 5,99</li>\n",
            "</ul>\n",
            "</div>\n",
            "<div class=\"produto\">\n",
            "<ul>\n",
            "<li class=\"link\"><a href=\"https://unifor.br\" target=\"_blank\">Link2</a></li>\n",
            "<li class=\"titulo\">Título do produto 2</li>\n",
            "<li class=\"subtitulo\">Lorem Ipsum Dolor amec ist dolor sit dum.</li>\n",
            "<li class=\"id_produto\">ID: x1555244</li>\n",
            "<li class=\"preco\">R$ 15,99</li>\n",
            "</ul>\n",
            "</div>\n",
            "<div class=\"produto\">\n",
            "<ul>\n",
            "<li class=\"link\"><a href=\"https://unifor.br\" target=\"_blank\">Link3</a></li>\n",
            "<li class=\"titulo\">Título do produto 3</li>\n",
            "<li class=\"subtitulo\">Lorem Ipsum Dolor amec ist dolor sit dum.</li>\n",
            "<li class=\"id_produto\">ID: x1555245</li>\n",
            "<li class=\"preco\">R$ 25,99</li>\n",
            "</ul>\n",
            "</div>\n",
            "<div class=\"produto\">\n",
            "<ul>\n",
            "<li class=\"link\"><a href=\"https://unifor.br\" target=\"_blank\">Link4</a></li>\n",
            "<li class=\"titulo\">Título do produto 4</li>\n",
            "<li class=\"subtitulo\">Lorem Ipsum Dolor amec ist dolor sit dum.</li>\n",
            "<li class=\"id_produto\">ID: x1555246</li>\n",
            "<li class=\"preco\">R$ 35,99</li>\n",
            "</ul>\n",
            "</div>\n",
            "<p class=\"descricao\">Vocês viram o UL e o LI, eles respondem na hora que precisamos escrever listas. Serve muito para menus.</p>\n",
            "</div>\n",
            "<div class=\"rodape\">\n",
            "<h3>Estamos no rodapé da página. Aqui seria o final do site que está no HTML.</h3>\n",
            "</div>\n",
            "</div>\n",
            "</body>\n",
            "</html>\n"
          ]
        }
      ],
      "source": [
        "# nó mais amplo que existe é o HTML\n",
        "print(bs.html)\n",
        "\n",
        "# nó inicial do conteúdo da página - BODY\n",
        "#print(bs.body)\n",
        "\n",
        "# div são usadas para dar estrutura do ambiente\n",
        "#print(bs.XXX)"
      ]
    },
    {
      "cell_type": "code",
      "execution_count": 189,
      "metadata": {
        "colab": {
          "base_uri": "https://localhost:8080/"
        },
        "id": "1-b71EU3IqJN",
        "outputId": "25b2ac7c-4673-4ffc-8b48-e0d1f73806d5"
      },
      "outputs": [],
      "source": [
        "#bs.p\n",
        "#bs.a\n",
        "#bs.h1\n",
        "#bs.title\n",
        "#bs.title.contents\n",
        "#filhos_head = [i for i in bs.head.children]\n",
        "#filhos_head\n",
        "#type(bs.head.parent)\n",
        "#type(bs.head.parents) #pode iterar"
      ]
    },
    {
      "cell_type": "code",
      "execution_count": 190,
      "metadata": {
        "colab": {
          "base_uri": "https://localhost:8080/"
        },
        "id": "r6023sz-VvCv",
        "outputId": "1138fed6-10b1-4cff-9fbe-2dd11e2c6c29"
      },
      "outputs": [
        {
          "name": "stdout",
          "output_type": "stream",
          "text": [
            "1) Find\n",
            "<class 'bs4.element.Tag'>\n",
            "<p>Oi pessoal eu sou um parágrafo. E estou dentro de uma tag chamada DIV. Ela serve para formatar as partes de um site.</p>\n",
            "1\n",
            "\n",
            "2) Find all\n",
            "<class 'bs4.element.ResultSet'>\n",
            "[<p>Oi pessoal eu sou um parágrafo. E estou dentro de uma tag chamada DIV. Ela serve para formatar as partes de um site.</p>, <p class=\"descricao\">Vocês viram o UL e o LI, eles respondem na hora que precisamos escrever listas. Serve muito para menus.</p>]\n",
            "2\n",
            "[<a href=\"https://unifor.br\" target=\"_blank\">Link1</a>, <a href=\"https://unifor.br\" target=\"_blank\">Link2</a>, <a href=\"https://unifor.br\" target=\"_blank\">Link3</a>, <a href=\"https://unifor.br\" target=\"_blank\">Link4</a>]\n",
            "\n",
            "3) Paragrafo: <p>Oi pessoal eu sou um parágrafo. E estou dentro de uma tag chamada DIV. Ela serve para formatar as partes de um site.</p>\n"
          ]
        }
      ],
      "source": [
        "from bs4.element import ResultSet\n",
        "# findAll(tag, attrs, text, limit, keywords)\n",
        "# find(tag, attrs, text, keywords)\n",
        "#DIFERENCAS DE TYPE RESPONSE\n",
        "\n",
        "print('1) Find') #Element.TAG\n",
        "paragrafo = bs.find('p')\n",
        "print(type(paragrafo))\n",
        "print(paragrafo)\n",
        "print(len(paragrafo))\n",
        "\n",
        "print('\\n2) Find all') #ResultSet\n",
        "#paragrafo = bs.find_all('p', limit=1)\n",
        "paragrafo = bs.find_all('p')\n",
        "print(type(paragrafo))\n",
        "print(paragrafo)\n",
        "print(len(paragrafo))\n",
        "\n",
        "print(bs.find('div', {'class':'conteudo'}).find_all('a'))\n",
        "\n",
        "# OBJETO CRIADO PELO find_all ResultSet = array, lista...\n",
        "print(f'\\n3) Paragrafo: {paragrafo[0]}')"
      ]
    },
    {
      "cell_type": "code",
      "execution_count": 191,
      "metadata": {},
      "outputs": [
        {
          "data": {
            "text/plain": [
              "2"
            ]
          },
          "execution_count": 191,
          "metadata": {},
          "output_type": "execute_result"
        }
      ],
      "source": [
        "len(bs.find_all('p'))"
      ]
    },
    {
      "cell_type": "markdown",
      "metadata": {
        "id": "6N4iwdYzQ53l"
      },
      "source": [
        "## Irmaos"
      ]
    },
    {
      "cell_type": "markdown",
      "metadata": {
        "id": "NsQq0dXUem7y"
      },
      "source": [
        "### findPreviousSiblings() / findNextSiblings()"
      ]
    },
    {
      "cell_type": "code",
      "execution_count": 192,
      "metadata": {
        "colab": {
          "base_uri": "https://localhost:8080/"
        },
        "id": "tfyZiJFxBWRe",
        "outputId": "8090afff-24fc-4e50-9fb3-ce3e3982da95"
      },
      "outputs": [
        {
          "data": {
            "text/plain": [
              "<div id=\"main\">\n",
              "<div class=\"cabecalho\">\n",
              "<h1>OLÁ PESSOAL COMO VAI, AQUI É HTML</h1>\n",
              "<p>Oi pessoal eu sou um parágrafo. E estou dentro de uma tag chamada DIV. Ela serve para formatar as partes de um site.</p>\n",
              "</div>\n",
              "<div class=\"conteudo\">\n",
              "<h2>Oi, eu faço um título ficar mais com cara de título!</h2>\n",
              "<div class=\"produto\">\n",
              "<ul>\n",
              "<li class=\"link\"><a href=\"https://unifor.br\" target=\"_blank\">Link1</a></li>\n",
              "<li class=\"titulo\">Título do produto</li>\n",
              "<li class=\"subtitulo\">Lorem Ipsum Dolor amec ist dolor sit dum.</li>\n",
              "<li class=\"id_produto\">ID: x1555243</li>\n",
              "<li class=\"preco\">R$ 5,99</li>\n",
              "</ul>\n",
              "</div>\n",
              "<div class=\"produto\">\n",
              "<ul>\n",
              "<li class=\"link\"><a href=\"https://unifor.br\" target=\"_blank\">Link2</a></li>\n",
              "<li class=\"titulo\">Título do produto 2</li>\n",
              "<li class=\"subtitulo\">Lorem Ipsum Dolor amec ist dolor sit dum.</li>\n",
              "<li class=\"id_produto\">ID: x1555244</li>\n",
              "<li class=\"preco\">R$ 15,99</li>\n",
              "</ul>\n",
              "</div>\n",
              "<div class=\"produto\">\n",
              "<ul>\n",
              "<li class=\"link\"><a href=\"https://unifor.br\" target=\"_blank\">Link3</a></li>\n",
              "<li class=\"titulo\">Título do produto 3</li>\n",
              "<li class=\"subtitulo\">Lorem Ipsum Dolor amec ist dolor sit dum.</li>\n",
              "<li class=\"id_produto\">ID: x1555245</li>\n",
              "<li class=\"preco\">R$ 25,99</li>\n",
              "</ul>\n",
              "</div>\n",
              "<div class=\"produto\">\n",
              "<ul>\n",
              "<li class=\"link\"><a href=\"https://unifor.br\" target=\"_blank\">Link4</a></li>\n",
              "<li class=\"titulo\">Título do produto 4</li>\n",
              "<li class=\"subtitulo\">Lorem Ipsum Dolor amec ist dolor sit dum.</li>\n",
              "<li class=\"id_produto\">ID: x1555246</li>\n",
              "<li class=\"preco\">R$ 35,99</li>\n",
              "</ul>\n",
              "</div>\n",
              "<p class=\"descricao\">Vocês viram o UL e o LI, eles respondem na hora que precisamos escrever listas. Serve muito para menus.</p>\n",
              "</div>\n",
              "<div class=\"rodape\">\n",
              "<h3>Estamos no rodapé da página. Aqui seria o final do site que está no HTML.</h3>\n",
              "</div>\n",
              "</div>"
            ]
          },
          "execution_count": 192,
          "metadata": {},
          "output_type": "execute_result"
        }
      ],
      "source": [
        "bs.div"
      ]
    },
    {
      "cell_type": "code",
      "execution_count": 193,
      "metadata": {
        "colab": {
          "base_uri": "https://localhost:8080/"
        },
        "id": "L7s5K6IDGhJv",
        "outputId": "37517110-f218-4c34-9474-699fb0d57c46"
      },
      "outputs": [
        {
          "name": "stdout",
          "output_type": "stream",
          "text": [
            "[<div class=\"cabecalho\">\n",
            "<h1>OLÁ PESSOAL COMO VAI, AQUI É HTML</h1>\n",
            "<p>Oi pessoal eu sou um parágrafo. E estou dentro de uma tag chamada DIV. Ela serve para formatar as partes de um site.</p>\n",
            "</div>]\n",
            "[<div class=\"rodape\">\n",
            "<h3>Estamos no rodapé da página. Aqui seria o final do site que está no HTML.</h3>\n",
            "</div>] <class 'bs4.element.ResultSet'>\n"
          ]
        }
      ],
      "source": [
        "irmaoMaisVelho = bs.find('div', {'class':'conteudo'}).find_previous_siblings()\n",
        "irmaoMaisNovo = bs.find('div', {'class':'conteudo'}).find_next_siblings()\n",
        "print(irmaoMaisVelho)\n",
        "print(irmaoMaisNovo, type(irmaoMaisNovo))"
      ]
    },
    {
      "cell_type": "code",
      "execution_count": 194,
      "metadata": {
        "colab": {
          "base_uri": "https://localhost:8080/",
          "height": 137
        },
        "id": "ueTU96tUF6mP",
        "outputId": "c140f1ca-f0ab-48d3-959b-c1910b263447"
      },
      "outputs": [
        {
          "data": {
            "text/plain": [
              "bs4.element.ResultSet"
            ]
          },
          "execution_count": 194,
          "metadata": {},
          "output_type": "execute_result"
        }
      ],
      "source": [
        "type(irmaoMaisNovo)"
      ]
    },
    {
      "cell_type": "code",
      "execution_count": 195,
      "metadata": {
        "colab": {
          "base_uri": "https://localhost:8080/"
        },
        "id": "xORVBR72M5I9",
        "outputId": "7fdd6ead-4b03-477c-d81c-f77b9d21a512"
      },
      "outputs": [
        {
          "data": {
            "text/plain": [
              "<div class=\"rodape\">\n",
              "<h3>Estamos no rodapé da página. Aqui seria o final do site que está no HTML.</h3>\n",
              "</div>"
            ]
          },
          "execution_count": 195,
          "metadata": {},
          "output_type": "execute_result"
        }
      ],
      "source": [
        "irmaoMaisNovo[0]"
      ]
    },
    {
      "cell_type": "code",
      "execution_count": 196,
      "metadata": {
        "colab": {
          "base_uri": "https://localhost:8080/",
          "height": 36
        },
        "id": "FS1xcRf0rG5l",
        "outputId": "61e59cca-74b3-4b63-904f-ee0ddf4fb66d"
      },
      "outputs": [
        {
          "data": {
            "text/plain": [
              "'Estamos no rodapé da página. Aqui seria o final do site que está no HTML.'"
            ]
          },
          "execution_count": 196,
          "metadata": {},
          "output_type": "execute_result"
        }
      ],
      "source": [
        "irmaoMaisNovo[0].h3.text"
      ]
    },
    {
      "cell_type": "markdown",
      "metadata": {
        "id": "cde9TSAEjlR8"
      },
      "source": [
        "### next e previous siblings diferença está na saída (generator)"
      ]
    },
    {
      "cell_type": "code",
      "execution_count": 197,
      "metadata": {
        "colab": {
          "base_uri": "https://localhost:8080/"
        },
        "id": "iiK9bXAhNO_M",
        "outputId": "b876892a-1114-42d4-8998-1276aa38a539"
      },
      "outputs": [
        {
          "data": {
            "text/plain": [
              "<generator object PageElement.next_siblings at 0x000001FFD8B9A8E0>"
            ]
          },
          "execution_count": 197,
          "metadata": {},
          "output_type": "execute_result"
        }
      ],
      "source": [
        "bs.find('div', {'class':'conteudo'}).next_siblings"
      ]
    },
    {
      "cell_type": "code",
      "execution_count": 198,
      "metadata": {
        "colab": {
          "base_uri": "https://localhost:8080/"
        },
        "id": "1iCsoOUgizUK",
        "outputId": "e1cc07c3-cd38-4463-bfab-c05927860411"
      },
      "outputs": [
        {
          "name": "stdout",
          "output_type": "stream",
          "text": [
            "\n",
            "\n",
            "<div class=\"cabecalho\">\n",
            "<h1>OLÁ PESSOAL COMO VAI, AQUI É HTML</h1>\n",
            "<p>Oi pessoal eu sou um parágrafo. E estou dentro de uma tag chamada DIV. Ela serve para formatar as partes de um site.</p>\n",
            "</div>\n",
            "\n",
            "\n",
            "\n",
            "\n",
            "<div class=\"rodape\">\n",
            "<h3>Estamos no rodapé da página. Aqui seria o final do site que está no HTML.</h3>\n",
            "</div>\n",
            "\n",
            "\n"
          ]
        }
      ],
      "source": [
        "for i in bs.find('div', {'class':'conteudo'}).previous_siblings:\n",
        "  print(i)\n",
        "\n",
        "for i in bs.find('div', {'class':'conteudo'}).next_siblings:\n",
        "  print(i)"
      ]
    },
    {
      "cell_type": "markdown",
      "metadata": {
        "id": "WbcTQs6RF6rK"
      },
      "source": [
        "### Usando o next_siblings e o next() para percorrer"
      ]
    },
    {
      "cell_type": "code",
      "execution_count": 199,
      "metadata": {
        "id": "O9xrVBXijvds"
      },
      "outputs": [],
      "source": [
        "irmaos = bs.find('div', {'class':'conteudo'}).find('h2').next_siblings"
      ]
    },
    {
      "cell_type": "code",
      "execution_count": 200,
      "metadata": {},
      "outputs": [
        {
          "data": {
            "text/plain": [
              "generator"
            ]
          },
          "execution_count": 200,
          "metadata": {},
          "output_type": "execute_result"
        }
      ],
      "source": [
        "type(irmaos)"
      ]
    },
    {
      "cell_type": "code",
      "execution_count": 201,
      "metadata": {
        "id": "EVky5Gcuj-t6"
      },
      "outputs": [],
      "source": [
        "parentes = []\n",
        "while True:\n",
        "  try:\n",
        "    parentes.append(next(irmaos))\n",
        "    #print(next(irmaos))\n",
        "  except StopIteration:\n",
        "    break"
      ]
    },
    {
      "cell_type": "code",
      "execution_count": 202,
      "metadata": {
        "colab": {
          "base_uri": "https://localhost:8080/"
        },
        "id": "ahS13FRzsfIE",
        "outputId": "afa825a3-5340-4d4d-c657-b9feb9bf6bcf"
      },
      "outputs": [
        {
          "data": {
            "text/plain": [
              "['\\n',\n",
              " <div class=\"produto\">\n",
              " <ul>\n",
              " <li class=\"link\"><a href=\"https://unifor.br\" target=\"_blank\">Link1</a></li>\n",
              " <li class=\"titulo\">Título do produto</li>\n",
              " <li class=\"subtitulo\">Lorem Ipsum Dolor amec ist dolor sit dum.</li>\n",
              " <li class=\"id_produto\">ID: x1555243</li>\n",
              " <li class=\"preco\">R$ 5,99</li>\n",
              " </ul>\n",
              " </div>,\n",
              " '\\n',\n",
              " <div class=\"produto\">\n",
              " <ul>\n",
              " <li class=\"link\"><a href=\"https://unifor.br\" target=\"_blank\">Link2</a></li>\n",
              " <li class=\"titulo\">Título do produto 2</li>\n",
              " <li class=\"subtitulo\">Lorem Ipsum Dolor amec ist dolor sit dum.</li>\n",
              " <li class=\"id_produto\">ID: x1555244</li>\n",
              " <li class=\"preco\">R$ 15,99</li>\n",
              " </ul>\n",
              " </div>,\n",
              " '\\n',\n",
              " <div class=\"produto\">\n",
              " <ul>\n",
              " <li class=\"link\"><a href=\"https://unifor.br\" target=\"_blank\">Link3</a></li>\n",
              " <li class=\"titulo\">Título do produto 3</li>\n",
              " <li class=\"subtitulo\">Lorem Ipsum Dolor amec ist dolor sit dum.</li>\n",
              " <li class=\"id_produto\">ID: x1555245</li>\n",
              " <li class=\"preco\">R$ 25,99</li>\n",
              " </ul>\n",
              " </div>,\n",
              " '\\n',\n",
              " <div class=\"produto\">\n",
              " <ul>\n",
              " <li class=\"link\"><a href=\"https://unifor.br\" target=\"_blank\">Link4</a></li>\n",
              " <li class=\"titulo\">Título do produto 4</li>\n",
              " <li class=\"subtitulo\">Lorem Ipsum Dolor amec ist dolor sit dum.</li>\n",
              " <li class=\"id_produto\">ID: x1555246</li>\n",
              " <li class=\"preco\">R$ 35,99</li>\n",
              " </ul>\n",
              " </div>,\n",
              " '\\n',\n",
              " <p class=\"descricao\">Vocês viram o UL e o LI, eles respondem na hora que precisamos escrever listas. Serve muito para menus.</p>,\n",
              " '\\n']"
            ]
          },
          "execution_count": 202,
          "metadata": {},
          "output_type": "execute_result"
        }
      ],
      "source": [
        "parentes"
      ]
    },
    {
      "cell_type": "markdown",
      "metadata": {
        "id": "CBPTXNtXPZbd"
      },
      "source": [
        "#### Capturando link e texto do link"
      ]
    },
    {
      "cell_type": "code",
      "execution_count": 203,
      "metadata": {},
      "outputs": [
        {
          "data": {
            "text/plain": [
              "<div class=\"produto\">\n",
              "<ul>\n",
              "<li class=\"link\"><a href=\"https://unifor.br\" target=\"_blank\">Link1</a></li>\n",
              "<li class=\"titulo\">Título do produto</li>\n",
              "<li class=\"subtitulo\">Lorem Ipsum Dolor amec ist dolor sit dum.</li>\n",
              "<li class=\"id_produto\">ID: x1555243</li>\n",
              "<li class=\"preco\">R$ 5,99</li>\n",
              "</ul>\n",
              "</div>"
            ]
          },
          "execution_count": 203,
          "metadata": {},
          "output_type": "execute_result"
        }
      ],
      "source": [
        "parentes[1]"
      ]
    },
    {
      "cell_type": "code",
      "execution_count": 204,
      "metadata": {},
      "outputs": [
        {
          "data": {
            "text/plain": [
              "<ul>\n",
              "<li class=\"link\"><a href=\"https://unifor.br\" target=\"_blank\">Link1</a></li>\n",
              "<li class=\"titulo\">Título do produto</li>\n",
              "<li class=\"subtitulo\">Lorem Ipsum Dolor amec ist dolor sit dum.</li>\n",
              "<li class=\"id_produto\">ID: x1555243</li>\n",
              "<li class=\"preco\">R$ 5,99</li>\n",
              "</ul>"
            ]
          },
          "execution_count": 204,
          "metadata": {},
          "output_type": "execute_result"
        }
      ],
      "source": [
        "parentes[1].find('ul')"
      ]
    },
    {
      "cell_type": "code",
      "execution_count": 205,
      "metadata": {},
      "outputs": [
        {
          "data": {
            "text/plain": [
              "'https://unifor.br'"
            ]
          },
          "execution_count": 205,
          "metadata": {},
          "output_type": "execute_result"
        }
      ],
      "source": [
        "(parentes[1]\n",
        "    .find('ul')\n",
        "    .find('li', {'class' : 'link'})\n",
        "    .find('a')\n",
        "    .attrs['href']\n",
        "    )"
      ]
    },
    {
      "cell_type": "code",
      "execution_count": 206,
      "metadata": {
        "colab": {
          "base_uri": "https://localhost:8080/"
        },
        "id": "XgihPuYwoZIN",
        "outputId": "a23c5016-2358-4962-a093-f71af5a9babb"
      },
      "outputs": [
        {
          "name": "stdout",
          "output_type": "stream",
          "text": [
            "https://unifor.br, Link1\n"
          ]
        }
      ],
      "source": [
        "# pegando o link da tag <a> no atributo href\n",
        "link = parentes[1].find('ul').find('li', {'class':'link'}).find('a').attrs['href']\n",
        "# pegando o texto da tag <a>\n",
        "txt_link = parentes[1].find('ul').find('li', {'class':'link'}).find('a').text\n",
        "\n",
        "print(f'{link}, {txt_link}')"
      ]
    },
    {
      "cell_type": "markdown",
      "metadata": {
        "id": "q7BcbmDsXBpD"
      },
      "source": [
        "#### Capturando o nome da Class"
      ]
    },
    {
      "cell_type": "code",
      "execution_count": 207,
      "metadata": {
        "colab": {
          "base_uri": "https://localhost:8080/"
        },
        "id": "OC0Qp6it88h4",
        "outputId": "896ca0d3-fd76-4ac7-ac94-94539feeef08"
      },
      "outputs": [
        {
          "data": {
            "text/plain": [
              "<div class=\"produto\">\n",
              "<ul>\n",
              "<li class=\"link\"><a href=\"https://unifor.br\" target=\"_blank\">Link1</a></li>\n",
              "<li class=\"titulo\">Título do produto</li>\n",
              "<li class=\"subtitulo\">Lorem Ipsum Dolor amec ist dolor sit dum.</li>\n",
              "<li class=\"id_produto\">ID: x1555243</li>\n",
              "<li class=\"preco\">R$ 5,99</li>\n",
              "</ul>\n",
              "</div>"
            ]
          },
          "execution_count": 207,
          "metadata": {},
          "output_type": "execute_result"
        }
      ],
      "source": [
        "filhos = parentes[1]\n",
        "filhos"
      ]
    },
    {
      "cell_type": "code",
      "execution_count": 208,
      "metadata": {},
      "outputs": [
        {
          "data": {
            "text/plain": [
              "range(0, 3)"
            ]
          },
          "execution_count": 208,
          "metadata": {},
          "output_type": "execute_result"
        }
      ],
      "source": [
        "range(len(filhos))"
      ]
    },
    {
      "cell_type": "code",
      "execution_count": 209,
      "metadata": {},
      "outputs": [
        {
          "data": {
            "text/plain": [
              "range(0, 5)"
            ]
          },
          "execution_count": 209,
          "metadata": {},
          "output_type": "execute_result"
        }
      ],
      "source": [
        "range(len(filhos.find_all('li')))"
      ]
    },
    {
      "cell_type": "code",
      "execution_count": 210,
      "metadata": {},
      "outputs": [
        {
          "name": "stdout",
          "output_type": "stream",
          "text": [
            "achou no indice 3\n"
          ]
        }
      ],
      "source": [
        "for y in range(len(filhos.find_all('li'))):\n",
        "  if 'id_produto' == filhos.find_all('li')[y].attrs['class'][0]:\n",
        "    print(f'achou no indice {y}')"
      ]
    },
    {
      "cell_type": "markdown",
      "metadata": {
        "id": "DzZDrfiffYfw"
      },
      "source": [
        "### Encontro um ponto de partida no html dentro da TAG pai"
      ]
    },
    {
      "cell_type": "code",
      "execution_count": 211,
      "metadata": {
        "colab": {
          "base_uri": "https://localhost:8080/",
          "height": 36
        },
        "id": "ChMGdmekfXpm",
        "outputId": "6cfc9120-fd6b-47d5-958a-500bdbc6404d"
      },
      "outputs": [
        {
          "data": {
            "text/plain": [
              "'\\nLink1\\nTítulo do produto\\nLorem Ipsum Dolor amec ist dolor sit dum.\\nID: x1555243\\nR$ 5,99\\n'"
            ]
          },
          "execution_count": 211,
          "metadata": {},
          "output_type": "execute_result"
        }
      ],
      "source": [
        "pai = bs.find('div', {'class':'conteudo'})\n",
        "pai.find_all('ul')[0].text"
      ]
    },
    {
      "cell_type": "markdown",
      "metadata": {
        "id": "mVYBGGmMGONc"
      },
      "source": [
        "#### Usando text ou get_text()"
      ]
    },
    {
      "cell_type": "code",
      "execution_count": 212,
      "metadata": {
        "colab": {
          "base_uri": "https://localhost:8080/",
          "height": 36
        },
        "id": "fS7mMmoYy19v",
        "outputId": "7683450c-a329-4e8f-d966-c1ca41d88f15"
      },
      "outputs": [],
      "source": [
        "conteudos_ul = [pai.find_all('ul')[i].get_text(strip='\\n', separator=' - ') for i in range(len(pai.find_all('ul')))]"
      ]
    },
    {
      "cell_type": "code",
      "execution_count": 213,
      "metadata": {},
      "outputs": [
        {
          "data": {
            "text/plain": [
              "['Link1 - Título do produto - Lorem Ipsum Dolor amec ist dolor sit dum. - ID: x1555243 - R$ 5,99',\n",
              " 'Link2 - Título do produto 2 - Lorem Ipsum Dolor amec ist dolor sit dum. - ID: x1555244 - R$ 15,99',\n",
              " 'Link3 - Título do produto 3 - Lorem Ipsum Dolor amec ist dolor sit dum. - ID: x1555245 - R$ 25,99',\n",
              " 'Link4 - Título do produto 4 - Lorem Ipsum Dolor amec ist dolor sit dum. - ID: x1555246 - R$ 35,99']"
            ]
          },
          "execution_count": 213,
          "metadata": {},
          "output_type": "execute_result"
        }
      ],
      "source": [
        "conteudos_ul"
      ]
    },
    {
      "cell_type": "code",
      "execution_count": 214,
      "metadata": {},
      "outputs": [],
      "source": [
        "import pandas as pd\n",
        "\n",
        "lista = []\n",
        "for i in conteudos_ul:\n",
        "    lista.append(i.split('-'))\n",
        "\n",
        "df = pd.DataFrame(lista)"
      ]
    },
    {
      "cell_type": "code",
      "execution_count": 215,
      "metadata": {},
      "outputs": [
        {
          "data": {
            "application/vnd.microsoft.datawrangler.viewer.v0+json": {
              "columns": [
                {
                  "name": "index",
                  "rawType": "int64",
                  "type": "integer"
                },
                {
                  "name": "0",
                  "rawType": "object",
                  "type": "string"
                },
                {
                  "name": "1",
                  "rawType": "object",
                  "type": "string"
                },
                {
                  "name": "2",
                  "rawType": "object",
                  "type": "string"
                },
                {
                  "name": "3",
                  "rawType": "object",
                  "type": "string"
                },
                {
                  "name": "4",
                  "rawType": "object",
                  "type": "string"
                }
              ],
              "ref": "aeff45b9-7595-44a5-9b7e-6ca170e1b7c4",
              "rows": [
                [
                  "0",
                  "Link1 ",
                  " Título do produto ",
                  " Lorem Ipsum Dolor amec ist dolor sit dum. ",
                  " ID: x1555243 ",
                  " R$ 5,99"
                ],
                [
                  "1",
                  "Link2 ",
                  " Título do produto 2 ",
                  " Lorem Ipsum Dolor amec ist dolor sit dum. ",
                  " ID: x1555244 ",
                  " R$ 15,99"
                ],
                [
                  "2",
                  "Link3 ",
                  " Título do produto 3 ",
                  " Lorem Ipsum Dolor amec ist dolor sit dum. ",
                  " ID: x1555245 ",
                  " R$ 25,99"
                ],
                [
                  "3",
                  "Link4 ",
                  " Título do produto 4 ",
                  " Lorem Ipsum Dolor amec ist dolor sit dum. ",
                  " ID: x1555246 ",
                  " R$ 35,99"
                ]
              ],
              "shape": {
                "columns": 5,
                "rows": 4
              }
            },
            "text/html": [
              "<div>\n",
              "<style scoped>\n",
              "    .dataframe tbody tr th:only-of-type {\n",
              "        vertical-align: middle;\n",
              "    }\n",
              "\n",
              "    .dataframe tbody tr th {\n",
              "        vertical-align: top;\n",
              "    }\n",
              "\n",
              "    .dataframe thead th {\n",
              "        text-align: right;\n",
              "    }\n",
              "</style>\n",
              "<table border=\"1\" class=\"dataframe\">\n",
              "  <thead>\n",
              "    <tr style=\"text-align: right;\">\n",
              "      <th></th>\n",
              "      <th>0</th>\n",
              "      <th>1</th>\n",
              "      <th>2</th>\n",
              "      <th>3</th>\n",
              "      <th>4</th>\n",
              "    </tr>\n",
              "  </thead>\n",
              "  <tbody>\n",
              "    <tr>\n",
              "      <th>0</th>\n",
              "      <td>Link1</td>\n",
              "      <td>Título do produto</td>\n",
              "      <td>Lorem Ipsum Dolor amec ist dolor sit dum.</td>\n",
              "      <td>ID: x1555243</td>\n",
              "      <td>R$ 5,99</td>\n",
              "    </tr>\n",
              "    <tr>\n",
              "      <th>1</th>\n",
              "      <td>Link2</td>\n",
              "      <td>Título do produto 2</td>\n",
              "      <td>Lorem Ipsum Dolor amec ist dolor sit dum.</td>\n",
              "      <td>ID: x1555244</td>\n",
              "      <td>R$ 15,99</td>\n",
              "    </tr>\n",
              "    <tr>\n",
              "      <th>2</th>\n",
              "      <td>Link3</td>\n",
              "      <td>Título do produto 3</td>\n",
              "      <td>Lorem Ipsum Dolor amec ist dolor sit dum.</td>\n",
              "      <td>ID: x1555245</td>\n",
              "      <td>R$ 25,99</td>\n",
              "    </tr>\n",
              "    <tr>\n",
              "      <th>3</th>\n",
              "      <td>Link4</td>\n",
              "      <td>Título do produto 4</td>\n",
              "      <td>Lorem Ipsum Dolor amec ist dolor sit dum.</td>\n",
              "      <td>ID: x1555246</td>\n",
              "      <td>R$ 35,99</td>\n",
              "    </tr>\n",
              "  </tbody>\n",
              "</table>\n",
              "</div>"
            ],
            "text/plain": [
              "        0                      1                                            2  \\\n",
              "0  Link1      Título do produto    Lorem Ipsum Dolor amec ist dolor sit dum.    \n",
              "1  Link2    Título do produto 2    Lorem Ipsum Dolor amec ist dolor sit dum.    \n",
              "2  Link3    Título do produto 3    Lorem Ipsum Dolor amec ist dolor sit dum.    \n",
              "3  Link4    Título do produto 4    Lorem Ipsum Dolor amec ist dolor sit dum.    \n",
              "\n",
              "                3          4  \n",
              "0   ID: x1555243     R$ 5,99  \n",
              "1   ID: x1555244    R$ 15,99  \n",
              "2   ID: x1555245    R$ 25,99  \n",
              "3   ID: x1555246    R$ 35,99  "
            ]
          },
          "execution_count": 215,
          "metadata": {},
          "output_type": "execute_result"
        }
      ],
      "source": [
        "df"
      ]
    },
    {
      "cell_type": "markdown",
      "metadata": {
        "id": "jSVAMkyvP7ia"
      },
      "source": [
        "### REGEX"
      ]
    },
    {
      "cell_type": "code",
      "execution_count": 216,
      "metadata": {},
      "outputs": [
        {
          "data": {
            "text/plain": [
              "<div id=\"main\">\n",
              "<div class=\"cabecalho\">\n",
              "<h1>OLÁ PESSOAL COMO VAI, AQUI É HTML</h1>\n",
              "<p>Oi pessoal eu sou um parágrafo. E estou dentro de uma tag chamada DIV. Ela serve para formatar as partes de um site.</p>\n",
              "</div>\n",
              "<div class=\"conteudo\">\n",
              "<h2>Oi, eu faço um título ficar mais com cara de título!</h2>\n",
              "<div class=\"produto\">\n",
              "<ul>\n",
              "<li class=\"link\"><a href=\"https://unifor.br\" target=\"_blank\">Link1</a></li>\n",
              "<li class=\"titulo\">Título do produto</li>\n",
              "<li class=\"subtitulo\">Lorem Ipsum Dolor amec ist dolor sit dum.</li>\n",
              "<li class=\"id_produto\">ID: x1555243</li>\n",
              "<li class=\"preco\">R$ 5,99</li>\n",
              "</ul>\n",
              "</div>\n",
              "<div class=\"produto\">\n",
              "<ul>\n",
              "<li class=\"link\"><a href=\"https://unifor.br\" target=\"_blank\">Link2</a></li>\n",
              "<li class=\"titulo\">Título do produto 2</li>\n",
              "<li class=\"subtitulo\">Lorem Ipsum Dolor amec ist dolor sit dum.</li>\n",
              "<li class=\"id_produto\">ID: x1555244</li>\n",
              "<li class=\"preco\">R$ 15,99</li>\n",
              "</ul>\n",
              "</div>\n",
              "<div class=\"produto\">\n",
              "<ul>\n",
              "<li class=\"link\"><a href=\"https://unifor.br\" target=\"_blank\">Link3</a></li>\n",
              "<li class=\"titulo\">Título do produto 3</li>\n",
              "<li class=\"subtitulo\">Lorem Ipsum Dolor amec ist dolor sit dum.</li>\n",
              "<li class=\"id_produto\">ID: x1555245</li>\n",
              "<li class=\"preco\">R$ 25,99</li>\n",
              "</ul>\n",
              "</div>\n",
              "<div class=\"produto\">\n",
              "<ul>\n",
              "<li class=\"link\"><a href=\"https://unifor.br\" target=\"_blank\">Link4</a></li>\n",
              "<li class=\"titulo\">Título do produto 4</li>\n",
              "<li class=\"subtitulo\">Lorem Ipsum Dolor amec ist dolor sit dum.</li>\n",
              "<li class=\"id_produto\">ID: x1555246</li>\n",
              "<li class=\"preco\">R$ 35,99</li>\n",
              "</ul>\n",
              "</div>\n",
              "<p class=\"descricao\">Vocês viram o UL e o LI, eles respondem na hora que precisamos escrever listas. Serve muito para menus.</p>\n",
              "</div>\n",
              "<div class=\"rodape\">\n",
              "<h3>Estamos no rodapé da página. Aqui seria o final do site que está no HTML.</h3>\n",
              "</div>\n",
              "</div>"
            ]
          },
          "execution_count": 216,
          "metadata": {},
          "output_type": "execute_result"
        }
      ],
      "source": [
        "bs.find('div')"
      ]
    },
    {
      "cell_type": "code",
      "execution_count": 217,
      "metadata": {
        "colab": {
          "base_uri": "https://localhost:8080/"
        },
        "id": "EHZsKVgtP6to",
        "outputId": "59f78bd9-2d5e-4519-b720-ce31177cddf6"
      },
      "outputs": [
        {
          "data": {
            "text/plain": [
              "[]"
            ]
          },
          "execution_count": 217,
          "metadata": {},
          "output_type": "execute_result"
        }
      ],
      "source": [
        "bs.find_all(href=re.compile(\"python\"))"
      ]
    },
    {
      "cell_type": "code",
      "execution_count": 218,
      "metadata": {
        "colab": {
          "base_uri": "https://localhost:8080/"
        },
        "id": "iCiCBA0cQn53",
        "outputId": "b9e1f553-5355-4f58-c26d-d5b40c3cfaa7"
      },
      "outputs": [
        {
          "data": {
            "text/plain": [
              "[<li class=\"link\"><a href=\"https://unifor.br\" target=\"_blank\">Link1</a></li>,\n",
              " <li class=\"link\"><a href=\"https://unifor.br\" target=\"_blank\">Link2</a></li>,\n",
              " <li class=\"link\"><a href=\"https://unifor.br\" target=\"_blank\">Link3</a></li>,\n",
              " <li class=\"link\"><a href=\"https://unifor.br\" target=\"_blank\">Link4</a></li>]"
            ]
          },
          "execution_count": 218,
          "metadata": {},
          "output_type": "execute_result"
        }
      ],
      "source": [
        "bs.find_all(class_=re.compile(\"link\"))"
      ]
    },
    {
      "cell_type": "markdown",
      "metadata": {
        "id": "eP3jc0s3vG86"
      },
      "source": [
        "## Para alunos\n",
        "\n",
        "Exercicio 1 na classe rodape pegar o texto de h3 depois imprimir <br />\n",
        "Exercicio 2 na classe conteudo pegar o texto de h2 depois imprimir\n",
        "Exercicio 3 na classe conteudo pegar os links"
      ]
    },
    {
      "cell_type": "code",
      "execution_count": 226,
      "metadata": {
        "id": "zJSEhVEuu7mv"
      },
      "outputs": [],
      "source": [
        "# exercicio 1\n",
        "# textoh3 = "
      ]
    },
    {
      "cell_type": "code",
      "execution_count": 220,
      "metadata": {
        "id": "vJNydkivv0tU"
      },
      "outputs": [],
      "source": [
        "# exercicio 2\n",
        "# textoh2 = "
      ]
    },
    {
      "cell_type": "markdown",
      "metadata": {
        "id": "t0VFTRdfSl5e"
      },
      "source": [
        "Agora preciso do textoh3 em lista, como fazer? Use a funcao split()"
      ]
    },
    {
      "cell_type": "code",
      "execution_count": 229,
      "metadata": {},
      "outputs": [],
      "source": [
        "textoh3 = 'substitua aqui com o valor do texto'"
      ]
    },
    {
      "cell_type": "code",
      "execution_count": 237,
      "metadata": {
        "colab": {
          "base_uri": "https://localhost:8080/"
        },
        "id": "ATZ-PQ3xEm-q",
        "outputId": "e7fefe00-3e21-40a0-b1ea-57741b90ab41"
      },
      "outputs": [
        {
          "name": "stdout",
          "output_type": "stream",
          "text": [
            "['substitua', 'aqui', 'com', 'o', 'valor', 'do', 'texto']\n"
          ]
        }
      ],
      "source": [
        "lista = textoh3.split(' ')\n",
        "print(lista)"
      ]
    },
    {
      "cell_type": "markdown",
      "metadata": {
        "id": "ZrL6IsmD6yS_"
      },
      "source": [
        "#### Um pouco de python\n",
        "\n",
        "\n",
        "\n",
        "1.   Achar palavras na lista com mais de 5 caracteres\n",
        "2.   E jogar como lista em print\n",
        "\n"
      ]
    },
    {
      "cell_type": "markdown",
      "metadata": {
        "id": "vLvp6bI-7D31"
      },
      "source": [
        "#### Resolve"
      ]
    },
    {
      "cell_type": "code",
      "execution_count": 238,
      "metadata": {
        "colab": {
          "base_uri": "https://localhost:8080/"
        },
        "id": "prPHMkun5xyF",
        "outputId": "533ec329-c9d3-4d5c-9854-2d340065c423"
      },
      "outputs": [
        {
          "name": "stdout",
          "output_type": "stream",
          "text": [
            "['substitua', 'valor', 'texto']\n"
          ]
        }
      ],
      "source": [
        "palavra_maior_5 = []\n",
        "for p in lista:\n",
        "  if len(p) >= 5:\n",
        "    palavra_maior_5.append(p)\n",
        "\n",
        "print(palavra_maior_5)"
      ]
    },
    {
      "cell_type": "markdown",
      "metadata": {
        "id": "DVb4l1zF5zwM"
      },
      "source": [
        "#### Jeito de fazer"
      ]
    },
    {
      "cell_type": "code",
      "execution_count": 240,
      "metadata": {
        "colab": {
          "base_uri": "https://localhost:8080/"
        },
        "id": "jufjVBZ5v97s",
        "outputId": "d07cde45-5f4d-41d0-ee94-b2eb635e27e2"
      },
      "outputs": [
        {
          "data": {
            "text/plain": [
              "['substitua', 'valor', 'texto']"
            ]
          },
          "execution_count": 240,
          "metadata": {},
          "output_type": "execute_result"
        }
      ],
      "source": [
        "def filtra_palavra_5_tam(palavra):\n",
        "  if len(palavra) >= 5:\n",
        "    return palavra\n",
        "\n",
        "a = list(filter(lambda x: x is not None , map(filtra_palavra_5_tam, lista)))\n",
        "list(a)"
      ]
    },
    {
      "cell_type": "markdown",
      "metadata": {
        "id": "UZ3Ziqr06lqH"
      },
      "source": [
        "#### Outro jeito de fazer"
      ]
    },
    {
      "cell_type": "code",
      "execution_count": 241,
      "metadata": {
        "colab": {
          "base_uri": "https://localhost:8080/"
        },
        "id": "C5vebmmi6Bav",
        "outputId": "f19b8fcd-bbc6-4839-ce63-d736022773d4"
      },
      "outputs": [
        {
          "data": {
            "text/plain": [
              "['substitua', 'valor', 'texto']"
            ]
          },
          "execution_count": 241,
          "metadata": {},
          "output_type": "execute_result"
        }
      ],
      "source": [
        "list(filter(lambda x: len(x) >= 5, lista))"
      ]
    },
    {
      "cell_type": "markdown",
      "metadata": {
        "id": "cNQq7dwXcsZF"
      },
      "source": [
        "#### Buscando uma palavra em uma lista"
      ]
    },
    {
      "cell_type": "code",
      "execution_count": 242,
      "metadata": {
        "colab": {
          "base_uri": "https://localhost:8080/"
        },
        "id": "1pK_ahwpTM3B",
        "outputId": "3e998c95-0d04-4409-e92b-4fe762eabed2"
      },
      "outputs": [
        {
          "name": "stdout",
          "output_type": "stream",
          "text": [
            "OLÁ PESSOAL COMO VAI, AQUI É HTML\n"
          ]
        }
      ],
      "source": [
        "# Pegar o texto da H1 (lembre-se H1 deve ser único no HTML)\n",
        "# Veja \"se\" existe a palavra \"HTML\" na \"ULTIMA\" POSICAO da lista criada com o \"texto capturado\" em H1\n",
        "# NIVEL BASKET CASE\n",
        "\n",
        "tag_ = bs.find('div', {'class':'cabecalho'})\n",
        "tag_h1 = tag_.h1\n",
        "so_txt_h1 = tag_h1.text\n",
        "print(so_txt_h1)"
      ]
    },
    {
      "cell_type": "code",
      "execution_count": 244,
      "metadata": {
        "colab": {
          "base_uri": "https://localhost:8080/"
        },
        "id": "cUcg9wuOc_w5",
        "outputId": "9098dfe1-a079-4a34-dfaa-843b9605dffc"
      },
      "outputs": [
        {
          "data": {
            "text/plain": [
              "True"
            ]
          },
          "execution_count": 244,
          "metadata": {},
          "output_type": "execute_result"
        }
      ],
      "source": [
        "# LAMBDA\n",
        "X = lambda x: True if x == 'HTML' else False\n",
        "X(so_txt_h1.split(' ')[-1])\n",
        "\n",
        "# OBS.: CONSIGO PASSAR MAIS DE UM VALOR"
      ]
    },
    {
      "cell_type": "code",
      "execution_count": null,
      "metadata": {
        "id": "BYFhZ2KydrWM"
      },
      "outputs": [
        {
          "name": "stdout",
          "output_type": "stream",
          "text": [
            "True\n"
          ]
        }
      ],
      "source": [
        "# if\n",
        "# if 'HTML' == so_txt_h1.split(' ')[-1]:\n",
        "#     print(True)"
      ]
    },
    {
      "cell_type": "code",
      "execution_count": 250,
      "metadata": {
        "id": "3wKuW0ifhVy5"
      },
      "outputs": [],
      "source": [
        "# MAS PARA APENAS 1 VALOR PODERIA FAZER ASSIM\n",
        "# Um jeito de fazer enxuto tb usando IN\n",
        "# 'HTML' in so_txt_h1.split(' ')"
      ]
    },
    {
      "cell_type": "markdown",
      "metadata": {
        "id": "pme3wM2HC6m9"
      },
      "source": [
        "## Um pouco mais além..."
      ]
    },
    {
      "cell_type": "code",
      "execution_count": 251,
      "metadata": {
        "colab": {
          "base_uri": "https://localhost:8080/"
        },
        "id": "ui7ozwfCz6KF",
        "outputId": "0d7d0102-1b85-468e-c450-bf42eeb65ecf"
      },
      "outputs": [
        {
          "data": {
            "text/plain": [
              "<!DOCTYPE html>\n",
              "<html lang=\"pt-br\">\n",
              "<head>\n",
              "<meta charset=\"utf-8\"/>\n",
              "<meta content=\"width=device-width, initial-scale=1.0\" name=\"viewport\"/>\n",
              "<meta content=\"Página demonstrativa de HTML com lista de produtos\" name=\"description\"/>\n",
              "<title>Página HTML Corrigida</title>\n",
              "<style>\n",
              "        body {\n",
              "            color: blue;\n",
              "            padding: 0px;\n",
              "            margin: 0px;\n",
              "            font-family: Arial, sans-serif;\n",
              "        }\n",
              "        \n",
              "        p {\n",
              "            color: brown; \n",
              "            font-size: 1.3em; \n",
              "            font-family: 'Courier New', Courier, monospace;\n",
              "        } \n",
              "        \n",
              "        h1 {\n",
              "            color: blue; \n",
              "            font-size: 25px; \n",
              "            font-family: 'Gill Sans', 'Gill Sans MT', Calibri, 'Trebuchet MS', sans-serif;\n",
              "        }\n",
              "        \n",
              "        h2 {\n",
              "            color: black; \n",
              "            font-size: 15px;\n",
              "        }\n",
              "\n",
              "        h3 {\n",
              "            color: blue;\n",
              "            font-size: 18px;\n",
              "        }\n",
              "\n",
              "        #main {\n",
              "            width: 50%;\n",
              "            padding: 5px;\n",
              "            margin: 5px;\n",
              "            text-align: left;\n",
              "        }\n",
              "\n",
              "        .produto {\n",
              "            width: 90%;\n",
              "            padding: 5%;\n",
              "            margin: 5%;\n",
              "            border: 1px solid #ddd;\n",
              "            border-radius: 5px;\n",
              "            background-color: #f9f9f9;\n",
              "        }\n",
              "\n",
              "        .produto ul {\n",
              "            list-style: none;\n",
              "            padding: 0;\n",
              "            margin: 0;\n",
              "        }\n",
              "\n",
              "        .produto li {\n",
              "            margin: 8px 0;\n",
              "            padding: 3px 0;\n",
              "        }\n",
              "\n",
              "        li.link {\n",
              "            color: black;\n",
              "            font-size: 1.5em;\n",
              "            font-family: Verdana, Geneva, Tahoma, sans-serif;\n",
              "        }\n",
              "\n",
              "        li.link a {\n",
              "            color: #0066cc;\n",
              "            text-decoration: none;\n",
              "        }\n",
              "\n",
              "        li.link a:hover {\n",
              "            text-decoration: underline;\n",
              "        }\n",
              "\n",
              "        .titulo {\n",
              "            font-weight: bold;\n",
              "            font-size: 16px;\n",
              "            color: #333;\n",
              "        }\n",
              "\n",
              "        .subtitulo {\n",
              "            font-style: italic;\n",
              "            color: #666;\n",
              "            font-size: 14px;\n",
              "        }\n",
              "\n",
              "        .id_produto {\n",
              "            font-size: 12px;\n",
              "            color: #888;\n",
              "            font-family: monospace;\n",
              "        }\n",
              "\n",
              "        .preco {\n",
              "            font-weight: bold;\n",
              "            color: #d9534f;\n",
              "            font-size: 18px;\n",
              "        }\n",
              "\n",
              "        .descricao {\n",
              "            margin-top: 20px;\n",
              "            padding: 10px;\n",
              "            background-color: #f0f0f0;\n",
              "            border-left: 4px solid #0066cc;\n",
              "        }\n",
              "\n",
              "        .rodape {\n",
              "            margin-top: 30px;\n",
              "            padding: 20px;\n",
              "            background-color: #f5f5f5;\n",
              "            border-top: 1px solid #ddd;\n",
              "        }\n",
              "    </style>\n",
              "</head>\n",
              "<body>\n",
              "<div id=\"main\">\n",
              "<div class=\"cabecalho\">\n",
              "<h1>OLÁ PESSOAL COMO VAI, AQUI É HTML</h1>\n",
              "<p>Oi pessoal eu sou um parágrafo. E estou dentro de uma tag chamada DIV. Ela serve para formatar as partes de um site.</p>\n",
              "</div>\n",
              "<div class=\"conteudo\">\n",
              "<h2>Oi, eu faço um título ficar mais com cara de título!</h2>\n",
              "<div class=\"produto\">\n",
              "<ul>\n",
              "<li class=\"link\"><a href=\"https://unifor.br\" target=\"_blank\">Link1</a></li>\n",
              "<li class=\"titulo\">Título do produto</li>\n",
              "<li class=\"subtitulo\">Lorem Ipsum Dolor amec ist dolor sit dum.</li>\n",
              "<li class=\"id_produto\">ID: x1555243</li>\n",
              "<li class=\"preco\">R$ 5,99</li>\n",
              "</ul>\n",
              "</div>\n",
              "<div class=\"produto\">\n",
              "<ul>\n",
              "<li class=\"link\"><a href=\"https://unifor.br\" target=\"_blank\">Link2</a></li>\n",
              "<li class=\"titulo\">Título do produto 2</li>\n",
              "<li class=\"subtitulo\">Lorem Ipsum Dolor amec ist dolor sit dum.</li>\n",
              "<li class=\"id_produto\">ID: x1555244</li>\n",
              "<li class=\"preco\">R$ 15,99</li>\n",
              "</ul>\n",
              "</div>\n",
              "<div class=\"produto\">\n",
              "<ul>\n",
              "<li class=\"link\"><a href=\"https://unifor.br\" target=\"_blank\">Link3</a></li>\n",
              "<li class=\"titulo\">Título do produto 3</li>\n",
              "<li class=\"subtitulo\">Lorem Ipsum Dolor amec ist dolor sit dum.</li>\n",
              "<li class=\"id_produto\">ID: x1555245</li>\n",
              "<li class=\"preco\">R$ 25,99</li>\n",
              "</ul>\n",
              "</div>\n",
              "<div class=\"produto\">\n",
              "<ul>\n",
              "<li class=\"link\"><a href=\"https://unifor.br\" target=\"_blank\">Link4</a></li>\n",
              "<li class=\"titulo\">Título do produto 4</li>\n",
              "<li class=\"subtitulo\">Lorem Ipsum Dolor amec ist dolor sit dum.</li>\n",
              "<li class=\"id_produto\">ID: x1555246</li>\n",
              "<li class=\"preco\">R$ 35,99</li>\n",
              "</ul>\n",
              "</div>\n",
              "<p class=\"descricao\">Vocês viram o UL e o LI, eles respondem na hora que precisamos escrever listas. Serve muito para menus.</p>\n",
              "</div>\n",
              "<div class=\"rodape\">\n",
              "<h3>Estamos no rodapé da página. Aqui seria o final do site que está no HTML.</h3>\n",
              "</div>\n",
              "</div>\n",
              "</body>\n",
              "</html>"
            ]
          },
          "execution_count": 251,
          "metadata": {},
          "output_type": "execute_result"
        }
      ],
      "source": [
        "bs"
      ]
    },
    {
      "cell_type": "code",
      "execution_count": null,
      "metadata": {
        "id": "MJymfbda0F8i"
      },
      "outputs": [],
      "source": [
        "# raciocinio/logica\n",
        "# bs.find('div', {'class':'conteudo'}).find('ul').find_all('ul')[0]"
      ]
    },
    {
      "cell_type": "markdown",
      "metadata": {
        "id": "YebC173rDRGc"
      },
      "source": [
        "### Explicando passo a passo uma extração"
      ]
    },
    {
      "cell_type": "code",
      "execution_count": 269,
      "metadata": {
        "id": "cpzqhPOhJW_F"
      },
      "outputs": [],
      "source": [
        "uls = bs.find('div', {'class':'conteudo'}).find_all('ul')"
      ]
    },
    {
      "cell_type": "code",
      "execution_count": 271,
      "metadata": {},
      "outputs": [],
      "source": [
        "textos = []\n",
        "for i in range(len(uls)):\n",
        "  filhos = ul_pai.find_all('ul')[i]\n",
        "  texto = []\n",
        "  for filho in filhos:\n",
        "    if filho.name == 'li':\n",
        "      if filho.a:\n",
        "        texto.append(filho.a.attrs['href'])\n",
        "      else:\n",
        "        texto.append(filho.text)\n",
        "\n",
        "  textos.append(texto)\n"
      ]
    },
    {
      "cell_type": "code",
      "execution_count": 272,
      "metadata": {
        "colab": {
          "base_uri": "https://localhost:8080/"
        },
        "id": "zXuh2hkZo9TU",
        "outputId": "03a69ea7-f83c-4361-9dd0-6e742474d8ce"
      },
      "outputs": [
        {
          "data": {
            "text/plain": [
              "[['https://unifor.br',\n",
              "  'Título do produto',\n",
              "  'Lorem Ipsum Dolor amec ist dolor sit dum.',\n",
              "  'ID: x1555243',\n",
              "  'R$ 5,99'],\n",
              " ['https://unifor.br',\n",
              "  'Título do produto 2',\n",
              "  'Lorem Ipsum Dolor amec ist dolor sit dum.',\n",
              "  'ID: x1555244',\n",
              "  'R$ 15,99'],\n",
              " ['https://unifor.br',\n",
              "  'Título do produto 3',\n",
              "  'Lorem Ipsum Dolor amec ist dolor sit dum.',\n",
              "  'ID: x1555245',\n",
              "  'R$ 25,99'],\n",
              " ['https://unifor.br',\n",
              "  'Título do produto 4',\n",
              "  'Lorem Ipsum Dolor amec ist dolor sit dum.',\n",
              "  'ID: x1555246',\n",
              "  'R$ 35,99']]"
            ]
          },
          "execution_count": 272,
          "metadata": {},
          "output_type": "execute_result"
        }
      ],
      "source": [
        "textos"
      ]
    },
    {
      "cell_type": "markdown",
      "metadata": {
        "id": "wNShrrYTDZuR"
      },
      "source": [
        "### Manda para o Pandas"
      ]
    },
    {
      "cell_type": "code",
      "execution_count": 273,
      "metadata": {
        "id": "B_K-1lF6mK0z"
      },
      "outputs": [],
      "source": [
        "import pandas as pd"
      ]
    },
    {
      "cell_type": "code",
      "execution_count": 274,
      "metadata": {
        "colab": {
          "base_uri": "https://localhost:8080/",
          "height": 175
        },
        "id": "wBqIHRl3mH00",
        "outputId": "e4e32b71-b4c2-4254-e5dc-8100ec596849"
      },
      "outputs": [
        {
          "data": {
            "application/vnd.microsoft.datawrangler.viewer.v0+json": {
              "columns": [
                {
                  "name": "index",
                  "rawType": "int64",
                  "type": "integer"
                },
                {
                  "name": "link",
                  "rawType": "object",
                  "type": "string"
                },
                {
                  "name": "titulo",
                  "rawType": "object",
                  "type": "string"
                },
                {
                  "name": "descricao",
                  "rawType": "object",
                  "type": "string"
                },
                {
                  "name": "codigo",
                  "rawType": "object",
                  "type": "string"
                },
                {
                  "name": "preço",
                  "rawType": "object",
                  "type": "string"
                }
              ],
              "ref": "b7c77a55-8f93-45a0-aee1-9ede795c807d",
              "rows": [
                [
                  "0",
                  "https://unifor.br",
                  "Título do produto",
                  "Lorem Ipsum Dolor amec ist dolor sit dum.",
                  "ID: x1555243",
                  "R$ 5,99"
                ],
                [
                  "1",
                  "https://unifor.br",
                  "Título do produto 2",
                  "Lorem Ipsum Dolor amec ist dolor sit dum.",
                  "ID: x1555244",
                  "R$ 15,99"
                ],
                [
                  "2",
                  "https://unifor.br",
                  "Título do produto 3",
                  "Lorem Ipsum Dolor amec ist dolor sit dum.",
                  "ID: x1555245",
                  "R$ 25,99"
                ],
                [
                  "3",
                  "https://unifor.br",
                  "Título do produto 4",
                  "Lorem Ipsum Dolor amec ist dolor sit dum.",
                  "ID: x1555246",
                  "R$ 35,99"
                ]
              ],
              "shape": {
                "columns": 5,
                "rows": 4
              }
            },
            "text/html": [
              "<div>\n",
              "<style scoped>\n",
              "    .dataframe tbody tr th:only-of-type {\n",
              "        vertical-align: middle;\n",
              "    }\n",
              "\n",
              "    .dataframe tbody tr th {\n",
              "        vertical-align: top;\n",
              "    }\n",
              "\n",
              "    .dataframe thead th {\n",
              "        text-align: right;\n",
              "    }\n",
              "</style>\n",
              "<table border=\"1\" class=\"dataframe\">\n",
              "  <thead>\n",
              "    <tr style=\"text-align: right;\">\n",
              "      <th></th>\n",
              "      <th>link</th>\n",
              "      <th>titulo</th>\n",
              "      <th>descricao</th>\n",
              "      <th>codigo</th>\n",
              "      <th>preço</th>\n",
              "    </tr>\n",
              "  </thead>\n",
              "  <tbody>\n",
              "    <tr>\n",
              "      <th>0</th>\n",
              "      <td>https://unifor.br</td>\n",
              "      <td>Título do produto</td>\n",
              "      <td>Lorem Ipsum Dolor amec ist dolor sit dum.</td>\n",
              "      <td>ID: x1555243</td>\n",
              "      <td>R$ 5,99</td>\n",
              "    </tr>\n",
              "    <tr>\n",
              "      <th>1</th>\n",
              "      <td>https://unifor.br</td>\n",
              "      <td>Título do produto 2</td>\n",
              "      <td>Lorem Ipsum Dolor amec ist dolor sit dum.</td>\n",
              "      <td>ID: x1555244</td>\n",
              "      <td>R$ 15,99</td>\n",
              "    </tr>\n",
              "    <tr>\n",
              "      <th>2</th>\n",
              "      <td>https://unifor.br</td>\n",
              "      <td>Título do produto 3</td>\n",
              "      <td>Lorem Ipsum Dolor amec ist dolor sit dum.</td>\n",
              "      <td>ID: x1555245</td>\n",
              "      <td>R$ 25,99</td>\n",
              "    </tr>\n",
              "    <tr>\n",
              "      <th>3</th>\n",
              "      <td>https://unifor.br</td>\n",
              "      <td>Título do produto 4</td>\n",
              "      <td>Lorem Ipsum Dolor amec ist dolor sit dum.</td>\n",
              "      <td>ID: x1555246</td>\n",
              "      <td>R$ 35,99</td>\n",
              "    </tr>\n",
              "  </tbody>\n",
              "</table>\n",
              "</div>"
            ],
            "text/plain": [
              "                link               titulo  \\\n",
              "0  https://unifor.br    Título do produto   \n",
              "1  https://unifor.br  Título do produto 2   \n",
              "2  https://unifor.br  Título do produto 3   \n",
              "3  https://unifor.br  Título do produto 4   \n",
              "\n",
              "                                   descricao        codigo     preço  \n",
              "0  Lorem Ipsum Dolor amec ist dolor sit dum.  ID: x1555243   R$ 5,99  \n",
              "1  Lorem Ipsum Dolor amec ist dolor sit dum.  ID: x1555244  R$ 15,99  \n",
              "2  Lorem Ipsum Dolor amec ist dolor sit dum.  ID: x1555245  R$ 25,99  \n",
              "3  Lorem Ipsum Dolor amec ist dolor sit dum.  ID: x1555246  R$ 35,99  "
            ]
          },
          "execution_count": 274,
          "metadata": {},
          "output_type": "execute_result"
        }
      ],
      "source": [
        "df = pd.DataFrame(textos, columns=['link', 'titulo', 'descricao', 'codigo', 'preço'])\n",
        "df"
      ]
    },
    {
      "cell_type": "code",
      "execution_count": 275,
      "metadata": {
        "id": "0SU0ou6j_z_W"
      },
      "outputs": [],
      "source": [
        "df['preco_dec'] = [float(p.replace('R$','').replace(',','.')) for p in df['preço']]"
      ]
    },
    {
      "cell_type": "code",
      "execution_count": 277,
      "metadata": {
        "colab": {
          "base_uri": "https://localhost:8080/",
          "height": 143
        },
        "id": "0mY_E2IJAWIn",
        "outputId": "7b381618-9f65-4a6f-eacc-0e559673ff7a"
      },
      "outputs": [
        {
          "data": {
            "application/vnd.microsoft.datawrangler.viewer.v0+json": {
              "columns": [
                {
                  "name": "index",
                  "rawType": "int64",
                  "type": "integer"
                },
                {
                  "name": "link",
                  "rawType": "object",
                  "type": "string"
                },
                {
                  "name": "titulo",
                  "rawType": "object",
                  "type": "string"
                },
                {
                  "name": "descricao",
                  "rawType": "object",
                  "type": "string"
                },
                {
                  "name": "codigo",
                  "rawType": "object",
                  "type": "string"
                },
                {
                  "name": "preço",
                  "rawType": "object",
                  "type": "string"
                },
                {
                  "name": "preco_dec",
                  "rawType": "float64",
                  "type": "float"
                }
              ],
              "ref": "8f77350d-6cf8-4ba0-a940-8ef3253cf78d",
              "rows": [
                [
                  "1",
                  "https://unifor.br",
                  "Título do produto 2",
                  "Lorem Ipsum Dolor amec ist dolor sit dum.",
                  "ID: x1555244",
                  "R$ 15,99",
                  "15.99"
                ],
                [
                  "2",
                  "https://unifor.br",
                  "Título do produto 3",
                  "Lorem Ipsum Dolor amec ist dolor sit dum.",
                  "ID: x1555245",
                  "R$ 25,99",
                  "25.99"
                ],
                [
                  "3",
                  "https://unifor.br",
                  "Título do produto 4",
                  "Lorem Ipsum Dolor amec ist dolor sit dum.",
                  "ID: x1555246",
                  "R$ 35,99",
                  "35.99"
                ]
              ],
              "shape": {
                "columns": 6,
                "rows": 3
              }
            },
            "text/html": [
              "<div>\n",
              "<style scoped>\n",
              "    .dataframe tbody tr th:only-of-type {\n",
              "        vertical-align: middle;\n",
              "    }\n",
              "\n",
              "    .dataframe tbody tr th {\n",
              "        vertical-align: top;\n",
              "    }\n",
              "\n",
              "    .dataframe thead th {\n",
              "        text-align: right;\n",
              "    }\n",
              "</style>\n",
              "<table border=\"1\" class=\"dataframe\">\n",
              "  <thead>\n",
              "    <tr style=\"text-align: right;\">\n",
              "      <th></th>\n",
              "      <th>link</th>\n",
              "      <th>titulo</th>\n",
              "      <th>descricao</th>\n",
              "      <th>codigo</th>\n",
              "      <th>preço</th>\n",
              "      <th>preco_dec</th>\n",
              "    </tr>\n",
              "  </thead>\n",
              "  <tbody>\n",
              "    <tr>\n",
              "      <th>1</th>\n",
              "      <td>https://unifor.br</td>\n",
              "      <td>Título do produto 2</td>\n",
              "      <td>Lorem Ipsum Dolor amec ist dolor sit dum.</td>\n",
              "      <td>ID: x1555244</td>\n",
              "      <td>R$ 15,99</td>\n",
              "      <td>15.99</td>\n",
              "    </tr>\n",
              "    <tr>\n",
              "      <th>2</th>\n",
              "      <td>https://unifor.br</td>\n",
              "      <td>Título do produto 3</td>\n",
              "      <td>Lorem Ipsum Dolor amec ist dolor sit dum.</td>\n",
              "      <td>ID: x1555245</td>\n",
              "      <td>R$ 25,99</td>\n",
              "      <td>25.99</td>\n",
              "    </tr>\n",
              "    <tr>\n",
              "      <th>3</th>\n",
              "      <td>https://unifor.br</td>\n",
              "      <td>Título do produto 4</td>\n",
              "      <td>Lorem Ipsum Dolor amec ist dolor sit dum.</td>\n",
              "      <td>ID: x1555246</td>\n",
              "      <td>R$ 35,99</td>\n",
              "      <td>35.99</td>\n",
              "    </tr>\n",
              "  </tbody>\n",
              "</table>\n",
              "</div>"
            ],
            "text/plain": [
              "                link               titulo  \\\n",
              "1  https://unifor.br  Título do produto 2   \n",
              "2  https://unifor.br  Título do produto 3   \n",
              "3  https://unifor.br  Título do produto 4   \n",
              "\n",
              "                                   descricao        codigo     preço  \\\n",
              "1  Lorem Ipsum Dolor amec ist dolor sit dum.  ID: x1555244  R$ 15,99   \n",
              "2  Lorem Ipsum Dolor amec ist dolor sit dum.  ID: x1555245  R$ 25,99   \n",
              "3  Lorem Ipsum Dolor amec ist dolor sit dum.  ID: x1555246  R$ 35,99   \n",
              "\n",
              "   preco_dec  \n",
              "1      15.99  \n",
              "2      25.99  \n",
              "3      35.99  "
            ]
          },
          "execution_count": 277,
          "metadata": {},
          "output_type": "execute_result"
        }
      ],
      "source": [
        "df[df['preco_dec'] > 10]"
      ]
    },
    {
      "cell_type": "code",
      "execution_count": 279,
      "metadata": {
        "colab": {
          "base_uri": "https://localhost:8080/",
          "height": 112
        },
        "id": "is9zlpjbAaLo",
        "outputId": "c8e3a10e-b6a3-4afe-d7f0-f5b17c45fe48"
      },
      "outputs": [
        {
          "data": {
            "application/vnd.microsoft.datawrangler.viewer.v0+json": {
              "columns": [
                {
                  "name": "index",
                  "rawType": "int64",
                  "type": "integer"
                },
                {
                  "name": "link",
                  "rawType": "object",
                  "type": "string"
                },
                {
                  "name": "titulo",
                  "rawType": "object",
                  "type": "string"
                },
                {
                  "name": "descricao",
                  "rawType": "object",
                  "type": "string"
                },
                {
                  "name": "codigo",
                  "rawType": "object",
                  "type": "string"
                },
                {
                  "name": "preço",
                  "rawType": "object",
                  "type": "string"
                },
                {
                  "name": "preco_dec",
                  "rawType": "float64",
                  "type": "float"
                }
              ],
              "ref": "3ee6a060-9133-4eb4-a069-907ee742ef5f",
              "rows": [
                [
                  "1",
                  "https://unifor.br",
                  "Título do produto 2",
                  "Lorem Ipsum Dolor amec ist dolor sit dum.",
                  "ID: x1555244",
                  "R$ 15,99",
                  "15.99"
                ]
              ],
              "shape": {
                "columns": 6,
                "rows": 1
              }
            },
            "text/html": [
              "<div>\n",
              "<style scoped>\n",
              "    .dataframe tbody tr th:only-of-type {\n",
              "        vertical-align: middle;\n",
              "    }\n",
              "\n",
              "    .dataframe tbody tr th {\n",
              "        vertical-align: top;\n",
              "    }\n",
              "\n",
              "    .dataframe thead th {\n",
              "        text-align: right;\n",
              "    }\n",
              "</style>\n",
              "<table border=\"1\" class=\"dataframe\">\n",
              "  <thead>\n",
              "    <tr style=\"text-align: right;\">\n",
              "      <th></th>\n",
              "      <th>link</th>\n",
              "      <th>titulo</th>\n",
              "      <th>descricao</th>\n",
              "      <th>codigo</th>\n",
              "      <th>preço</th>\n",
              "      <th>preco_dec</th>\n",
              "    </tr>\n",
              "  </thead>\n",
              "  <tbody>\n",
              "    <tr>\n",
              "      <th>1</th>\n",
              "      <td>https://unifor.br</td>\n",
              "      <td>Título do produto 2</td>\n",
              "      <td>Lorem Ipsum Dolor amec ist dolor sit dum.</td>\n",
              "      <td>ID: x1555244</td>\n",
              "      <td>R$ 15,99</td>\n",
              "      <td>15.99</td>\n",
              "    </tr>\n",
              "  </tbody>\n",
              "</table>\n",
              "</div>"
            ],
            "text/plain": [
              "                link               titulo  \\\n",
              "1  https://unifor.br  Título do produto 2   \n",
              "\n",
              "                                   descricao        codigo     preço  \\\n",
              "1  Lorem Ipsum Dolor amec ist dolor sit dum.  ID: x1555244  R$ 15,99   \n",
              "\n",
              "   preco_dec  \n",
              "1      15.99  "
            ]
          },
          "execution_count": 279,
          "metadata": {},
          "output_type": "execute_result"
        }
      ],
      "source": [
        "df.loc[df['titulo'].str.contains('produto 2')]"
      ]
    },
    {
      "cell_type": "code",
      "execution_count": null,
      "metadata": {
        "id": "tZcA9gu-ooiP"
      },
      "outputs": [],
      "source": [
        "### THATS ALL FOLKS!!!"
      ]
    },
    {
      "cell_type": "code",
      "execution_count": null,
      "metadata": {
        "id": "x1Ep_1Nk_zUA"
      },
      "outputs": [],
      "source": []
    }
  ],
  "metadata": {
    "colab": {
      "provenance": []
    },
    "kernelspec": {
      "display_name": "aula01",
      "language": "python",
      "name": "python3"
    },
    "language_info": {
      "codemirror_mode": {
        "name": "ipython",
        "version": 3
      },
      "file_extension": ".py",
      "mimetype": "text/x-python",
      "name": "python",
      "nbconvert_exporter": "python",
      "pygments_lexer": "ipython3",
      "version": "3.12.10"
    }
  },
  "nbformat": 4,
  "nbformat_minor": 0
}
